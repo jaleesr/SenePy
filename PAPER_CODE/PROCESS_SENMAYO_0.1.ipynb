{
 "cells": [
  {
   "cell_type": "code",
   "execution_count": 1,
   "id": "ef80b2ba",
   "metadata": {},
   "outputs": [],
   "source": [
    "import pandas as pd\n",
    "from scipy import stats"
   ]
  },
  {
   "cell_type": "code",
   "execution_count": 2,
   "id": "0fa13c4f",
   "metadata": {},
   "outputs": [],
   "source": [
    "senmayo = pd.read_csv('../data/gene_lists/senMayo.csv')"
   ]
  },
  {
   "cell_type": "code",
   "execution_count": 4,
   "id": "e42f3765",
   "metadata": {},
   "outputs": [],
   "source": [
    "with open('../data/gene_lists/mouse_markers.txt') as f:\n",
    "    mm = list(f)\n",
    "mm = [x for x in mm if not x.startswith('#') and ':' in x]\n",
    "mm = dict(map(lambda x: x.strip().split(':'), mm)) #dict marker:role\n",
    "mm = {k.upper(): v for k, v in mm.items()}\n",
    "\n",
    "with open('../data/gene_lists/human_markers.txt') as f:\n",
    "    hs = list(f)\n",
    "hs = [x for x in hs if not x.startswith('#') and ':' in x]\n",
    "hs = dict(map(lambda x: x.strip().split(':'), hs)) #dict marker:role\n",
    "hs = {k.upper(): v for k, v in hs.items()}"
   ]
  },
  {
   "cell_type": "code",
   "execution_count": 5,
   "id": "33c2bb11",
   "metadata": {},
   "outputs": [],
   "source": [
    "senmayo = senmayo['Gene(human)'].values"
   ]
  },
  {
   "cell_type": "code",
   "execution_count": 6,
   "id": "182fb9a4",
   "metadata": {},
   "outputs": [
    {
     "data": {
      "text/plain": [
       "array(['ACVR1B', 'ANG', 'ANGPT1', 'ANGPTL4', 'AREG', 'AXL', 'BEX3',\n",
       "       'BMP2', 'BMP6', 'C3', 'CCL1', 'CCL13', 'CCL16', 'CCL2', 'CCL20',\n",
       "       'CCL24', 'CCL26', 'CCL3', 'CCL3L1', 'CCL4', 'CCL5', 'CCL7', 'CCL8',\n",
       "       'CD55', 'CD9', 'CSF1', 'CSF2', 'CSF2RB', 'CST4', 'CTNNB1', 'CTSB',\n",
       "       'CXCL1', 'CXCL10', 'CXCL12', 'CXCL16', 'CXCL2', 'CXCL3', 'CXCL8',\n",
       "       'CXCR2', 'DKK1', 'EDN1', 'EGF', 'EGFR', 'EREG', 'ESM1', 'ETS2',\n",
       "       'FAS', 'FGF1', 'FGF2', 'FGF7', 'GDF15', 'GEM', 'GMFG', 'HGF',\n",
       "       'HMGB1', 'ICAM1', 'ICAM3', 'IGF1', 'IGFBP1', 'IGFBP2', 'IGFBP3',\n",
       "       'IGFBP4', 'IGFBP5', 'IGFBP6', 'IGFBP7', 'IL10', 'IL13', 'IL15',\n",
       "       'IL18', 'IL1A', 'IL1B', 'IL2', 'IL32', 'IL6', 'IL6ST', 'IL7',\n",
       "       'INHA', 'IQGAP2', 'ITGA2', 'ITPKA', 'JUN', 'KITLG', 'LCP1', 'MIF',\n",
       "       'MMP1', 'MMP10', 'MMP12', 'MMP13', 'MMP14', 'MMP2', 'MMP3', 'MMP9',\n",
       "       'NAP1L4', 'NRG1', 'PAPPA', 'PECAM1', 'PGF', 'PIGF', 'PLAT', 'PLAU',\n",
       "       'PLAUR', 'PTBP1', 'PTGER2', 'PTGES', 'RPS6KA5', 'SCAMP4', 'SELPLG',\n",
       "       'SEMA3F', 'SERPINB4', 'SERPINE1', 'SERPINE2', 'SPP1', 'SPX',\n",
       "       'TIMP2', 'TNF', 'TNFRSF10C', 'TNFRSF11B', 'TNFRSF1A', 'TNFRSF1B',\n",
       "       'TUBGCP2', 'VEGFA', 'VEGFC', 'VGF', 'WNT16', 'WNT2'], dtype=object)"
      ]
     },
     "execution_count": 6,
     "metadata": {},
     "output_type": "execute_result"
    }
   ],
   "source": [
    "senmayo"
   ]
  },
  {
   "cell_type": "code",
   "execution_count": 7,
   "id": "f3edd744",
   "metadata": {},
   "outputs": [
    {
     "data": {
      "text/plain": [
       "110"
      ]
     },
     "execution_count": 7,
     "metadata": {},
     "output_type": "execute_result"
    }
   ],
   "source": [
    "len(mm)"
   ]
  },
  {
   "cell_type": "code",
   "execution_count": 8,
   "id": "47f5fcfa",
   "metadata": {},
   "outputs": [
    {
     "data": {
      "text/plain": [
       "51"
      ]
     },
     "execution_count": 8,
     "metadata": {},
     "output_type": "execute_result"
    }
   ],
   "source": [
    "len([x for x in senmayo if x in list(mm)])"
   ]
  },
  {
   "cell_type": "code",
   "execution_count": 9,
   "id": "9f9e1669",
   "metadata": {},
   "outputs": [
    {
     "data": {
      "text/plain": [
       "59"
      ]
     },
     "execution_count": 9,
     "metadata": {},
     "output_type": "execute_result"
    }
   ],
   "source": [
    "len([x for x in list(mm) if x not in senmayo])"
   ]
  },
  {
   "cell_type": "code",
   "execution_count": 10,
   "id": "963fe1c9",
   "metadata": {},
   "outputs": [
    {
     "data": {
      "text/plain": [
       "74"
      ]
     },
     "execution_count": 10,
     "metadata": {},
     "output_type": "execute_result"
    }
   ],
   "source": [
    "len([x for x in senmayo if x not in list(mm)])"
   ]
  },
  {
   "cell_type": "code",
   "execution_count": 11,
   "id": "4da37bfa",
   "metadata": {},
   "outputs": [
    {
     "data": {
      "text/plain": [
       "184"
      ]
     },
     "execution_count": 11,
     "metadata": {},
     "output_type": "execute_result"
    }
   ],
   "source": [
    "len(set(senmayo.tolist() + list(mm)))"
   ]
  },
  {
   "cell_type": "code",
   "execution_count": 12,
   "id": "2475ea8b",
   "metadata": {},
   "outputs": [
    {
     "data": {
      "text/plain": [
       "6.385973162355635e-94"
      ]
     },
     "execution_count": 12,
     "metadata": {},
     "output_type": "execute_result"
    }
   ],
   "source": [
    "stats.hypergeom.sf(52-1, 25000, 110, 125)"
   ]
  },
  {
   "cell_type": "code",
   "execution_count": null,
   "id": "4f9c453b",
   "metadata": {},
   "outputs": [],
   "source": []
  }
 ],
 "metadata": {
  "kernelspec": {
   "display_name": "Python 3 (ipykernel)",
   "language": "python",
   "name": "python3"
  },
  "language_info": {
   "codemirror_mode": {
    "name": "ipython",
    "version": 3
   },
   "file_extension": ".py",
   "mimetype": "text/x-python",
   "name": "python",
   "nbconvert_exporter": "python",
   "pygments_lexer": "ipython3",
   "version": "3.10.4"
  }
 },
 "nbformat": 4,
 "nbformat_minor": 5
}
