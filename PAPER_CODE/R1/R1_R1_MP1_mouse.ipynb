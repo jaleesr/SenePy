{
 "cells": [
  {
   "cell_type": "code",
   "execution_count": 1,
   "id": "b7db6168-9293-481d-9f78-88760eb216e0",
   "metadata": {},
   "outputs": [],
   "source": [
    "import scanpy as sc\n",
    "import numpy as np\n",
    "import pandas as pd\n",
    "import seaborn as sns\n",
    "import matplotlib.pyplot as plt\n",
    "from scipy import stats\n",
    "from tqdm import tqdm\n",
    "from sklearn.preprocessing import StandardScaler\n",
    "import os\n",
    "\n",
    "import itertools\n",
    "\n",
    "import random\n",
    "\n",
    "import senepy as sp"
   ]
  },
  {
   "cell_type": "code",
   "execution_count": 2,
   "id": "b1bce87b-fb2e-4878-a18e-0131da1dbe62",
   "metadata": {},
   "outputs": [],
   "source": [
    "import time\n",
    "import numba as nb\n"
   ]
  },
  {
   "cell_type": "code",
   "execution_count": null,
   "id": "fc0d36ea-4f89-45be-8239-3457ebe469d4",
   "metadata": {},
   "outputs": [],
   "source": []
  },
  {
   "cell_type": "code",
   "execution_count": 3,
   "id": "02a3de09-ffde-4c1b-89fd-f047a3e51242",
   "metadata": {},
   "outputs": [],
   "source": [
    "adata = sc.read_h5ad('../../data/tms/tms-scVI-raw-data_BDATA.h5ad')"
   ]
  },
  {
   "cell_type": "code",
   "execution_count": 4,
   "id": "167d5f76-ad17-4258-8fe2-10804481ac15",
   "metadata": {},
   "outputs": [],
   "source": [
    "cell_counts = pd.read_pickle('../../data/files/5_ALL_GENE_cell_counts_TMS.pickle')"
   ]
  },
  {
   "cell_type": "code",
   "execution_count": 9,
   "id": "344b4a55-ec6e-4cdc-abc0-b527034b3d73",
   "metadata": {},
   "outputs": [],
   "source": [
    "!mkdir permutation_output"
   ]
  },
  {
   "cell_type": "markdown",
   "id": "ba19f488-fac1-4731-a988-d0eac2f02c1e",
   "metadata": {},
   "source": [
    "#### we will create a null distribution based on random permutation of gene expression within genes\n",
    "ie, gene values are shuffled acrross cells but not between genes\n",
    "\n",
    "but make sure only shuffled within cell types\n",
    "\n",
    "permutations are processed by do_mouse_permutations.py"
   ]
  },
  {
   "cell_type": "code",
   "execution_count": null,
   "id": "cfeaaa91-9937-4b18-9817-00f6de8a3427",
   "metadata": {},
   "outputs": [],
   "source": []
  },
  {
   "cell_type": "code",
   "execution_count": 5,
   "id": "beb2c55d-2f81-4a96-b13c-87a92319e04a",
   "metadata": {},
   "outputs": [],
   "source": [
    "def filter_cell_stats(df): #these are all fractions, not percents\n",
    "    df = df[df.start < 0.05] #starts below 5%\n",
    "    df = df[df.end < 0.2] #ends below 20%\n",
    "    df = df[df.end > 0.01] #no genes that end below 1%\n",
    "    \n",
    "    df = df[df.gain > .005] #gains at least 0.5%\n",
    "    df = df[(df.ratio > 2.5) | (df.gain > .05)] #raito of at least 2\n",
    "    return df\n",
    "\n",
    "def soft_filter(df): #soft filter to get rid of most values for faster calculations\n",
    "    df = df[df.start < 0.1] #starts below 10%\n",
    "    df = df[df.end < 0.4] #ends below 40%\n",
    "    df = df[df.end > 0.01] #no genes that end below 1%\n",
    "    \n",
    "    df = df[df.gain > .005] #gains at least 0.5%\n",
    "    df = df[(df.ratio > 1.5) | (df.gain > .025)]\n",
    "    return df"
   ]
  },
  {
   "cell_type": "code",
   "execution_count": null,
   "id": "4a1835ec-fd8e-4d4c-8c27-e06028428f2e",
   "metadata": {},
   "outputs": [],
   "source": []
  },
  {
   "cell_type": "code",
   "execution_count": 3,
   "id": "8d4a5109-69d8-424e-8252-0aa63a40b797",
   "metadata": {},
   "outputs": [],
   "source": [
    "#this makes it easier for multiprocessing so dont have to load entire adata each thread\n",
    "# for thing in list(hubs.hubs):\n",
    "#     tissue, cell = thing\n",
    "#     cdata = adata[(adata.obs.tissue2 == tissue) &\\\n",
    "#                         (adata.obs.cell_type_2 == cell)]\n",
    "\n",
    "#     f = f'temp_adata_subs/{tissue}_{cell}.h5ad'\n",
    "#     f = f.replace(' ', '_')\n",
    "#     cdata.write_h5ad(f)\n",
    "#     print(f)"
   ]
  },
  {
   "cell_type": "code",
   "execution_count": 10,
   "id": "8d71fbba-74f2-4a6a-93be-a4dd27eea8f1",
   "metadata": {},
   "outputs": [
    {
     "name": "stdout",
     "output_type": "stream",
     "text": [
      "temp_adata_subs/Bladder_bladder_urothelial_cell.h5ad\n",
      "temp_adata_subs/Kidney_collecting_duct_epithelial_cell.h5ad\n",
      "temp_adata_subs/Large_Intestine_enterocyte.h5ad\n",
      "temp_adata_subs/Limb_Muscle_endothelial_cell.h5ad\n",
      "temp_adata_subs/Limb_Muscle_mesenchymal_stem_cell.h5ad\n",
      "temp_adata_subs/Lung_adventitial_cell.h5ad\n",
      "temp_adata_subs/Lung_smooth_muscle_cell.h5ad\n",
      "temp_adata_subs/Lymphoid_naive_T_cell.h5ad\n",
      "temp_adata_subs/Lymphoid_immature_T_cell.h5ad\n",
      "temp_adata_subs/Mammary_Gland_endothelial_cell.h5ad\n",
      "temp_adata_subs/Mammary_Gland_luminal_epithelial_cell_of_mammary_gland.h5ad\n",
      "temp_adata_subs/Mammary_Gland_basal_cell.h5ad\n",
      "temp_adata_subs/Mammary_Gland_macrophage.h5ad\n",
      "temp_adata_subs/Mammary_Gland_stromal_cell.h5ad\n",
      "temp_adata_subs/Myeloid_granulocyte.h5ad\n",
      "temp_adata_subs/Myeloid_myloid_progenitor.h5ad\n"
     ]
    }
   ],
   "source": [
    "# #doing the same for additional mouse perms needed for Fig 1, the ones that don't have senepy signatures\n",
    "\n",
    "# amp = pd.read_csv('additional_mouse_perms.csv', index_col=0)\n",
    "\n",
    "# for tissue, cell in zip(amp.tissue, amp.cell_type_2):\n",
    "#     cdata = adata[(adata.obs.tissue2 == tissue) &\\\n",
    "#                         (adata.obs.cell_type_2 == cell)]\n",
    "#     f = f'temp_adata_subs/{tissue}_{cell}.h5ad'\n",
    "#     f = f.replace(' ', '_')\n",
    "#     cdata.write_h5ad(f)\n",
    "#     print(f)"
   ]
  },
  {
   "cell_type": "code",
   "execution_count": null,
   "id": "e6da1e09-bf81-45e7-865c-759d3bf28e7b",
   "metadata": {},
   "outputs": [],
   "source": []
  },
  {
   "cell_type": "code",
   "execution_count": null,
   "id": "4c47c101-24d7-424a-a4d4-55a8bd76f7af",
   "metadata": {},
   "outputs": [],
   "source": []
  },
  {
   "cell_type": "code",
   "execution_count": 6,
   "id": "b6e74bdb-d03e-41e9-88da-a276d53b7e05",
   "metadata": {},
   "outputs": [],
   "source": [
    "def get_stats(test):\n",
    "    age_grouped = test.groupby('age', observed = True)\n",
    "    \n",
    "    # Create a lookup dictionary for counts and gene expression by age\n",
    "    counts = age_grouped['Count'].first().to_dict()\n",
    "    gene_expression = age_grouped.first().to_dict()\n",
    "    \n",
    "    ages = ['1m', '3m', '18m', '21m', '24m', '30m']\n",
    "    out = []\n",
    "    for gene in test.columns[4:]:\n",
    "        if gene == 'age' or gene == 'Count':\n",
    "            continue\n",
    "        \n",
    "        age_data = {}\n",
    "        for age in ages:\n",
    "            age_data[f'c{age}'] = counts.get(age, 0)\n",
    "            age_data[f'f{age}'] = gene_expression.get(gene, {}).get(age, 0)\n",
    "        \n",
    "        # Compute young_start and old_end\n",
    "        if age_data['c3m'] > 200:\n",
    "            young_start = age_data['f3m']\n",
    "        else:\n",
    "            young_start = (age_data['c3m'] * age_data['f3m'] + age_data['c1m'] * age_data['f1m']) / (age_data['c3m'] + age_data['c1m'])\n",
    "\n",
    "\n",
    "        #need fix for mammary because mammary is the only one without 24m and 30m, using 21m instead\n",
    "        if age_data['c30m'] > 200:\n",
    "            old_end = age_data['f30m']\n",
    "        elif test.iloc[0].tissue2 != 'Mammary_Gland':\n",
    "            old_end = (age_data['c30m'] * age_data['f30m'] + age_data['c24m'] * age_data['f24m']) / (age_data['c30m'] + age_data['c24m'])\n",
    "        else:\n",
    "            old_end = (age_data['c21m'] * age_data['f21m']) / (age_data['c21m'])\n",
    "\n",
    "        \n",
    "        # if age_data['c30m'] > 200:\n",
    "        #     old_end = age_data['f30m']\n",
    "        # else:\n",
    "        #     old_end = (age_data['c30m'] * age_data['f30m'] + age_data['c24m'] * age_data['f24m']) / (age_data['c30m'] + age_data['c24m'])\n",
    "    \n",
    "        # Calculate old_gain and old_ratio\n",
    "        old_gain = old_end - young_start\n",
    "        old_ratio = old_end / young_start if young_start != 0 else 0\n",
    "        \n",
    "        # Append results to output\n",
    "        out.append([gene, young_start, old_end, old_gain, old_ratio])\n",
    "    \n",
    "    # Convert the output to DataFrame\n",
    "    out_df = pd.DataFrame(out, columns=['gene', 'start', 'end', 'gain', 'ratio'])\n",
    "\n",
    "    return out_df\n"
   ]
  },
  {
   "cell_type": "code",
   "execution_count": null,
   "id": "1fb27ea0-cbbe-4515-bfe5-54c01b1cfc01",
   "metadata": {},
   "outputs": [],
   "source": []
  },
  {
   "cell_type": "code",
   "execution_count": null,
   "id": "8b20cb8b-55c1-4d0a-a0d5-f343daeedf9d",
   "metadata": {},
   "outputs": [],
   "source": []
  },
  {
   "cell_type": "code",
   "execution_count": null,
   "id": "f006ec10-56e5-41e3-bcc3-dea8002c36af",
   "metadata": {},
   "outputs": [],
   "source": []
  },
  {
   "cell_type": "code",
   "execution_count": null,
   "id": "acea1a38-89f1-47f3-a3cd-762ea5d04335",
   "metadata": {},
   "outputs": [],
   "source": []
  },
  {
   "cell_type": "code",
   "execution_count": 7,
   "id": "e54c88bf-2f36-4638-90c8-c9c0633e1cde",
   "metadata": {},
   "outputs": [
    {
     "data": {
      "text/plain": [
       "62"
      ]
     },
     "execution_count": 7,
     "metadata": {},
     "output_type": "execute_result"
    }
   ],
   "source": [
    "with open('better_input_list_mouse.txt', 'r') as f:\n",
    "    input_list = [x.strip().split('.') for x in list(f) if 'unknown' not in x]\n",
    "\n",
    "len(input_list)"
   ]
  },
  {
   "cell_type": "code",
   "execution_count": 56,
   "id": "8927b8db-9f7e-447f-81b0-65d16c36288d",
   "metadata": {},
   "outputs": [
    {
     "data": {
      "text/plain": [
       "47"
      ]
     },
     "execution_count": 56,
     "metadata": {},
     "output_type": "execute_result"
    }
   ],
   "source": [
    "#check progress\n",
    "# hubs = sp.load_hubs(species='Mouse', sig_type='cell_type')\n",
    "# input_list = [list(x) for x in list(hubs.hubs)]\n",
    "# len(input_list)"
   ]
  },
  {
   "cell_type": "code",
   "execution_count": null,
   "id": "e4fe581a-3d87-4692-a23c-1e14367d8073",
   "metadata": {},
   "outputs": [],
   "source": []
  },
  {
   "cell_type": "code",
   "execution_count": null,
   "id": "f572dce0-af67-4454-b0b5-d1b4dcbbc145",
   "metadata": {},
   "outputs": [],
   "source": []
  },
  {
   "cell_type": "code",
   "execution_count": null,
   "id": "2317850e-a419-4bc7-998c-c5135a1bc188",
   "metadata": {},
   "outputs": [],
   "source": []
  },
  {
   "cell_type": "code",
   "execution_count": null,
   "id": "500e5341-c58f-4a29-8d07-823a810aa100",
   "metadata": {},
   "outputs": [],
   "source": []
  },
  {
   "cell_type": "code",
   "execution_count": 62,
   "id": "54382ea9-27c8-4884-8ddb-0fcee6d1863c",
   "metadata": {},
   "outputs": [
    {
     "name": "stdout",
     "output_type": "stream",
     "text": [
      "Limb_Muscle smooth muscle cell 1001\n",
      "Myeloid monocyte 1001\n",
      "Large_Intestine goblet cell 1001\n",
      "Skin epidermal cell 1001\n",
      "Heart_and_Aorta myocyte 1001\n",
      "Lymphoid T cell 3003\n",
      "Lung fibroblast 1001\n",
      "Heart_and_Aorta endocardial cell 1001\n",
      "Thymus thymocyte 1001\n",
      "Diaphragm mesenchymal stem cell 1001\n",
      "Kidney macrophage 1001\n",
      "Skin basal cell of epidermis 11\n",
      "Lung alveolar macrophage 1001\n",
      "Bladder endothelial cell 1001\n",
      "Heart_and_Aorta fibroblast 1001\n",
      "Liver hepatocyte 1001\n",
      "Liver Kupffer cell 1001\n",
      "Fat endothelial cell 1001\n",
      "Limb_Muscle mesenchymal stem cell 1001\n",
      "Lymphoid naive T cell 1001\n",
      "Trachea fibroblast 1001\n",
      "Tongue keratinocyte 1001\n",
      "Myeloid granulocyte 1001\n",
      "Myeloid macrophage 1001\n",
      "Brain microglial cell 11\n",
      "Kidney fenestrated cell 1001\n",
      "Large_Intestine secretory cell 1001\n",
      "Kidney collecting duct principal cell 1001\n",
      "Skin bulge keratinocyte 13\n",
      "Large_Intestine crypt stem cell 29\n",
      "Bladder bladder urothelial cell 1001\n",
      "HSC hematopoietic stem cell 1001\n",
      "Pancreas pancreatic ductal cell 1001\n",
      "Kidney epithelial cell of proximal tubule 1001\n",
      "Myeloid myloid progenitor 1001\n",
      "Liver endothelial cell of hepatic sinusoid 1001\n",
      "Heart_and_Aorta endothelial cell 1001\n",
      "Kidney distal convoluted tubule epithelial cell 1001\n",
      "Brain neuron 15\n",
      "Large_Intestine enterocyte 1001\n",
      "Lung smooth muscle cell 1001\n",
      "Large_Intestine epithelial cell 1001\n",
      "Limb_Muscle endothelial cell 1001\n",
      "Limb_Muscle skeletal muscle satellite cell 1001\n",
      "Pancreas pancreatic A cell 1001\n",
      "Diaphragm skeletal muscle satellite cell 1001\n",
      "Trachea macrophage 1001\n",
      "Brain endothelial cell 1001\n",
      "Kidney proximal convoluted tubule epithelial cell 1001\n",
      "Pancreas pancreatic B cell 24\n",
      "Tongue basal cell 1001\n",
      "Limb_Muscle macrophage 1001\n",
      "Pancreas pancreatic acinar cell 24\n",
      "Heart_and_Aorta smooth muscle cell 1001\n",
      "Lymphoid B cell 1001\n",
      "Kidney podocyte 1001\n",
      "Brain oligodendrocyte 1001\n",
      "Fat mesenchymal stem cell 1001\n",
      "Bladder bladder cell 1001\n",
      "Trachea basal cell 1001\n",
      "Lymphoid NK cell 1001\n",
      "Kidney Henle thick ascending limb epithelial cell 1001\n",
      "####\n",
      "Done 63191 of 62000 (101.9%)\n",
      "Using 7 cpu\n"
     ]
    }
   ],
   "source": [
    "files = ['permutation_output/' + x for x in os.listdir('permutation_output/')]\n",
    "cpu = 0\n",
    "for tissue, cell in input_list:\n",
    "    r = [x for x in files if tissue in x and cell in x]\n",
    "    print(tissue, cell, len(r))\n",
    "    current = len(files)\n",
    "    expected = len(input_list)* 1000\n",
    "    if len(r) < 1000 and cpu < 40:\n",
    "        cpu += 1\n",
    "print(\"####\")\n",
    "print(f'Done {current} of {expected} ({round(current/expected * 100,1)}%)')\n",
    "print(f'Using {cpu} cpu')"
   ]
  },
  {
   "cell_type": "code",
   "execution_count": 60,
   "id": "c825279c-1876-4206-947b-abc5c7061345",
   "metadata": {},
   "outputs": [
    {
     "name": "stdout",
     "output_type": "stream",
     "text": [
      "Bladder bladder urothelial cell 119\n",
      "Kidney collecting duct epithelial cell 214\n",
      "Large_Intestine enterocyte 193\n",
      "Limb_Muscle endothelial cell 163\n",
      "Limb_Muscle mesenchymal stem cell 135\n",
      "Lung adventitial cell 122\n",
      "Lung smooth muscle cell 146\n",
      "Lymphoid naive T cell 236\n",
      "Lymphoid immature T cell 233\n",
      "Mammary_Gland endothelial cell 137\n",
      "Mammary_Gland luminal epithelial cell of mammary gland 98\n",
      "Mammary_Gland basal cell 93\n",
      "Mammary_Gland macrophage 151\n",
      "Mammary_Gland stromal cell 106\n",
      "Myeloid granulocyte 143\n",
      "Myeloid myloid progenitor 183\n",
      "####\n",
      "Done 49520 of 16000 (309.5%)\n",
      "Using 16 cpu\n"
     ]
    }
   ],
   "source": [
    "files = ['permutation_output/' + x for x in os.listdir('permutation_output/')]\n",
    "cpu = 0\n",
    "\n",
    "the_things = list(zip(amp.tissue, amp.cell_type_2))\n",
    "\n",
    "for tissue, cell in the_things:\n",
    "    r = [x for x in files if tissue in x and cell in x]\n",
    "    print(tissue, cell, len(r))\n",
    "    current = len(files)\n",
    "    expected = len(the_things)* 1000\n",
    "    if len(r) < 1000 and cpu < 40:\n",
    "        cpu += 1\n",
    "print(\"####\")\n",
    "print(f'Done {current} of {expected} ({round(current/expected * 100,1)}%)')\n",
    "print(f'Using {cpu} cpu')"
   ]
  },
  {
   "cell_type": "code",
   "execution_count": null,
   "id": "16a50a02-db99-4fe2-9fd4-1482990eda76",
   "metadata": {},
   "outputs": [],
   "source": []
  },
  {
   "cell_type": "code",
   "execution_count": null,
   "id": "b18ce10d-af09-4100-b1e4-b751f2037c33",
   "metadata": {},
   "outputs": [],
   "source": []
  },
  {
   "cell_type": "code",
   "execution_count": null,
   "id": "05737894-6d30-448a-9b19-0987b1a1991c",
   "metadata": {},
   "outputs": [],
   "source": []
  },
  {
   "cell_type": "code",
   "execution_count": null,
   "id": "7a3baf50-b3fd-4cc7-97d6-fbbc2e85c7a5",
   "metadata": {},
   "outputs": [],
   "source": []
  },
  {
   "cell_type": "code",
   "execution_count": null,
   "id": "6b3156e4-2337-44ef-ab43-ec6384166cc7",
   "metadata": {},
   "outputs": [],
   "source": []
  },
  {
   "cell_type": "markdown",
   "id": "a8ad9358-a066-4c88-b321-60bd3068f26b",
   "metadata": {},
   "source": [
    "## weighted test"
   ]
  },
  {
   "cell_type": "code",
   "execution_count": 8,
   "id": "d12c6611-2d35-4b16-b95a-ca4fc5a55a54",
   "metadata": {},
   "outputs": [],
   "source": [
    "\n",
    "#cap ratio at 2.5 so that it doesn't skew the results largley for imputed or low starting counts\n",
    "@nb.njit\n",
    "def ratio_function(x):\n",
    "    if x < 2.5:\n",
    "        return x\n",
    "\n",
    "    return 2.5\n",
    "    \n",
    "    \n"
   ]
  },
  {
   "cell_type": "code",
   "execution_count": 10,
   "id": "32be0675-b6ca-4452-805a-703181d9ad7a",
   "metadata": {},
   "outputs": [
    {
     "data": {
      "text/plain": [
       "-46.5"
      ]
     },
     "execution_count": 10,
     "metadata": {},
     "output_type": "execute_result"
    }
   ],
   "source": [
    "\n",
    "@nb.njit\n",
    "def end_function(x): #or is this end function?\n",
    "    x = x*100\n",
    "    if x <= 0:\n",
    "        return 0\n",
    "    elif 0 < x <= 3:\n",
    "        #return (1/3)*x\n",
    "        return increasing_logistic_function(x, 2, 0)\n",
    "    elif 3 < x <= 20:\n",
    "        return 1\n",
    "    elif 20 < x <= 100:\n",
    "        return -(1/4)*x + 6 #y = 1 at 20\n",
    "    else:\n",
    "        return 0\n",
    "\n",
    "@nb.njit\n",
    "def gain_function(x):\n",
    "\n",
    "    x = x*100\n",
    "    if x < 5:\n",
    "        return x/5\n",
    "    \n",
    "    if x > 15:\n",
    "        return -x/5 + 4\n",
    "\n",
    "    return 1\n",
    "\n",
    "@nb.njit\n",
    "def start_function(x):\n",
    "    x = x*100\n",
    "    if x < 5:\n",
    "        return 1\n",
    "    \n",
    "    return -x/2 + 3.5\n",
    "\n",
    "\n",
    "\n",
    "end_function(1)\n",
    "ratio_function(1)\n",
    "gain_function(1)\n",
    "start_function(1)"
   ]
  },
  {
   "cell_type": "code",
   "execution_count": null,
   "id": "c1315bbe-1396-4848-9957-3a3af583ea6a",
   "metadata": {},
   "outputs": [],
   "source": []
  },
  {
   "cell_type": "code",
   "execution_count": 11,
   "id": "ab37e726-243c-41e3-a87e-2681b2990096",
   "metadata": {},
   "outputs": [
    {
     "data": {
      "image/png": "[encoded data removed]",
      "text/plain": [
       "<Figure size 640x480 with 1 Axes>"
      ]
     },
     "metadata": {},
     "output_type": "display_data"
    }
   ],
   "source": [
    "# start\n",
    "test_values = np.linspace(0, .2, 200)\n",
    "y_values = np.array([start_function(x) for x in test_values])\n",
    "\n",
    "plt.plot(test_values, y_values, label='start Function')\n",
    "plt.xlabel('x')\n",
    "plt.ylabel('f(x)')\n",
    "plt.grid(True)\n",
    "plt.legend()\n",
    "plt.show()"
   ]
  },
  {
   "cell_type": "code",
   "execution_count": 12,
   "id": "00ed08ee-fbd3-4447-aa53-31b648282192",
   "metadata": {},
   "outputs": [
    {
     "data": {
      "image/png": "[encoded data removed]",
      "text/plain": [
       "<Figure size 640x480 with 1 Axes>"
      ]
     },
     "metadata": {},
     "output_type": "display_data"
    }
   ],
   "source": [
    "# gain\n",
    "test_values = np.linspace(0, .5, 200)\n",
    "y_values = np.array([gain_function(x) for x in test_values])\n",
    "\n",
    "plt.plot(test_values, y_values, label='gain Function')\n",
    "plt.xlabel('x')\n",
    "plt.ylabel('f(x)')\n",
    "plt.grid(True)\n",
    "plt.legend()\n",
    "plt.show()"
   ]
  },
  {
   "cell_type": "code",
   "execution_count": null,
   "id": "40df8204-061c-4899-a8be-fccbff0e00db",
   "metadata": {},
   "outputs": [],
   "source": []
  },
  {
   "cell_type": "code",
   "execution_count": null,
   "id": "813dd0bb-d5ac-4d0e-98b9-e0bf86c7d232",
   "metadata": {},
   "outputs": [],
   "source": []
  },
  {
   "cell_type": "code",
   "execution_count": 13,
   "id": "74560675-8b9e-4f2a-bc86-ffdd717ce0fc",
   "metadata": {},
   "outputs": [
    {
     "data": {
      "image/png": "[encoded data removed]",
      "text/plain": [
       "<Figure size 640x480 with 1 Axes>"
      ]
     },
     "metadata": {},
     "output_type": "display_data"
    }
   ],
   "source": [
    "# end\n",
    "test_values = np.linspace(0, 0.5, 200)\n",
    "y_values = np.array([end_function(x) for x in test_values])\n",
    "\n",
    "plt.plot(test_values, y_values, label='End Function')\n",
    "plt.xlabel('x')\n",
    "plt.ylabel('f(x)')\n",
    "plt.grid(True)\n",
    "plt.legend()\n",
    "plt.show()"
   ]
  },
  {
   "cell_type": "code",
   "execution_count": null,
   "id": "27dab608-6d9e-4e05-a4af-3a2ab6d35cb3",
   "metadata": {},
   "outputs": [],
   "source": []
  },
  {
   "cell_type": "code",
   "execution_count": null,
   "id": "9bfa8c10-8d99-45ee-9650-65b68851f350",
   "metadata": {},
   "outputs": [],
   "source": []
  },
  {
   "cell_type": "code",
   "execution_count": null,
   "id": "b71832a6-b8ed-401c-be65-5e97e2c30232",
   "metadata": {},
   "outputs": [],
   "source": []
  },
  {
   "cell_type": "code",
   "execution_count": null,
   "id": "b3b49559-b880-4523-a913-1ee7b6527dfd",
   "metadata": {},
   "outputs": [],
   "source": []
  },
  {
   "cell_type": "code",
   "execution_count": null,
   "id": "26d82b14-29ab-46b9-8e37-085fb3e480a1",
   "metadata": {},
   "outputs": [],
   "source": []
  },
  {
   "cell_type": "code",
   "execution_count": 14,
   "id": "38320a87-44f0-456f-98a3-e7f8b8fc0a2a",
   "metadata": {},
   "outputs": [],
   "source": [
    "def jaccard_index(set1, set2):\n",
    "    intersection = len(set1.intersection(set2))\n",
    "    union = len(set1.union(set2))\n",
    "    return intersection / union"
   ]
  },
  {
   "cell_type": "code",
   "execution_count": 15,
   "id": "56a7dbd5-9d0f-414a-8c34-77c0c1d8979c",
   "metadata": {},
   "outputs": [],
   "source": [
    "\n",
    "def filter_cell_stats(df): #OG filtering just for comparison purpose\n",
    "    cf = df.copy()\n",
    "    cf = cf[cf.start < 0.05] #starts below 5%\n",
    "    cf = cf[cf.end < 0.2] #ends below 20%\n",
    "    cf = cf[cf.end > 0.01] #no genes that end below 1%\n",
    "    \n",
    "    cf = cf[cf.gain > .005] #gains at least 0.5%\n",
    "    cf = cf[(cf.ratio > 2.5) | (cf.gain > .05)] #raito of at least 2\n",
    "    return df.gene.isin(cf.gene)\n",
    "\n",
    "# def soft_stats(df):\n",
    "#     df['soft_start'] = df.start.map(start_function)\n",
    "#     df['soft_end'] = df.end.map(end_function)\n",
    "#     df['soft_gain'] = df.gain.map(gain_function)\n",
    "#     df['soft_ratio'] = df.ratio.map(ratio_function)\n",
    "\n",
    "#     # df['soft_start'] = df['soft_start'].map(lambda x: round(x, 4))\n",
    "#     # df['soft_end'] = df['soft_end'].map(lambda x: round(x, 4))\n",
    "\n",
    "#     return df\n",
    "\n",
    "\n",
    "def soft_stats(df):\n",
    "    df['soft_start'] = np.vectorize(start_function)(df['start'].values)\n",
    "    df['soft_end'] = np.vectorize(end_function)(df['end'].values)\n",
    "    df['soft_gain'] = np.vectorize(gain_function)(df['gain'].values)\n",
    "    df['soft_ratio'] = np.vectorize(ratio_function)(df['ratio'].values)\n",
    "\n",
    "    # df['soft_start'] = df['soft_start'].map(lambda x: round(x, 4))\n",
    "    # df['soft_end'] = df['soft_end'].map(lambda x: round(x, 4))\n",
    "\n",
    "    return df"
   ]
  },
  {
   "cell_type": "code",
   "execution_count": null,
   "id": "301e17df-e031-410e-be18-029eeb9fa772",
   "metadata": {},
   "outputs": [],
   "source": []
  },
  {
   "cell_type": "code",
   "execution_count": null,
   "id": "93e6af6b-cad7-4242-a851-77af7c40c6cf",
   "metadata": {},
   "outputs": [],
   "source": []
  },
  {
   "cell_type": "code",
   "execution_count": 16,
   "id": "0905f032-c221-4ef1-b7ed-a4ae60551334",
   "metadata": {},
   "outputs": [
    {
     "data": {
      "text/plain": [
       "62"
      ]
     },
     "execution_count": 16,
     "metadata": {},
     "output_type": "execute_result"
    }
   ],
   "source": [
    "len(input_list)"
   ]
  },
  {
   "cell_type": "code",
   "execution_count": null,
   "id": "62c67372-b166-4e99-8611-a87400180b5d",
   "metadata": {},
   "outputs": [],
   "source": []
  },
  {
   "cell_type": "code",
   "execution_count": null,
   "id": "452bc858-8c64-4354-9ea0-bcd8162cfd39",
   "metadata": {},
   "outputs": [],
   "source": []
  },
  {
   "cell_type": "code",
   "execution_count": 48,
   "id": "78f7b9db-4a3b-40a7-b18b-fdbe06045ac1",
   "metadata": {},
   "outputs": [
    {
     "name": "stderr",
     "output_type": "stream",
     "text": [
      "100%|███████████████████████████████████████████| 62/62 [02:56<00:00,  2.85s/it]\n"
     ]
    }
   ],
   "source": [
    "#combine into feather for faster loading\n",
    "for tissue, cell in tqdm(input_list):\n",
    "    s = 'permutation_output/' + tissue + '.' + cell + '.feather'\n",
    "\n",
    "    if not os.path.exists(s):\n",
    "        perm_files = ['permutation_output/' + x for x in os.listdir('permutation_output/') if tissue in x and cell in x and 'feather' not in x]\n",
    "        nulls = pd.concat([pd.read_csv(x, index_col=0) for x in perm_files]).reset_index(drop = True)\n",
    "        nulls.to_feather(s)"
   ]
  },
  {
   "cell_type": "code",
   "execution_count": null,
   "id": "78940398-76b7-4b9c-a673-9b0281cf5c5f",
   "metadata": {},
   "outputs": [],
   "source": []
  },
  {
   "cell_type": "code",
   "execution_count": null,
   "id": "f6804e68-4c7c-460b-9f20-07f50ea0e1bf",
   "metadata": {},
   "outputs": [],
   "source": []
  },
  {
   "cell_type": "code",
   "execution_count": 75,
   "id": "dce1890b-3156-4b16-b1ce-6551f81e056b",
   "metadata": {},
   "outputs": [
    {
     "name": "stderr",
     "output_type": "stream",
     "text": [
      "100%|███████████████████████████████████████████| 16/16 [03:20<00:00, 12.55s/it]\n"
     ]
    }
   ],
   "source": [
    "add_list = [list(x) for x in zip(amp.tissue, amp.cell_type_2)]\n",
    "\n",
    "#combine into feather for faster loading\n",
    "for tissue, cell in tqdm(add_list):\n",
    "    s = 'permutation_output/' + tissue + '.' + cell + '.feather'\n",
    "    perm_files = ['permutation_output/' + x for x in os.listdir('permutation_output/') if tissue in x and cell in x]\n",
    "    nulls = pd.concat([pd.read_csv(x, index_col=0) for x in perm_files]).reset_index(drop = True)\n",
    "    nulls.to_feather(s)"
   ]
  },
  {
   "cell_type": "code",
   "execution_count": null,
   "id": "f2d5bd56-7990-4e1a-b6c3-0737775c98e1",
   "metadata": {},
   "outputs": [],
   "source": []
  },
  {
   "cell_type": "code",
   "execution_count": null,
   "id": "18a3dfce-39e9-4a5b-bdc5-2d72a796ad73",
   "metadata": {},
   "outputs": [],
   "source": []
  },
  {
   "cell_type": "code",
   "execution_count": 62,
   "id": "1d4ed64c-6bb9-4b88-b72e-3d946ec93c23",
   "metadata": {},
   "outputs": [],
   "source": [
    "#couple cell types had space at end and required this fix\n",
    "cell_counts.cell_type_2 = cell_counts.cell_type_2.map(lambda x: x.strip())\n",
    "adata.obs.cell_type_2 = adata.obs.cell_type_2.map(lambda x: x.strip())"
   ]
  },
  {
   "cell_type": "code",
   "execution_count": null,
   "id": "df3015e7-1bb0-4b4d-adb8-d2cf37241ad8",
   "metadata": {},
   "outputs": [],
   "source": []
  },
  {
   "cell_type": "code",
   "execution_count": 332,
   "id": "beb39b70-d38b-4334-aa5c-a037abc9cbd4",
   "metadata": {},
   "outputs": [],
   "source": [
    "#Trachea.fibroblast\n",
    "#Skin.epidermal cell\n",
    "#testers\n",
    "#testers = [('Trachea', 'fibroblast'), ('Skin', 'epidermal cell')]"
   ]
  },
  {
   "cell_type": "code",
   "execution_count": 64,
   "id": "cdd801c3-6301-4a3d-98d9-0aa091049159",
   "metadata": {},
   "outputs": [
    {
     "name": "stderr",
     "output_type": "stream",
     "text": [
      "100%|█████████████████████████████████████████| 62/62 [1:14:17<00:00, 71.89s/it]\n"
     ]
    }
   ],
   "source": [
    "# def get_metric_p(x):\n",
    "#     above_test = np.sum(metric_array > x)\n",
    "#     return above_test / N\n",
    "\n",
    "def calculate_p_values(null_array, test_values):\n",
    "    sorted_null = np.sort(null_array)\n",
    "    indices = np.searchsorted(sorted_null, test_values, side='right')\n",
    "    p_values = (N - indices) / N\n",
    "    return p_values\n",
    "\n",
    "# hubs = sp.load_hubs(species='Mouse', sig_type='cell_type') #senepy v1\n",
    "# input_list = [list(x) for x in list(hubs.hubs)]\n",
    "\n",
    "\n",
    "res = []\n",
    "for tissue, cell in tqdm(input_list):\n",
    "#for tissue, cell in tqdm(add_list):\n",
    "    \n",
    "    # #load null files and combine\n",
    "    # perm_files = ['permutation_output/' + x for x in os.listdir('permutation_output/') if tissue in x and cell in x]\n",
    "    # nulls = pd.concat([pd.read_csv(x, index_col=0) for x in perm_files]).reset_index(drop = True)\n",
    "    s = 'permutation_output/' + tissue + '.' + cell + '.feather'\n",
    "    nulls = pd.read_feather(s)\n",
    "\n",
    "    N = len(nulls)\n",
    "    nulls = soft_stats(nulls)\n",
    "\n",
    "    #load test data\n",
    "    a = cell_counts[(cell_counts.tissue2 == tissue) &\\\n",
    "                (cell_counts.cell_type_2 == cell)].copy()\n",
    "\n",
    "    #another fix for the additions. Some dont have representation in cell_counts so have to remake for them\n",
    "    \n",
    "    if len(a) == 0:\n",
    "        sub = adata[(adata.obs.tissue2 == tissue) &\\\n",
    "                (adata.obs.cell_type_2 == cell)]\n",
    "        \n",
    "        _ = sub.obs.groupby(['age', 'tissue2', 'cell_type_2'])\\\n",
    "        .size().reset_index().rename(columns={0:'Count'})\n",
    "        \n",
    "        out = []\n",
    "        for age_tissue_cell in tqdm(_.values):\n",
    "            age_sub = adata[(adata.obs.age == age_tissue_cell[0]) &\\\n",
    "                            (adata.obs.tissue2 == age_tissue_cell[1]) &\\\n",
    "                            (adata.obs.cell_type_2 == age_tissue_cell[2])].X.toarray()\n",
    "            col_out = []\n",
    "            for gene in adata.var_names:\n",
    "                i = np.where(adata.var_names == gene)[0][0]\n",
    "                gene_vals = age_sub[:, i]\n",
    "                gene_frac = len(gene_vals[gene_vals > 0])/len(gene_vals)\n",
    "                if gene_frac == 0 and age_tissue_cell[0] in ['1m', '3m']: #only impute young\n",
    "                    gene_frac = 1/len(gene_vals) #impute 1/num cells if value is 0\n",
    "                \n",
    "                col_out.append(gene_frac)\n",
    "            out.append(col_out)\n",
    "            \n",
    "        a = pd.concat([_, pd.DataFrame(out, columns = list(adata.var_names))], axis = 1)\n",
    "    \n",
    "    \n",
    "    a = get_stats(a)\n",
    "    a = soft_stats(a)\n",
    "\n",
    "    #combine values to create a comparable scaler\n",
    "    # scaler = StandardScaler()\n",
    "    # combined = np.vstack([nulls[['soft_gain', 'soft_ratio', 'soft_start', 'soft_end']],\n",
    "    #                       a[['soft_gain', 'soft_ratio', 'soft_start', 'soft_end']]])\n",
    "    # scaler = StandardScaler()\n",
    "    # scaler.fit(combined)\n",
    "\n",
    "    # #generate null metrics\n",
    "    # nulls_scaled = scaler.transform(nulls[['soft_gain', 'soft_ratio', 'soft_start', 'soft_end']].values)\n",
    "    # nulls['metric'] = np.sum(nulls_scaled, axis=1)\n",
    "\n",
    "    # #generate test metrics\n",
    "    # a_scaled = scaler.transform(a[['soft_gain', 'soft_ratio', 'soft_start', 'soft_end']].values)\n",
    "    # a['metric'] = np.sum(a_scaled, axis=1)\n",
    "\n",
    "    ##################### testing this\n",
    "    nulls['metric'] = nulls[['soft_gain', 'soft_ratio', 'soft_start', 'soft_end']].sum(axis = 1)\n",
    "    a['metric'] = a[['soft_gain', 'soft_ratio', 'soft_start', 'soft_end']].sum(axis = 1)\n",
    "    #######################\n",
    "\n",
    "    #determine p value based on location in null distribution\n",
    "    #metric_array = nulls['metric'].to_numpy()\n",
    "    a['p'] = calculate_p_values(nulls['metric'].to_numpy(), a['metric'].to_numpy())\n",
    "    #a['p'] = a.metric.map(get_metric_p)ada\n",
    "\n",
    "    #BH correction\n",
    "    a = a.sort_values('metric', ascending = False)\n",
    "    a['BH'] = a['p'] * len(a) / (a.reset_index().index + 1)\n",
    "    a['BH'] = a['BH'].clip(upper=1)\n",
    "    a = a.reset_index(drop = True)\n",
    "\n",
    "    #just adding if it would have been filtered based on OG filter\n",
    "    a['OrigFilt'] = filter_cell_stats(a)\n",
    "\n",
    "    a['tissue_cell'] = tissue + '.' + cell\n",
    "    res.append(a)\n",
    "\n",
    "    \n"
   ]
  },
  {
   "cell_type": "code",
   "execution_count": null,
   "id": "4953e0f6-9fc8-4859-8d4c-2305f4b45e24",
   "metadata": {},
   "outputs": [],
   "source": []
  },
  {
   "cell_type": "code",
   "execution_count": 65,
   "id": "b0c9faf9-fa64-4e39-aaf6-77dcc1d198be",
   "metadata": {},
   "outputs": [],
   "source": [
    "df = pd.concat(res)"
   ]
  },
  {
   "cell_type": "code",
   "execution_count": 66,
   "id": "430689a3-5d31-4084-a830-0c6b2b2493cc",
   "metadata": {},
   "outputs": [
    {
     "data": {
      "text/html": [
       "<div>\n",
       "<style scoped>\n",
       "    .dataframe tbody tr th:only-of-type {\n",
       "        vertical-align: middle;\n",
       "    }\n",
       "\n",
       "    .dataframe tbody tr th {\n",
       "        vertical-align: top;\n",
       "    }\n",
       "\n",
       "    .dataframe thead th {\n",
       "        text-align: right;\n",
       "    }\n",
       "</style>\n",
       "<table border=\"1\" class=\"dataframe\">\n",
       "  <thead>\n",
       "    <tr style=\"text-align: right;\">\n",
       "      <th></th>\n",
       "      <th>gene</th>\n",
       "      <th>start</th>\n",
       "      <th>end</th>\n",
       "      <th>gain</th>\n",
       "      <th>ratio</th>\n",
       "      <th>soft_start</th>\n",
       "      <th>soft_end</th>\n",
       "      <th>soft_gain</th>\n",
       "      <th>soft_ratio</th>\n",
       "      <th>metric</th>\n",
       "      <th>p</th>\n",
       "      <th>BH</th>\n",
       "      <th>OrigFilt</th>\n",
       "      <th>tissue_cell</th>\n",
       "    </tr>\n",
       "  </thead>\n",
       "  <tbody>\n",
       "    <tr>\n",
       "      <th>0</th>\n",
       "      <td>Gsta4</td>\n",
       "      <td>0.027542</td>\n",
       "      <td>0.102210</td>\n",
       "      <td>0.074668</td>\n",
       "      <td>3.711007</td>\n",
       "      <td>1.0</td>\n",
       "      <td>1.0</td>\n",
       "      <td>1.0</td>\n",
       "      <td>2.5</td>\n",
       "      <td>5.5</td>\n",
       "      <td>0.000000</td>\n",
       "      <td>0.000000</td>\n",
       "      <td>True</td>\n",
       "      <td>Limb_Muscle.smooth muscle cell</td>\n",
       "    </tr>\n",
       "    <tr>\n",
       "      <th>1</th>\n",
       "      <td>Gcc2</td>\n",
       "      <td>0.040254</td>\n",
       "      <td>0.104972</td>\n",
       "      <td>0.064718</td>\n",
       "      <td>2.607735</td>\n",
       "      <td>1.0</td>\n",
       "      <td>1.0</td>\n",
       "      <td>1.0</td>\n",
       "      <td>2.5</td>\n",
       "      <td>5.5</td>\n",
       "      <td>0.000000</td>\n",
       "      <td>0.000000</td>\n",
       "      <td>True</td>\n",
       "      <td>Limb_Muscle.smooth muscle cell</td>\n",
       "    </tr>\n",
       "    <tr>\n",
       "      <th>2</th>\n",
       "      <td>Slfn8</td>\n",
       "      <td>0.012712</td>\n",
       "      <td>0.063536</td>\n",
       "      <td>0.050824</td>\n",
       "      <td>4.998158</td>\n",
       "      <td>1.0</td>\n",
       "      <td>1.0</td>\n",
       "      <td>1.0</td>\n",
       "      <td>2.5</td>\n",
       "      <td>5.5</td>\n",
       "      <td>0.000000</td>\n",
       "      <td>0.000000</td>\n",
       "      <td>True</td>\n",
       "      <td>Limb_Muscle.smooth muscle cell</td>\n",
       "    </tr>\n",
       "    <tr>\n",
       "      <th>3</th>\n",
       "      <td>Ch25h</td>\n",
       "      <td>0.029661</td>\n",
       "      <td>0.088398</td>\n",
       "      <td>0.058737</td>\n",
       "      <td>2.980268</td>\n",
       "      <td>1.0</td>\n",
       "      <td>1.0</td>\n",
       "      <td>1.0</td>\n",
       "      <td>2.5</td>\n",
       "      <td>5.5</td>\n",
       "      <td>0.000000</td>\n",
       "      <td>0.000000</td>\n",
       "      <td>True</td>\n",
       "      <td>Limb_Muscle.smooth muscle cell</td>\n",
       "    </tr>\n",
       "    <tr>\n",
       "      <th>4</th>\n",
       "      <td>Gabrr1</td>\n",
       "      <td>0.016949</td>\n",
       "      <td>0.082873</td>\n",
       "      <td>0.065924</td>\n",
       "      <td>4.889503</td>\n",
       "      <td>1.0</td>\n",
       "      <td>1.0</td>\n",
       "      <td>1.0</td>\n",
       "      <td>2.5</td>\n",
       "      <td>5.5</td>\n",
       "      <td>0.000000</td>\n",
       "      <td>0.000000</td>\n",
       "      <td>True</td>\n",
       "      <td>Limb_Muscle.smooth muscle cell</td>\n",
       "    </tr>\n",
       "    <tr>\n",
       "      <th>...</th>\n",
       "      <td>...</td>\n",
       "      <td>...</td>\n",
       "      <td>...</td>\n",
       "      <td>...</td>\n",
       "      <td>...</td>\n",
       "      <td>...</td>\n",
       "      <td>...</td>\n",
       "      <td>...</td>\n",
       "      <td>...</td>\n",
       "      <td>...</td>\n",
       "      <td>...</td>\n",
       "      <td>...</td>\n",
       "      <td>...</td>\n",
       "      <td>...</td>\n",
       "    </tr>\n",
       "    <tr>\n",
       "      <th>20111</th>\n",
       "      <td>Rpl37</td>\n",
       "      <td>1.000000</td>\n",
       "      <td>1.000000</td>\n",
       "      <td>0.000000</td>\n",
       "      <td>1.000000</td>\n",
       "      <td>-46.5</td>\n",
       "      <td>-19.0</td>\n",
       "      <td>0.0</td>\n",
       "      <td>1.0</td>\n",
       "      <td>-64.5</td>\n",
       "      <td>0.997735</td>\n",
       "      <td>0.997933</td>\n",
       "      <td>False</td>\n",
       "      <td>Kidney.Henle thick ascending limb epithelial cell</td>\n",
       "    </tr>\n",
       "    <tr>\n",
       "      <th>20112</th>\n",
       "      <td>Cox5b</td>\n",
       "      <td>1.000000</td>\n",
       "      <td>1.000000</td>\n",
       "      <td>0.000000</td>\n",
       "      <td>1.000000</td>\n",
       "      <td>-46.5</td>\n",
       "      <td>-19.0</td>\n",
       "      <td>0.0</td>\n",
       "      <td>1.0</td>\n",
       "      <td>-64.5</td>\n",
       "      <td>0.997735</td>\n",
       "      <td>0.997883</td>\n",
       "      <td>False</td>\n",
       "      <td>Kidney.Henle thick ascending limb epithelial cell</td>\n",
       "    </tr>\n",
       "    <tr>\n",
       "      <th>20113</th>\n",
       "      <td>Ftl1</td>\n",
       "      <td>1.000000</td>\n",
       "      <td>1.000000</td>\n",
       "      <td>0.000000</td>\n",
       "      <td>1.000000</td>\n",
       "      <td>-46.5</td>\n",
       "      <td>-19.0</td>\n",
       "      <td>0.0</td>\n",
       "      <td>1.0</td>\n",
       "      <td>-64.5</td>\n",
       "      <td>0.997735</td>\n",
       "      <td>0.997834</td>\n",
       "      <td>False</td>\n",
       "      <td>Kidney.Henle thick ascending limb epithelial cell</td>\n",
       "    </tr>\n",
       "    <tr>\n",
       "      <th>20114</th>\n",
       "      <td>Cox4i1</td>\n",
       "      <td>1.000000</td>\n",
       "      <td>1.000000</td>\n",
       "      <td>0.000000</td>\n",
       "      <td>1.000000</td>\n",
       "      <td>-46.5</td>\n",
       "      <td>-19.0</td>\n",
       "      <td>0.0</td>\n",
       "      <td>1.0</td>\n",
       "      <td>-64.5</td>\n",
       "      <td>0.997735</td>\n",
       "      <td>0.997784</td>\n",
       "      <td>False</td>\n",
       "      <td>Kidney.Henle thick ascending limb epithelial cell</td>\n",
       "    </tr>\n",
       "    <tr>\n",
       "      <th>20115</th>\n",
       "      <td>Cox7c</td>\n",
       "      <td>1.000000</td>\n",
       "      <td>1.000000</td>\n",
       "      <td>0.000000</td>\n",
       "      <td>1.000000</td>\n",
       "      <td>-46.5</td>\n",
       "      <td>-19.0</td>\n",
       "      <td>0.0</td>\n",
       "      <td>1.0</td>\n",
       "      <td>-64.5</td>\n",
       "      <td>0.997735</td>\n",
       "      <td>0.997735</td>\n",
       "      <td>False</td>\n",
       "      <td>Kidney.Henle thick ascending limb epithelial cell</td>\n",
       "    </tr>\n",
       "  </tbody>\n",
       "</table>\n",
       "<p>1247192 rows × 14 columns</p>\n",
       "</div>"
      ],
      "text/plain": [
       "         gene     start       end      gain     ratio  soft_start  soft_end  \\\n",
       "0       Gsta4  0.027542  0.102210  0.074668  3.711007         1.0       1.0   \n",
       "1        Gcc2  0.040254  0.104972  0.064718  2.607735         1.0       1.0   \n",
       "2       Slfn8  0.012712  0.063536  0.050824  4.998158         1.0       1.0   \n",
       "3       Ch25h  0.029661  0.088398  0.058737  2.980268         1.0       1.0   \n",
       "4      Gabrr1  0.016949  0.082873  0.065924  4.889503         1.0       1.0   \n",
       "...       ...       ...       ...       ...       ...         ...       ...   \n",
       "20111   Rpl37  1.000000  1.000000  0.000000  1.000000       -46.5     -19.0   \n",
       "20112   Cox5b  1.000000  1.000000  0.000000  1.000000       -46.5     -19.0   \n",
       "20113    Ftl1  1.000000  1.000000  0.000000  1.000000       -46.5     -19.0   \n",
       "20114  Cox4i1  1.000000  1.000000  0.000000  1.000000       -46.5     -19.0   \n",
       "20115   Cox7c  1.000000  1.000000  0.000000  1.000000       -46.5     -19.0   \n",
       "\n",
       "       soft_gain  soft_ratio  metric         p        BH  OrigFilt  \\\n",
       "0            1.0         2.5     5.5  0.000000  0.000000      True   \n",
       "1            1.0         2.5     5.5  0.000000  0.000000      True   \n",
       "2            1.0         2.5     5.5  0.000000  0.000000      True   \n",
       "3            1.0         2.5     5.5  0.000000  0.000000      True   \n",
       "4            1.0         2.5     5.5  0.000000  0.000000      True   \n",
       "...          ...         ...     ...       ...       ...       ...   \n",
       "20111        0.0         1.0   -64.5  0.997735  0.997933     False   \n",
       "20112        0.0         1.0   -64.5  0.997735  0.997883     False   \n",
       "20113        0.0         1.0   -64.5  0.997735  0.997834     False   \n",
       "20114        0.0         1.0   -64.5  0.997735  0.997784     False   \n",
       "20115        0.0         1.0   -64.5  0.997735  0.997735     False   \n",
       "\n",
       "                                             tissue_cell  \n",
       "0                         Limb_Muscle.smooth muscle cell  \n",
       "1                         Limb_Muscle.smooth muscle cell  \n",
       "2                         Limb_Muscle.smooth muscle cell  \n",
       "3                         Limb_Muscle.smooth muscle cell  \n",
       "4                         Limb_Muscle.smooth muscle cell  \n",
       "...                                                  ...  \n",
       "20111  Kidney.Henle thick ascending limb epithelial cell  \n",
       "20112  Kidney.Henle thick ascending limb epithelial cell  \n",
       "20113  Kidney.Henle thick ascending limb epithelial cell  \n",
       "20114  Kidney.Henle thick ascending limb epithelial cell  \n",
       "20115  Kidney.Henle thick ascending limb epithelial cell  \n",
       "\n",
       "[1247192 rows x 14 columns]"
      ]
     },
     "execution_count": 66,
     "metadata": {},
     "output_type": "execute_result"
    }
   ],
   "source": [
    "df"
   ]
  },
  {
   "cell_type": "code",
   "execution_count": 68,
   "id": "f65bc6c5-a509-4701-930d-0de4b240003c",
   "metadata": {},
   "outputs": [],
   "source": [
    "df.to_csv('mouse_gene_stats_fin.csv')"
   ]
  },
  {
   "cell_type": "code",
   "execution_count": null,
   "id": "7b6be2b8-76c0-4d7b-8505-04c0e6447d32",
   "metadata": {},
   "outputs": [],
   "source": []
  },
  {
   "cell_type": "code",
   "execution_count": null,
   "id": "283b7721-7e10-4ecd-914e-6f565717fd96",
   "metadata": {},
   "outputs": [],
   "source": []
  },
  {
   "cell_type": "code",
   "execution_count": 392,
   "id": "02059fbe-4353-46e5-9926-46ffeea182c2",
   "metadata": {},
   "outputs": [
    {
     "name": "stdout",
     "output_type": "stream",
     "text": [
      "BH \t orig \t og+BH \t og+p \t j \t tissue.cell\n",
      "1292 \t 945 \t 945 \t 945 \t 0.73 \t Trachea.fibroblast\n",
      "7 \t 183 \t 6 \t 183 \t 0.03 \t Skin.epidermal cell\n"
     ]
    }
   ],
   "source": [
    "print('BH', '\\t' ,'orig', '\\t' , 'og+BH', '\\t' ,'og+p', '\\t' , 'j', '\\t' , 'tissue.cell')\n",
    "#for tissue, cell in input_list:\n",
    "for tissue, cell in testers:\n",
    "    s = tissue + '.' + cell\n",
    "    _ = df[df.tissue_cell == s]\n",
    "\n",
    "    sig = _[_.BH < 0.1]\n",
    "    just_p = _[_.p < 0.1]\n",
    "    orig = _[_.OrigFilt]\n",
    "    orig_p = just_p[just_p.gene.isin(orig.gene)]\n",
    "    orig_sig = sig[sig.gene.isin(orig.gene)]\n",
    "\n",
    "    j = jaccard_index(set(orig.gene), set(sig.gene))\n",
    "\n",
    "    \n",
    "    print(len(sig), '\\t' ,len(orig), '\\t' , len(orig_sig), '\\t' , len(orig_p) , '\\t', round(j, 2), '\\t' , s)"
   ]
  },
  {
   "cell_type": "code",
   "execution_count": null,
   "id": "a3ae8e98-d9f0-47fa-a35e-cefface86cd6",
   "metadata": {},
   "outputs": [],
   "source": []
  },
  {
   "cell_type": "code",
   "execution_count": null,
   "id": "a23408a8-8a23-4ee0-966c-cd3079fa2038",
   "metadata": {},
   "outputs": [],
   "source": []
  },
  {
   "cell_type": "code",
   "execution_count": 334,
   "id": "e55e6fc6-afd4-4376-8c7e-864ec2184f66",
   "metadata": {},
   "outputs": [
    {
     "name": "stdout",
     "output_type": "stream",
     "text": [
      "BH \t orig \t og+BH \t og+p \t j \t tissue.cell\n",
      "1292 \t 945 \t 945 \t 945 \t 0.73 \t Trachea.fibroblast\n",
      "7 \t 183 \t 6 \t 183 \t 0.03 \t Skin.epidermal cell\n"
     ]
    }
   ],
   "source": [
    "print('BH', '\\t' ,'orig', '\\t' , 'og+BH', '\\t' ,'og+p', '\\t' , 'j', '\\t' , 'tissue.cell')\n",
    "#for tissue, cell in input_list:\n",
    "for tissue, cell in testers:\n",
    "    s = tissue + '.' + cell\n",
    "    _ = df[df.tissue_cell == s]\n",
    "\n",
    "    sig = _[_.BH < 0.1]\n",
    "    just_p = _[_.p < 0.1]\n",
    "    orig = _[_.OrigFilt]\n",
    "    orig_p = just_p[just_p.gene.isin(orig.gene)]\n",
    "    orig_sig = sig[sig.gene.isin(orig.gene)]\n",
    "\n",
    "    j = jaccard_index(set(orig.gene), set(sig.gene))\n",
    "\n",
    "    \n",
    "    print(len(sig), '\\t' ,len(orig), '\\t' , len(orig_sig), '\\t' , len(orig_p) , '\\t', round(j, 2), '\\t' , s)"
   ]
  },
  {
   "cell_type": "code",
   "execution_count": 253,
   "id": "44a77562-c3bc-4d97-93e3-d4104aa44c28",
   "metadata": {},
   "outputs": [],
   "source": [
    "#df = pd.concat(res)"
   ]
  },
  {
   "cell_type": "code",
   "execution_count": 255,
   "id": "3ad6946f-b9a0-43d5-8948-ef8130f99337",
   "metadata": {},
   "outputs": [],
   "source": [
    "#df.to_csv('mouse_gene_stats_v2.csv')"
   ]
  },
  {
   "cell_type": "code",
   "execution_count": null,
   "id": "2818c379-9ca2-4db4-ba1f-b421f746ba4b",
   "metadata": {},
   "outputs": [],
   "source": []
  },
  {
   "cell_type": "code",
   "execution_count": 69,
   "id": "1fd17233-f090-450e-8742-452ae9ea887b",
   "metadata": {},
   "outputs": [],
   "source": [
    "df = pd.read_csv('mouse_gene_stats_fin.csv', index_col=0)"
   ]
  },
  {
   "cell_type": "code",
   "execution_count": null,
   "id": "ac9490d5-678f-472a-abbe-125e3b89f310",
   "metadata": {},
   "outputs": [],
   "source": []
  },
  {
   "cell_type": "code",
   "execution_count": null,
   "id": "4b3ad74c-8751-440f-86e2-a4a7bc7b1446",
   "metadata": {},
   "outputs": [],
   "source": []
  },
  {
   "cell_type": "code",
   "execution_count": null,
   "id": "f2d66b70-6740-4cef-8496-8f836777be98",
   "metadata": {},
   "outputs": [],
   "source": []
  },
  {
   "cell_type": "code",
   "execution_count": 70,
   "id": "37c593da-0749-45a8-98ba-4d1bffcd5262",
   "metadata": {},
   "outputs": [
    {
     "name": "stdout",
     "output_type": "stream",
     "text": [
      "264\t182\t182\t-82\t0.0\n",
      "51\t94\t51\t43\t0.0\n",
      "83\t84\t83\t1\t0.0\n",
      "183\t43\t42\t-140\t8.342219195505278e-91\n",
      "784\t433\t433\t-351\t0.0\n",
      "154\t466\t154\t312\t0.0\n",
      "1069\t994\t951\t-75\t0.0\n",
      "662\t417\t417\t-245\t0.0\n",
      "692\t1216\t692\t524\t0.0\n",
      "912\t293\t293\t-619\t0.0\n",
      "435\t435\t435\t0\t0.0\n",
      "48\t48\t48\t0\t0.0\n",
      "383\t159\t159\t-224\t0.0\n",
      "180\t93\t93\t-87\t0.0\n",
      "190\t276\t190\t86\t0.0\n",
      "1239\t1750\t1239\t511\t0.0\n",
      "2670\t4450\t2670\t1780\t0.0\n",
      "397\t523\t397\t126\t0.0\n",
      "55\t65\t55\t10\t0.0\n",
      "70\t70\t70\t0\t0.0\n",
      "945\t1139\t945\t194\t0.0\n",
      "231\t594\t231\t363\t0.0\n",
      "16\t23\t16\t7\t0.0\n",
      "577\t225\t225\t-352\t0.0\n",
      "44\t133\t44\t89\t0.0\n",
      "575\t270\t270\t-305\t0.0\n",
      "230\t93\t93\t-137\t0.0\n",
      "1193\t1361\t1193\t168\t0.0\n",
      "27\t28\t27\t1\t0.0\n",
      "36\t36\t36\t0\t0.0\n",
      "13\t16\t13\t3\t0.0\n",
      "293\t366\t293\t73\t0.0\n",
      "116\t53\t53\t-63\t0.0\n",
      "312\t206\t206\t-106\t0.0\n",
      "67\t67\t67\t0\t0.0\n",
      "725\t333\t333\t-392\t0.0\n",
      "87\t154\t87\t67\t0.0\n",
      "672\t489\t489\t-183\t0.0\n",
      "77\t22\t22\t-55\t0.0\n",
      "28\t29\t28\t1\t0.0\n",
      "116\t117\t116\t1\t0.0\n",
      "777\t959\t743\t182\t0.0\n",
      "67\t74\t67\t7\t0.0\n",
      "95\t71\t71\t-24\t0.0\n",
      "313\t156\t156\t-157\t0.0\n",
      "962\t515\t512\t-447\t0.0\n",
      "2316\t1402\t1317\t-914\t0.0\n",
      "163\t50\t50\t-113\t0.0\n",
      "172\t191\t172\t19\t0.0\n",
      "71\t52\t52\t-19\t0.0\n",
      "160\t399\t160\t239\t0.0\n",
      "405\t326\t325\t-79\t0.0\n",
      "10\t8\t8\t-2\t0.0\n",
      "228\t200\t200\t-28\t0.0\n",
      "106\t281\t106\t175\t0.0\n",
      "427\t370\t370\t-57\t0.0\n",
      "109\t41\t41\t-68\t0.0\n",
      "144\t153\t144\t9\t0.0\n",
      "148\t156\t148\t8\t0.0\n",
      "1017\t460\t460\t-557\t0.0\n",
      "211\t201\t200\t-10\t0.0\n",
      "1193\t891\t871\t-302\t0.0\n"
     ]
    }
   ],
   "source": [
    "sel = {}\n",
    "for c in df.tissue_cell.unique():\n",
    "    _ = df[df.tissue_cell == c]\n",
    "    selected = _[(_.BH < 0.05) | ((_.OrigFilt) & (_.p < .01))]\n",
    "    a = set(_[_.OrigFilt].gene)\n",
    "    b = set(selected.gene)\n",
    "    i = a.intersection(b)\n",
    "    d = len(b) - len(a)\n",
    "\n",
    "    p = stats.hypergeom.sf(len(i), len(_), len(a), len(b))\n",
    "\n",
    "    sel[c] = list(b)\n",
    "    \n",
    "    print(f'{len(a)}\\t{len(b)}\\t{len(i)}\\t{d}\\t{p}')"
   ]
  },
  {
   "cell_type": "code",
   "execution_count": null,
   "id": "21d98379-da7a-4a0c-aee6-ea26976d6ae4",
   "metadata": {},
   "outputs": [],
   "source": []
  },
  {
   "cell_type": "code",
   "execution_count": 49,
   "id": "25fd56b3-0428-41d5-8e52-abb63a8c611f",
   "metadata": {},
   "outputs": [
    {
     "name": "stdout",
     "output_type": "stream",
     "text": [
      "all_cells_scvi.h5ad  FIG_1B_null.npy  \u001b[0m\u001b[01;34mlethal_covid\u001b[0m/  \u001b[01;34mPBMC_COVID\u001b[0m/  \u001b[01;34mtms\u001b[0m/\n",
      "\u001b[01;34mannotations\u001b[0m/         \u001b[01;34mfiles\u001b[0m/           \u001b[01;34mp16_td_pos\u001b[0m/    \u001b[01;34msenolytics\u001b[0m/\n",
      "\u001b[01;34mbulk_RNAseq\u001b[0m/         \u001b[01;34mgene_lists\u001b[0m/      \u001b[01;34mparabiosis\u001b[0m/    \u001b[01;34mspatial\u001b[0m/\n"
     ]
    }
   ],
   "source": [
    "ls ../../data/"
   ]
  },
  {
   "cell_type": "code",
   "execution_count": 72,
   "id": "c3a8f317-05aa-4f29-96f9-b7bb2acdcd89",
   "metadata": {},
   "outputs": [],
   "source": [
    "import pickle"
   ]
  },
  {
   "cell_type": "code",
   "execution_count": 73,
   "id": "6012a3c3-c67e-4603-a9e4-e50422db97cf",
   "metadata": {},
   "outputs": [],
   "source": [
    "#these are saved and imported in notebook 5 for further processing\n",
    "with open('../../data/files/R1_FILT_GENES_MOUSE.pickle', 'wb') as f:\n",
    "    pickle.dump(sel, f)"
   ]
  },
  {
   "cell_type": "code",
   "execution_count": null,
   "id": "fbd9f99e-b874-4659-a694-52ac7741dbfa",
   "metadata": {},
   "outputs": [],
   "source": []
  },
  {
   "cell_type": "code",
   "execution_count": null,
   "id": "39393179-91ee-42ff-b0fb-b861288a9dd4",
   "metadata": {},
   "outputs": [],
   "source": []
  },
  {
   "cell_type": "code",
   "execution_count": null,
   "id": "83a444d6-7ff7-407f-84e6-3a2201dbfd78",
   "metadata": {},
   "outputs": [],
   "source": []
  }
 ],
 "metadata": {
  "kernelspec": {
   "display_name": "Python 3 (ipykernel)",
   "language": "python",
   "name": "python3"
  },
  "language_info": {
   "codemirror_mode": {
    "name": "ipython",
    "version": 3
   },
   "file_extension": ".py",
   "mimetype": "text/x-python",
   "name": "python",
   "nbconvert_exporter": "python",
   "pygments_lexer": "ipython3",
   "version": "3.9.18"
  }
 },
 "nbformat": 4,
 "nbformat_minor": 5
}
