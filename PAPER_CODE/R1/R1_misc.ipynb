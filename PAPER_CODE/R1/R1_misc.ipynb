{
 "cells": [
  {
   "cell_type": "markdown",
   "id": "0e025979-d56c-49a3-8543-9cb5e7b5c9cc",
   "metadata": {},
   "source": [
    "### R3 - Line 107:\n",
    "125 + 110 - 52 is not 181"
   ]
  },
  {
   "cell_type": "code",
   "execution_count": 15,
   "id": "4596fa51-8bb8-4a72-b986-48b0513848f5",
   "metadata": {},
   "outputs": [
    {
     "data": {
      "text/plain": [
       "183"
      ]
     },
     "execution_count": 15,
     "metadata": {},
     "output_type": "execute_result"
    }
   ],
   "source": [
    "125 + 110 - 52"
   ]
  },
  {
   "cell_type": "code",
   "execution_count": 1,
   "id": "36cf40a4-168c-4840-8358-28075b7eff51",
   "metadata": {},
   "outputs": [],
   "source": [
    "import pandas as pd"
   ]
  },
  {
   "cell_type": "code",
   "execution_count": 32,
   "id": "455861c5-929b-47c0-98f6-818b7417890b",
   "metadata": {},
   "outputs": [],
   "source": [
    "from scipy import stats"
   ]
  },
  {
   "cell_type": "markdown",
   "id": "51af6c9c-fc90-4829-81fa-05a6476f0fc1",
   "metadata": {},
   "source": [
    "Mouse"
   ]
  },
  {
   "cell_type": "code",
   "execution_count": 2,
   "id": "3caf43c2-789b-49fc-9bd9-fcd7a11a3cc0",
   "metadata": {},
   "outputs": [],
   "source": [
    "with open('../../data/gene_lists/mouse_markers.txt') as f:\n",
    "    markers = list(f)\n",
    "markers = [x for x in markers if not x.startswith('#') and ':' in x]\n",
    "markers = dict(map(lambda x: x.strip().split(':'), markers)) #dict marker:role"
   ]
  },
  {
   "cell_type": "code",
   "execution_count": 9,
   "id": "4eb1af09-eb3e-4367-baec-7202512c26dc",
   "metadata": {},
   "outputs": [],
   "source": [
    "senmayo = pd.read_csv('../../data/gene_lists/senMayo.csv')['Gene(human)'].values.tolist()\n",
    "senmayo = [x[0] + x[1:].lower() for x in senmayo]\n",
    "#senmayo = [x for x in senmayo if x not in list(markers)]\n",
    "#senmayo = {x:'senmayo' for x in senmayo}\n",
    "#markers = markers | senmayo"
   ]
  },
  {
   "cell_type": "code",
   "execution_count": 6,
   "id": "96969641-3590-4cc7-9294-3fb2958763ff",
   "metadata": {},
   "outputs": [],
   "source": [
    "mms = list(markers)"
   ]
  },
  {
   "cell_type": "code",
   "execution_count": 12,
   "id": "f58cd2ee-0aa7-4413-80b5-b6f3de352af3",
   "metadata": {},
   "outputs": [
    {
     "data": {
      "text/plain": [
       "110"
      ]
     },
     "execution_count": 12,
     "metadata": {},
     "output_type": "execute_result"
    }
   ],
   "source": [
    "len(mms)"
   ]
  },
  {
   "cell_type": "code",
   "execution_count": 13,
   "id": "ea112736-5b3e-4602-9e26-768df15d9168",
   "metadata": {},
   "outputs": [
    {
     "data": {
      "text/plain": [
       "125"
      ]
     },
     "execution_count": 13,
     "metadata": {},
     "output_type": "execute_result"
    }
   ],
   "source": [
    "len(senmayo)"
   ]
  },
  {
   "cell_type": "code",
   "execution_count": 16,
   "id": "4172ffa1-6655-420a-9b1f-2813b8979031",
   "metadata": {},
   "outputs": [
    {
     "data": {
      "text/plain": [
       "51"
      ]
     },
     "execution_count": 16,
     "metadata": {},
     "output_type": "execute_result"
    }
   ],
   "source": [
    "len([x for x in mms if x in senmayo]) #intersect"
   ]
  },
  {
   "cell_type": "code",
   "execution_count": 14,
   "id": "c154d685-afc8-400c-a47b-59473ecb08d3",
   "metadata": {},
   "outputs": [
    {
     "data": {
      "text/plain": [
       "184"
      ]
     },
     "execution_count": 14,
     "metadata": {},
     "output_type": "execute_result"
    }
   ],
   "source": [
    "len(set(mms + senmayo)) #union"
   ]
  },
  {
   "cell_type": "markdown",
   "id": "8439b0a2-2d46-4232-9a3f-0e0f381885ee",
   "metadata": {},
   "source": [
    "Human"
   ]
  },
  {
   "cell_type": "code",
   "execution_count": 18,
   "id": "5cdc5fa2-65c6-44a8-b0f1-dc1ab9e98921",
   "metadata": {},
   "outputs": [],
   "source": [
    "with open('../../data/gene_lists/human_markers.txt') as f:\n",
    "    markers = list(f)\n",
    "markers = [x for x in markers if not x.startswith('#') and ':' in x]\n",
    "markers = dict(map(lambda x: x.strip().split(':'), markers)) #dict marker:role"
   ]
  },
  {
   "cell_type": "code",
   "execution_count": 19,
   "id": "32993fa2-d1b4-4fe3-8311-a52ae51b2c84",
   "metadata": {},
   "outputs": [],
   "source": [
    "senmayo = pd.read_csv('../../data/gene_lists/senMayo.csv')['Gene(human)'].values.tolist()"
   ]
  },
  {
   "cell_type": "code",
   "execution_count": 27,
   "id": "a747f189-96bc-42d2-b6fe-dcf069e1f4c2",
   "metadata": {},
   "outputs": [],
   "source": [
    "hms = list(markers)\n",
    "hms = [x.upper() for x in markers]"
   ]
  },
  {
   "cell_type": "code",
   "execution_count": 28,
   "id": "690d8bc4-155e-488e-aad4-3de3efb7dbaa",
   "metadata": {},
   "outputs": [
    {
     "data": {
      "text/plain": [
       "108"
      ]
     },
     "execution_count": 28,
     "metadata": {},
     "output_type": "execute_result"
    }
   ],
   "source": [
    "len(hms)"
   ]
  },
  {
   "cell_type": "code",
   "execution_count": 29,
   "id": "68f65c88-068b-4867-898f-ca354dc6c835",
   "metadata": {},
   "outputs": [
    {
     "data": {
      "text/plain": [
       "125"
      ]
     },
     "execution_count": 29,
     "metadata": {},
     "output_type": "execute_result"
    }
   ],
   "source": [
    "len(senmayo)"
   ]
  },
  {
   "cell_type": "code",
   "execution_count": 30,
   "id": "7b5b3957-db9f-42e5-b4f7-63c9fca358f6",
   "metadata": {},
   "outputs": [
    {
     "data": {
      "text/plain": [
       "52"
      ]
     },
     "execution_count": 30,
     "metadata": {},
     "output_type": "execute_result"
    }
   ],
   "source": [
    "len([x for x in hms if x in senmayo]) #intersect"
   ]
  },
  {
   "cell_type": "code",
   "execution_count": 31,
   "id": "e9d1b886-a7d0-4222-aea7-96f59bf532cd",
   "metadata": {},
   "outputs": [
    {
     "data": {
      "text/plain": [
       "181"
      ]
     },
     "execution_count": 31,
     "metadata": {},
     "output_type": "execute_result"
    }
   ],
   "source": [
    "len(set(hms + senmayo)) #union"
   ]
  },
  {
   "cell_type": "code",
   "execution_count": 39,
   "id": "c61f24b7-10ed-4735-888a-81d7e652bac4",
   "metadata": {},
   "outputs": [
    {
     "data": {
      "text/plain": [
       "5.502751673027285e-97"
      ]
     },
     "execution_count": 39,
     "metadata": {},
     "output_type": "execute_result"
    }
   ],
   "source": [
    "stats.hypergeom.sf(52, 25000, 108, 125) #human "
   ]
  },
  {
   "cell_type": "code",
   "execution_count": 38,
   "id": "dc54c664-4dd0-446f-90cb-b2a2a6e76670",
   "metadata": {},
   "outputs": [
    {
     "data": {
      "text/plain": [
       "2.854661665536936e-79"
      ]
     },
     "execution_count": 38,
     "metadata": {},
     "output_type": "execute_result"
    }
   ],
   "source": [
    "stats.hypergeom.sf(51, 25000, 110, 215) #mouse"
   ]
  },
  {
   "cell_type": "code",
   "execution_count": null,
   "id": "f6b04dcd-f076-4767-9557-de20b6b064b8",
   "metadata": {},
   "outputs": [],
   "source": []
  },
  {
   "cell_type": "code",
   "execution_count": null,
   "id": "c00bb5d3-43ae-430b-b796-c6f58e85130b",
   "metadata": {},
   "outputs": [],
   "source": []
  },
  {
   "cell_type": "code",
   "execution_count": null,
   "id": "8eb39771-8a03-4325-922e-09f68a6511c8",
   "metadata": {},
   "outputs": [],
   "source": []
  },
  {
   "cell_type": "code",
   "execution_count": 1,
   "id": "bf6f14ba-cc61-4d14-9ccb-49f459393b0c",
   "metadata": {},
   "outputs": [],
   "source": [
    "import senepy as sp"
   ]
  },
  {
   "cell_type": "code",
   "execution_count": 2,
   "id": "fa9ad78b-e74a-4aad-ab4a-039dc7d1bb00",
   "metadata": {},
   "outputs": [],
   "source": [
    "m = sp.load_hubs(species='Mouse')\n",
    "h = sp.load_hubs(species='Human')"
   ]
  },
  {
   "cell_type": "code",
   "execution_count": 12,
   "id": "d32456d0-ccd1-4943-af69-8a1974e5b2a6",
   "metadata": {},
   "outputs": [],
   "source": [
    "mms = list(m.literature_markers)\n",
    "hms = list(h.literature_markers)"
   ]
  },
  {
   "cell_type": "code",
   "execution_count": 17,
   "id": "c1a19287-12ae-45bb-a321-af2a9339f3c6",
   "metadata": {},
   "outputs": [
    {
     "data": {
      "text/plain": [
       "{'Cdkn2a': 'cc_inhibitor p16',\n",
       " 'Cdkn2b': 'cc_inhibitor p15',\n",
       " 'Cdkn1a': 'cc_inhibitor p21',\n",
       " 'Cdkn1b': 'cc_inhibitor p27',\n",
       " 'Trp53': 'cc_inhibitor p53 mice',\n",
       " 'Rb1': 'cc_inhibitor cc inhibitor',\n",
       " 'Glb1': 'lysosomal Senescence-associated beta-galactosidase',\n",
       " 'Tfeb': 'lysosomal',\n",
       " 'Nfkb1': 'SASP TF',\n",
       " 'Cebpb': 'SASP enhancer',\n",
       " 'Cxcr2': 'SASP signaling receptor',\n",
       " 'Il6': 'SASP Cxcr2 ligand',\n",
       " 'Cxcl1': 'SASP Cxcr2 ligand',\n",
       " 'Cxcl2': 'SASP Cxcr2 ligand',\n",
       " 'Cxcl3': 'SASP Cxcr2 ligand',\n",
       " 'Cxcl5': 'SASP Cxcr2 ligand',\n",
       " 'Cxcl9': 'SASP Cxcr2 ligand',\n",
       " 'Cxcl10': 'SASP Cxcr2 ligand',\n",
       " 'Cxcl11': 'SASP',\n",
       " 'Cxcl12': 'SASP',\n",
       " 'Cxcl13': 'SASP',\n",
       " 'Cxcl14': 'SASP',\n",
       " 'Cxcl15': 'SASP',\n",
       " 'Cxcl16': 'SASP',\n",
       " 'Cxcl17': 'SASP',\n",
       " 'Ccl2': 'SASP',\n",
       " 'Ccl3': 'SASP',\n",
       " 'Ccl4': 'SASP',\n",
       " 'Ccl5': 'SASP',\n",
       " 'Ccl7': 'SASP',\n",
       " 'Ccl8': 'SASP',\n",
       " 'Ccl9': 'SASP',\n",
       " 'Ccl11': 'SASP',\n",
       " 'Ccl12': 'SASP',\n",
       " 'Ccl17': 'SASP',\n",
       " 'Ccl19': 'SASP',\n",
       " 'Ccl20': 'SASP',\n",
       " 'Ccl22': 'SASP',\n",
       " 'Ccl25': 'SASP',\n",
       " 'Ccl24': 'SASP',\n",
       " 'Ccl27a': 'SASP',\n",
       " 'Ccl28': 'SASP',\n",
       " 'Il1a': 'SASP IL-1 family',\n",
       " 'Il1b': 'SASP IL-1 family',\n",
       " 'Il18': 'SASP IL-1 family',\n",
       " 'Il2': 'SASP',\n",
       " 'Il7': 'SASP',\n",
       " 'Il13': 'SASP',\n",
       " 'Il15': 'SASP',\n",
       " 'Mmp2': 'SASP Metalloprotease',\n",
       " 'Mmp3': 'SASP Metalloprotease',\n",
       " 'Mmp7': 'SASP Metalloprotease',\n",
       " 'Mmp8': 'SASP Metalloprotease',\n",
       " 'Mmp9': 'SASP Metalloprotease',\n",
       " 'Mmp10': 'SASP Metalloprotease',\n",
       " 'Mmp11': 'SASP Metalloprotease',\n",
       " 'Mmp12': 'SASP Metalloprotease',\n",
       " 'Mmp13': 'SASP Metalloprotease',\n",
       " 'Mmp14': 'SASP Metalloprotease',\n",
       " 'Mmp15': 'SASP Metalloprotease',\n",
       " 'Mmp16': 'SASP Metalloprotease',\n",
       " 'Mmp17': 'SASP Metalloprotease',\n",
       " 'Mmp19': 'SASP Metalloprotease',\n",
       " 'Mmp20': 'SASP Metalloprotease',\n",
       " 'Mmp21': 'SASP Metalloprotease',\n",
       " 'Mmp23': 'SASP Metalloprotease',\n",
       " 'Mmp24': 'SASP Metalloprotease',\n",
       " 'Mmp25': 'SASP Metalloprotease',\n",
       " 'Mmp27': 'SASP Metalloprotease',\n",
       " 'Mmp28': 'SASP Metalloprotease',\n",
       " 'Timp1': 'SASP MMP regulator',\n",
       " 'Timp2': 'SASP MMP regulator',\n",
       " 'Ctsb': 'SASP lysosomal cysteine proteases',\n",
       " 'Adam17': 'SASP Tnfa converting enzyme',\n",
       " 'Epha2': 'SASP sEV contents',\n",
       " 'Ifng': 'SASP interferon gama',\n",
       " 'Mif': 'SASP Macrophage migration inhibitory factor',\n",
       " 'Tgfb1': 'SASP SMS',\n",
       " 'Tgfb2': 'SASP SMS',\n",
       " 'Tgfb3': 'SASP SMS',\n",
       " 'Igfbp2': 'SASP SMS insulin-like growth factor binding protein',\n",
       " 'Igfbp3': 'SASP SMS insulin-like growth factor binding protein',\n",
       " 'Igfbp4': 'SASP SMS insulin-like growth factor binding protein',\n",
       " 'Igfbp5': 'SASP SMS insulin-like growth factor binding protein',\n",
       " 'Igfbp7': 'SASP SMS insulin-like growth factor binding protein',\n",
       " 'Serpine1': 'SASP SMS Plasminogen activator inhibitor-1',\n",
       " 'Serpinb2': 'SASP SMS Plasminogen activator inhibitor-2',\n",
       " 'Irf1': 'SASP SMS interferon-regulatory factor',\n",
       " 'Irf5': 'SASP SMS interferon-regulatory factor',\n",
       " 'Irf7': 'SASP SMS interferon-regulatory factor',\n",
       " 'Ifi204': 'SASP SMS mouse ortholog of Ifi16',\n",
       " 'Areg': 'SASP SMS growth factor',\n",
       " 'Ereg': 'SASP SMS growth factor',\n",
       " 'Hrg': 'SASP SMS growth factor',\n",
       " 'Egf': 'SASP SMS growth factor',\n",
       " 'Fgf2': 'SASP SMS growth factor',\n",
       " 'Fgf7': 'SASP SMS growth factor',\n",
       " 'Hgf': 'SASP SMS growth factor',\n",
       " 'Vegfa': 'SASP SMS growth factor',\n",
       " 'Vegfb': 'SASP SMS growth factor',\n",
       " 'Vegfc': 'SASP SMS growth factor',\n",
       " 'Ang': 'SASP SMS growth factor',\n",
       " 'Pigf': 'SASP SMS growth factor',\n",
       " 'Ngf': 'SASP SMS growth factor',\n",
       " 'Plat': 'SASP SMS Tissue plasminogen activator',\n",
       " 'Plau': 'SASP SMS Plasminogen Activator, Urokinase',\n",
       " 'Bcl2': 'apoptosis resistance',\n",
       " 'Bcl2l1': 'apoptosis resistance',\n",
       " 'Bcl2l2': 'apoptosis resistance',\n",
       " 'Foxo4': 'apoptosis resistance',\n",
       " 'Acvr1b': 'senmayo',\n",
       " 'Angpt1': 'senmayo',\n",
       " 'Angptl4': 'senmayo',\n",
       " 'Axl': 'senmayo',\n",
       " 'Bex3': 'senmayo',\n",
       " 'Bmp2': 'senmayo',\n",
       " 'Bmp6': 'senmayo',\n",
       " 'C3': 'senmayo',\n",
       " 'Ccl1': 'senmayo',\n",
       " 'Ccl13': 'senmayo',\n",
       " 'Ccl16': 'senmayo',\n",
       " 'Ccl26': 'senmayo',\n",
       " 'Ccl3l1': 'senmayo',\n",
       " 'Cd55': 'senmayo',\n",
       " 'Cd9': 'senmayo',\n",
       " 'Csf1': 'senmayo',\n",
       " 'Csf2': 'senmayo',\n",
       " 'Csf2rb': 'senmayo',\n",
       " 'Cst4': 'senmayo',\n",
       " 'Ctnnb1': 'senmayo',\n",
       " 'Cxcl8': 'senmayo',\n",
       " 'Dkk1': 'senmayo',\n",
       " 'Edn1': 'senmayo',\n",
       " 'Egfr': 'senmayo',\n",
       " 'Esm1': 'senmayo',\n",
       " 'Ets2': 'senmayo',\n",
       " 'Fas': 'senmayo',\n",
       " 'Fgf1': 'senmayo',\n",
       " 'Gdf15': 'senmayo',\n",
       " 'Gem': 'senmayo',\n",
       " 'Gmfg': 'senmayo',\n",
       " 'Hmgb1': 'senmayo',\n",
       " 'Icam1': 'senmayo',\n",
       " 'Icam3': 'senmayo',\n",
       " 'Igf1': 'senmayo',\n",
       " 'Igfbp1': 'senmayo',\n",
       " 'Igfbp6': 'senmayo',\n",
       " 'Il10': 'senmayo',\n",
       " 'Il32': 'senmayo',\n",
       " 'Il6st': 'senmayo',\n",
       " 'Inha': 'senmayo',\n",
       " 'Iqgap2': 'senmayo',\n",
       " 'Itga2': 'senmayo',\n",
       " 'Itpka': 'senmayo',\n",
       " 'Jun': 'senmayo',\n",
       " 'Kitlg': 'senmayo',\n",
       " 'Lcp1': 'senmayo',\n",
       " 'Mmp1': 'senmayo',\n",
       " 'Nap1l4': 'senmayo',\n",
       " 'Nrg1': 'senmayo',\n",
       " 'Pappa': 'senmayo',\n",
       " 'Pecam1': 'senmayo',\n",
       " 'Pgf': 'senmayo',\n",
       " 'Plaur': 'senmayo',\n",
       " 'Ptbp1': 'senmayo',\n",
       " 'Ptger2': 'senmayo',\n",
       " 'Ptges': 'senmayo',\n",
       " 'Rps6ka5': 'senmayo',\n",
       " 'Scamp4': 'senmayo',\n",
       " 'Selplg': 'senmayo',\n",
       " 'Sema3f': 'senmayo',\n",
       " 'Serpinb4': 'senmayo',\n",
       " 'Serpine2': 'senmayo',\n",
       " 'Spp1': 'senmayo',\n",
       " 'Spx': 'senmayo',\n",
       " 'Tnf': 'senmayo',\n",
       " 'Tnfrsf10c': 'senmayo',\n",
       " 'Tnfrsf11b': 'senmayo',\n",
       " 'Tnfrsf1a': 'senmayo',\n",
       " 'Tnfrsf1b': 'senmayo',\n",
       " 'Tubgcp2': 'senmayo',\n",
       " 'Vgf': 'senmayo',\n",
       " 'Wnt16': 'senmayo',\n",
       " 'Wnt2': 'senmayo'}"
      ]
     },
     "execution_count": 17,
     "metadata": {},
     "output_type": "execute_result"
    }
   ],
   "source": [
    "m.literature_markers"
   ]
  },
  {
   "cell_type": "code",
   "execution_count": 4,
   "id": "e60de367-dc33-4a26-944d-0f9e9e9bcfcc",
   "metadata": {},
   "outputs": [
    {
     "data": {
      "text/html": [
       "<div>\n",
       "<style scoped>\n",
       "    .dataframe tbody tr th:only-of-type {\n",
       "        vertical-align: middle;\n",
       "    }\n",
       "\n",
       "    .dataframe tbody tr th {\n",
       "        vertical-align: top;\n",
       "    }\n",
       "\n",
       "    .dataframe thead th {\n",
       "        text-align: right;\n",
       "    }\n",
       "</style>\n",
       "<table border=\"1\" class=\"dataframe\">\n",
       "  <thead>\n",
       "    <tr style=\"text-align: right;\">\n",
       "      <th></th>\n",
       "      <th>tissue</th>\n",
       "      <th>cell</th>\n",
       "      <th>hub_num</th>\n",
       "      <th>size</th>\n",
       "      <th>n_sen</th>\n",
       "      <th>hyp</th>\n",
       "    </tr>\n",
       "  </thead>\n",
       "  <tbody>\n",
       "    <tr>\n",
       "      <th>26</th>\n",
       "      <td>hippocampus</td>\n",
       "      <td>choroid plexus cells</td>\n",
       "      <td>0</td>\n",
       "      <td>1495</td>\n",
       "      <td>8</td>\n",
       "      <td>0.035450</td>\n",
       "    </tr>\n",
       "    <tr>\n",
       "      <th>27</th>\n",
       "      <td>hippocampus</td>\n",
       "      <td>endothelial cells</td>\n",
       "      <td>0</td>\n",
       "      <td>165</td>\n",
       "      <td>5</td>\n",
       "      <td>0.000064</td>\n",
       "    </tr>\n",
       "    <tr>\n",
       "      <th>28</th>\n",
       "      <td>hippocampus</td>\n",
       "      <td>ependymal cell</td>\n",
       "      <td>0</td>\n",
       "      <td>1559</td>\n",
       "      <td>5</td>\n",
       "      <td>0.366935</td>\n",
       "    </tr>\n",
       "    <tr>\n",
       "      <th>29</th>\n",
       "      <td>hippocampus</td>\n",
       "      <td>excitatory neuron</td>\n",
       "      <td>0</td>\n",
       "      <td>390</td>\n",
       "      <td>2</td>\n",
       "      <td>0.262565</td>\n",
       "    </tr>\n",
       "    <tr>\n",
       "      <th>30</th>\n",
       "      <td>hippocampus</td>\n",
       "      <td>microglia</td>\n",
       "      <td>0</td>\n",
       "      <td>133</td>\n",
       "      <td>0</td>\n",
       "      <td>1.000000</td>\n",
       "    </tr>\n",
       "  </tbody>\n",
       "</table>\n",
       "</div>"
      ],
      "text/plain": [
       "         tissue                  cell  hub_num  size  n_sen       hyp\n",
       "26  hippocampus  choroid plexus cells        0  1495      8  0.035450\n",
       "27  hippocampus     endothelial cells        0   165      5  0.000064\n",
       "28  hippocampus        ependymal cell        0  1559      5  0.366935\n",
       "29  hippocampus     excitatory neuron        0   390      2  0.262565\n",
       "30  hippocampus             microglia        0   133      0  1.000000"
      ]
     },
     "execution_count": 4,
     "metadata": {},
     "output_type": "execute_result"
    }
   ],
   "source": [
    "h.metadata[h.metadata.tissue == 'hippocampus']"
   ]
  },
  {
   "cell_type": "code",
   "execution_count": null,
   "id": "8e2970c8-7ca6-4030-b89a-60afc1280eed",
   "metadata": {},
   "outputs": [],
   "source": []
  },
  {
   "cell_type": "code",
   "execution_count": 13,
   "id": "a560ea76-38a2-4a37-acf0-55a56f591105",
   "metadata": {},
   "outputs": [
    {
     "data": {
      "text/plain": [
       "184"
      ]
     },
     "execution_count": 13,
     "metadata": {},
     "output_type": "execute_result"
    }
   ],
   "source": [
    "len(mms)"
   ]
  },
  {
   "cell_type": "code",
   "execution_count": 14,
   "id": "c4036138-9234-4560-8c8b-1da6ad3edc6b",
   "metadata": {},
   "outputs": [
    {
     "data": {
      "text/plain": [
       "181"
      ]
     },
     "execution_count": 14,
     "metadata": {},
     "output_type": "execute_result"
    }
   ],
   "source": [
    "len(hms)"
   ]
  },
  {
   "cell_type": "code",
   "execution_count": null,
   "id": "21d38979-794b-4532-9171-7c42e2c284b3",
   "metadata": {},
   "outputs": [],
   "source": []
  },
  {
   "cell_type": "markdown",
   "id": "bd28952a-336d-4fa7-9874-904147554bbb",
   "metadata": {},
   "source": [
    "## Revision 1 - reviewer 3 line 251\n",
    "\n",
    "similarity between human and mouse universal signatures"
   ]
  },
  {
   "cell_type": "code",
   "execution_count": 33,
   "id": "841a7786-d89b-4c4c-b39b-da25ccd43217",
   "metadata": {},
   "outputs": [],
   "source": [
    "import senepy as sp\n",
    "import scanpy as sc\n",
    "from scipy import stats"
   ]
  },
  {
   "cell_type": "code",
   "execution_count": 2,
   "id": "16a86e36-8821-4a18-81a9-7083599aac7e",
   "metadata": {},
   "outputs": [],
   "source": [
    "human = sp.load_hubs(species = 'Human', sig_type = 'cell_type')"
   ]
  },
  {
   "cell_type": "code",
   "execution_count": 3,
   "id": "aa98dff2-b73d-4cbb-9a69-511f9014a233",
   "metadata": {},
   "outputs": [],
   "source": [
    "mouse = sp.load_hubs(species = 'Mouse', sig_type = 'cell_type')"
   ]
  },
  {
   "cell_type": "code",
   "execution_count": 29,
   "id": "34b36f56-f1f0-403d-898b-2487c97305b9",
   "metadata": {},
   "outputs": [],
   "source": [
    "mouse_bg = sc.read_h5ad('../../data/tms/tms-scVI-raw-data_BDATA.h5ad').var_names"
   ]
  },
  {
   "cell_type": "code",
   "execution_count": null,
   "id": "62e5bc7e-f067-4189-a432-3ede82ed593d",
   "metadata": {},
   "outputs": [],
   "source": []
  },
  {
   "cell_type": "code",
   "execution_count": 30,
   "id": "5751216e-722d-4044-b5eb-193821f7c32b",
   "metadata": {},
   "outputs": [],
   "source": [
    "a = sc.read_h5ad('/home/jrlab/Downloads/HUMAN_CELLS_MS0203.h5ad').var_names\n",
    "b = sc.read_h5ad('/home/jrlab/Downloads/TS_harmonized.h5ad').var_names\n",
    "human_bg = [x for x in a if x in b]"
   ]
  },
  {
   "cell_type": "code",
   "execution_count": 7,
   "id": "dc33b83c-9e16-4544-bcb2-dd3a318bb3c7",
   "metadata": {},
   "outputs": [],
   "source": []
  },
  {
   "cell_type": "code",
   "execution_count": null,
   "id": "b48ae5e3-51f5-4942-b8ac-dee5bfc9a9eb",
   "metadata": {},
   "outputs": [],
   "source": []
  },
  {
   "cell_type": "code",
   "execution_count": null,
   "id": "1cde2757-c819-4406-93a6-10bf35b72f80",
   "metadata": {},
   "outputs": [],
   "source": []
  },
  {
   "cell_type": "code",
   "execution_count": 14,
   "id": "55fa0178-a5cc-46bc-931e-6002367d30c8",
   "metadata": {},
   "outputs": [
    {
     "name": "stderr",
     "output_type": "stream",
     "text": [
      "100%|███████████████████████████████████████| 1000/1000 [00:44<00:00, 22.35it/s]"
     ]
    },
    {
     "name": "stdout",
     "output_type": "stream",
     "text": [
      "A gene will occur 5 times at 3.29% chance\n",
      "Threfore 5 is the calculated_threshold\n"
     ]
    },
    {
     "name": "stderr",
     "output_type": "stream",
     "text": [
      "\n"
     ]
    }
   ],
   "source": [
    "mouse.merge_hubs(mouse.metadata, calculate_thresh=True, bg_N = len(mouse_bg), new_name = 'Universal')"
   ]
  },
  {
   "cell_type": "code",
   "execution_count": 15,
   "id": "a2106997-cb7d-4308-829a-d35d4676ac64",
   "metadata": {},
   "outputs": [
    {
     "name": "stderr",
     "output_type": "stream",
     "text": [
      "100%|███████████████████████████████████████| 1000/1000 [01:37<00:00, 10.25it/s]\n"
     ]
    },
    {
     "name": "stdout",
     "output_type": "stream",
     "text": [
      "A gene will occur 6 times at 4.33% chance\n",
      "Threfore 6 is the calculated_threshold\n"
     ]
    }
   ],
   "source": [
    "human.merge_hubs(human.metadata, calculate_thresh=True, bg_N = len(human_bg), new_name = 'Universal')"
   ]
  },
  {
   "cell_type": "code",
   "execution_count": null,
   "id": "a45867ff-2031-4e2c-9c01-f1c5580046b5",
   "metadata": {},
   "outputs": [],
   "source": []
  },
  {
   "cell_type": "code",
   "execution_count": null,
   "id": "2aaa379f-e1e3-486f-8c86-ff3a96f1fdef",
   "metadata": {},
   "outputs": [],
   "source": []
  },
  {
   "cell_type": "code",
   "execution_count": 42,
   "id": "32b9d9dd-52e6-465f-8a36-a636f5263c1a",
   "metadata": {},
   "outputs": [],
   "source": [
    "#harmonize gene sets and background so that only genes in both considered\n",
    "\n",
    "a = set([x.upper() for x in human_bg])\n",
    "b = set([x.upper() for x in mouse_bg])\n",
    "combined_bg = a.intersection(b)"
   ]
  },
  {
   "cell_type": "code",
   "execution_count": 47,
   "id": "756e8d58-f9d1-4606-9fb3-4541534a2c4a",
   "metadata": {},
   "outputs": [],
   "source": [
    "mouse_uni = mouse.get_genes('Universal')\n",
    "mouse_uni = set([x.upper() for x in mouse_uni])\n",
    "\n",
    "mouse_uni = mouse_uni.intersection(a)"
   ]
  },
  {
   "cell_type": "code",
   "execution_count": null,
   "id": "9d9447af-2b18-40a0-b7c9-8d3812607f14",
   "metadata": {},
   "outputs": [],
   "source": []
  },
  {
   "cell_type": "code",
   "execution_count": 49,
   "id": "d7c376cd-a7d3-4380-9382-0484f29618bc",
   "metadata": {},
   "outputs": [],
   "source": [
    "human_uni = human.get_genes('Universal')\n",
    "human_uni = set([x.upper() for x in human_uni])\n",
    "\n",
    "human_uni = human_uni.intersection(b)"
   ]
  },
  {
   "cell_type": "code",
   "execution_count": 51,
   "id": "32f57264-9efb-42ad-b9ed-abbd1f77abb2",
   "metadata": {},
   "outputs": [
    {
     "data": {
      "text/plain": [
       "497"
      ]
     },
     "execution_count": 51,
     "metadata": {},
     "output_type": "execute_result"
    }
   ],
   "source": [
    "len(mouse_uni)"
   ]
  },
  {
   "cell_type": "code",
   "execution_count": 52,
   "id": "db3d0af0-b368-410e-a6a9-abd806ad5302",
   "metadata": {},
   "outputs": [
    {
     "data": {
      "text/plain": [
       "814"
      ]
     },
     "execution_count": 52,
     "metadata": {},
     "output_type": "execute_result"
    }
   ],
   "source": [
    "len(human_uni)"
   ]
  },
  {
   "cell_type": "code",
   "execution_count": null,
   "id": "5da46580-a829-4287-bb51-f0b26844a099",
   "metadata": {},
   "outputs": [],
   "source": []
  },
  {
   "cell_type": "code",
   "execution_count": 65,
   "id": "04b2fa2d-a745-450b-ac1d-65f2e253707b",
   "metadata": {},
   "outputs": [
    {
     "data": {
      "text/plain": [
       "1.6215375792840583"
      ]
     },
     "execution_count": 65,
     "metadata": {},
     "output_type": "execute_result"
    }
   ],
   "source": [
    "#enrichment ratio\n",
    "(len(mouse_uni.intersection(human_uni))/len(human_uni))/(len(mouse_uni)/len(combined_bg))"
   ]
  },
  {
   "cell_type": "code",
   "execution_count": null,
   "id": "ba62dade-d54c-4f0e-b6da-34a76b2cb40e",
   "metadata": {},
   "outputs": [],
   "source": []
  },
  {
   "cell_type": "code",
   "execution_count": 54,
   "id": "3fb23e77-9eff-4834-828d-5d16c7f247c7",
   "metadata": {},
   "outputs": [
    {
     "data": {
      "text/plain": [
       "0.00045208140664460217"
      ]
     },
     "execution_count": 54,
     "metadata": {},
     "output_type": "execute_result"
    }
   ],
   "source": [
    "stats.hypergeom.sf(len(mouse_uni.intersection(human_uni)), len(combined_bg), len(human_uni), len(mouse_uni))"
   ]
  },
  {
   "cell_type": "code",
   "execution_count": 55,
   "id": "574c418b-c58b-4e59-928d-13ae1925ec90",
   "metadata": {
    "scrolled": true
   },
   "outputs": [
    {
     "data": {
      "text/plain": [
       "{'ANKRD22',\n",
       " 'AURKB',\n",
       " 'BIRC5',\n",
       " 'C5AR1',\n",
       " 'CAMP',\n",
       " 'CATSPER2',\n",
       " 'CCL3',\n",
       " 'CD177',\n",
       " 'CD2',\n",
       " 'CD3D',\n",
       " 'CD3E',\n",
       " 'CDCA8',\n",
       " 'CDKN2A',\n",
       " 'CFB',\n",
       " 'CHI3L1',\n",
       " 'CKAP2',\n",
       " 'CXCR2',\n",
       " 'FBXO5',\n",
       " 'GBP2',\n",
       " 'GDA',\n",
       " 'GP9',\n",
       " 'GPR183',\n",
       " 'HAAO',\n",
       " 'HSD11B1',\n",
       " 'IGSF6',\n",
       " 'LCN2',\n",
       " 'LILRB4',\n",
       " 'LRG1',\n",
       " 'LTB',\n",
       " 'LTBP2',\n",
       " 'NCF1',\n",
       " 'NCF2',\n",
       " 'NLRC5',\n",
       " 'OAS3',\n",
       " 'PDGFC',\n",
       " 'PDZK1IP1',\n",
       " 'PGLYRP1',\n",
       " 'RGS1',\n",
       " 'RGS18',\n",
       " 'SELP',\n",
       " 'SLAMF7',\n",
       " 'SNCA',\n",
       " 'SP110',\n",
       " 'SSH1',\n",
       " 'SYK',\n",
       " 'TNFSF13B'}"
      ]
     },
     "execution_count": 55,
     "metadata": {},
     "output_type": "execute_result"
    }
   ],
   "source": [
    "mouse_uni.intersection(human_uni)"
   ]
  },
  {
   "cell_type": "code",
   "execution_count": 59,
   "id": "78e445e4-1cf2-46d9-aa2f-b7adceee2a43",
   "metadata": {},
   "outputs": [],
   "source": [
    "from matplotlib_venn import venn3\n",
    "import matplotlib.pyplot as plt"
   ]
  },
  {
   "cell_type": "code",
   "execution_count": 62,
   "id": "bd21e0b1-e571-4573-9f73-26e66bdb6cad",
   "metadata": {},
   "outputs": [
    {
     "data": {
      "image/png": "[encoded data removed]",
      "text/plain": [
       "<Figure size 400x400 with 1 Axes>"
      ]
     },
     "metadata": {},
     "output_type": "display_data"
    }
   ],
   "source": [
    "plt.figure(figsize=(4, 4))\n",
    "venn3([mouse_uni, human_uni, combined_bg], ('Mouse', 'Human', 'Background'))\n",
    "\n",
    "plt.show()"
   ]
  },
  {
   "cell_type": "code",
   "execution_count": null,
   "id": "83450955-dd57-480f-9eba-d014c476c989",
   "metadata": {},
   "outputs": [],
   "source": []
  },
  {
   "cell_type": "code",
   "execution_count": null,
   "id": "e989254e-0892-42a5-bca9-a79aa3f84e41",
   "metadata": {},
   "outputs": [],
   "source": [
    "#curiosity sake: are the intersection genes enriched for known sen genes?\n",
    "\n"
   ]
  },
  {
   "cell_type": "code",
   "execution_count": 75,
   "id": "b7970997-c371-40d1-bbed-73a9f7a24e05",
   "metadata": {},
   "outputs": [],
   "source": [
    "hum_lit = set([x.upper() for x in list(human.literature_markers)])\n",
    "mouse_lit = set([x.upper() for x in list(mouse.literature_markers)])\n",
    "combined_lit = mouse_lit.intersection(hum_lit)"
   ]
  },
  {
   "cell_type": "code",
   "execution_count": null,
   "id": "85ae7422-07e5-43d4-bf1a-8e0c4c2d7666",
   "metadata": {},
   "outputs": [],
   "source": []
  },
  {
   "cell_type": "code",
   "execution_count": 76,
   "id": "2ef54193-f89c-4f33-83ee-e6269ded2553",
   "metadata": {},
   "outputs": [
    {
     "data": {
      "text/plain": [
       "{'CCL3', 'CDKN2A', 'CXCR2'}"
      ]
     },
     "execution_count": 76,
     "metadata": {},
     "output_type": "execute_result"
    }
   ],
   "source": [
    "mouse_uni.intersection(human_uni).intersection(combined_lit)"
   ]
  },
  {
   "cell_type": "code",
   "execution_count": 77,
   "id": "7f980c9a-0fa4-45bf-84a5-36f916a45b3b",
   "metadata": {},
   "outputs": [
    {
     "data": {
      "text/plain": [
       "0.0024930682611412087"
      ]
     },
     "execution_count": 77,
     "metadata": {},
     "output_type": "execute_result"
    }
   ],
   "source": [
    "stats.hypergeom.sf(len(mouse_uni.intersection(human_uni).intersection(combined_lit)),\n",
    "                   len(combined_bg), len(mouse_uni.intersection(human_uni)), len(combined_lit))"
   ]
  },
  {
   "cell_type": "code",
   "execution_count": null,
   "id": "686d1ee8-a3c6-4791-b81f-371905147708",
   "metadata": {},
   "outputs": [],
   "source": []
  },
  {
   "cell_type": "code",
   "execution_count": null,
   "id": "9b68f28d-945b-457b-9145-dd05cf65ca4d",
   "metadata": {},
   "outputs": [],
   "source": []
  },
  {
   "cell_type": "code",
   "execution_count": null,
   "id": "188e233f-f39a-4104-b726-df3ac77dfce8",
   "metadata": {},
   "outputs": [],
   "source": []
  },
  {
   "cell_type": "markdown",
   "id": "6ff5b878-ac17-4779-9b7d-655ccb943c35",
   "metadata": {},
   "source": [
    "# Make supplemental tables of signatures"
   ]
  },
  {
   "cell_type": "code",
   "execution_count": 13,
   "id": "877237e3-4cef-49f3-99f6-809eec26237d",
   "metadata": {},
   "outputs": [],
   "source": [
    "import senepy as sp\n",
    "import pandas as pd"
   ]
  },
  {
   "cell_type": "code",
   "execution_count": 26,
   "id": "1dbd2e2a-cc00-4a7d-8631-78d0b84d0d45",
   "metadata": {},
   "outputs": [],
   "source": [
    "a = sp.load_hubs(species = 'Human') #, sig_type = 'cell_type'"
   ]
  },
  {
   "cell_type": "code",
   "execution_count": 27,
   "id": "94e059ca-c144-4a59-b889-85ff589d601f",
   "metadata": {},
   "outputs": [],
   "source": [
    "things = []\n",
    "for hub in a.hubs:\n",
    "    s = '.'.join([str(x) for x in hub])\n",
    "    genes = a.get_genes(hub)\n",
    "    vals = [True] * len(genes)\n",
    "    things.append(pd.DataFrame(vals, columns = [s], index=genes))"
   ]
  },
  {
   "cell_type": "code",
   "execution_count": 28,
   "id": "6f834376-a362-49e3-8176-819a2bc33650",
   "metadata": {},
   "outputs": [],
   "source": [
    "thing = pd.concat(things, join = 'outer', axis = 1)\n",
    "thing = thing.fillna(False)\n",
    "thing = thing*1"
   ]
  },
  {
   "cell_type": "code",
   "execution_count": 29,
   "id": "fc05eeac-1c91-4a13-a160-710e1d70c68a",
   "metadata": {},
   "outputs": [
    {
     "data": {
      "text/html": [
       "<div>\n",
       "<style scoped>\n",
       "    .dataframe tbody tr th:only-of-type {\n",
       "        vertical-align: middle;\n",
       "    }\n",
       "\n",
       "    .dataframe tbody tr th {\n",
       "        vertical-align: top;\n",
       "    }\n",
       "\n",
       "    .dataframe thead th {\n",
       "        text-align: right;\n",
       "    }\n",
       "</style>\n",
       "<table border=\"1\" class=\"dataframe\">\n",
       "  <thead>\n",
       "    <tr style=\"text-align: right;\">\n",
       "      <th></th>\n",
       "      <th>blood.memory b cell.1</th>\n",
       "      <th>blood.monocyte.1</th>\n",
       "      <th>blood.monocyte.2</th>\n",
       "      <th>blood.naive b cell.0</th>\n",
       "      <th>blood.naive b cell.1</th>\n",
       "      <th>blood.neutrophil.0</th>\n",
       "      <th>blood.neutrophil.1</th>\n",
       "      <th>blood.nk cell.0</th>\n",
       "      <th>blood.nk cell.1</th>\n",
       "      <th>blood.t cell.1</th>\n",
       "      <th>...</th>\n",
       "      <th>skin.basal cell.0</th>\n",
       "      <th>skin.endothelial cell.0</th>\n",
       "      <th>skin.fibroblast.0</th>\n",
       "      <th>skin.granular cell.0</th>\n",
       "      <th>skin.hair follicle.0</th>\n",
       "      <th>skin.immune cell.0</th>\n",
       "      <th>skin.mitotic cell.0</th>\n",
       "      <th>skin.spinous cell.0</th>\n",
       "      <th>skin.spinous cell.1</th>\n",
       "      <th>tongue.basal cell.0</th>\n",
       "    </tr>\n",
       "  </thead>\n",
       "  <tbody>\n",
       "    <tr>\n",
       "      <th>IL18BP</th>\n",
       "      <td>1</td>\n",
       "      <td>0</td>\n",
       "      <td>0</td>\n",
       "      <td>0</td>\n",
       "      <td>0</td>\n",
       "      <td>0</td>\n",
       "      <td>0</td>\n",
       "      <td>0</td>\n",
       "      <td>0</td>\n",
       "      <td>0</td>\n",
       "      <td>...</td>\n",
       "      <td>0</td>\n",
       "      <td>0</td>\n",
       "      <td>0</td>\n",
       "      <td>0</td>\n",
       "      <td>0</td>\n",
       "      <td>0</td>\n",
       "      <td>0</td>\n",
       "      <td>0</td>\n",
       "      <td>0</td>\n",
       "      <td>0</td>\n",
       "    </tr>\n",
       "    <tr>\n",
       "      <th>HIST2H2BE</th>\n",
       "      <td>1</td>\n",
       "      <td>0</td>\n",
       "      <td>0</td>\n",
       "      <td>1</td>\n",
       "      <td>0</td>\n",
       "      <td>0</td>\n",
       "      <td>0</td>\n",
       "      <td>0</td>\n",
       "      <td>0</td>\n",
       "      <td>1</td>\n",
       "      <td>...</td>\n",
       "      <td>0</td>\n",
       "      <td>0</td>\n",
       "      <td>0</td>\n",
       "      <td>0</td>\n",
       "      <td>0</td>\n",
       "      <td>0</td>\n",
       "      <td>0</td>\n",
       "      <td>0</td>\n",
       "      <td>0</td>\n",
       "      <td>1</td>\n",
       "    </tr>\n",
       "    <tr>\n",
       "      <th>APOM</th>\n",
       "      <td>1</td>\n",
       "      <td>0</td>\n",
       "      <td>0</td>\n",
       "      <td>0</td>\n",
       "      <td>0</td>\n",
       "      <td>0</td>\n",
       "      <td>0</td>\n",
       "      <td>0</td>\n",
       "      <td>0</td>\n",
       "      <td>0</td>\n",
       "      <td>...</td>\n",
       "      <td>0</td>\n",
       "      <td>0</td>\n",
       "      <td>0</td>\n",
       "      <td>0</td>\n",
       "      <td>0</td>\n",
       "      <td>0</td>\n",
       "      <td>0</td>\n",
       "      <td>0</td>\n",
       "      <td>0</td>\n",
       "      <td>1</td>\n",
       "    </tr>\n",
       "    <tr>\n",
       "      <th>CLIP4</th>\n",
       "      <td>1</td>\n",
       "      <td>0</td>\n",
       "      <td>0</td>\n",
       "      <td>0</td>\n",
       "      <td>0</td>\n",
       "      <td>0</td>\n",
       "      <td>0</td>\n",
       "      <td>0</td>\n",
       "      <td>0</td>\n",
       "      <td>0</td>\n",
       "      <td>...</td>\n",
       "      <td>0</td>\n",
       "      <td>0</td>\n",
       "      <td>1</td>\n",
       "      <td>1</td>\n",
       "      <td>0</td>\n",
       "      <td>0</td>\n",
       "      <td>0</td>\n",
       "      <td>0</td>\n",
       "      <td>0</td>\n",
       "      <td>0</td>\n",
       "    </tr>\n",
       "    <tr>\n",
       "      <th>ALS2</th>\n",
       "      <td>1</td>\n",
       "      <td>0</td>\n",
       "      <td>0</td>\n",
       "      <td>0</td>\n",
       "      <td>0</td>\n",
       "      <td>0</td>\n",
       "      <td>0</td>\n",
       "      <td>0</td>\n",
       "      <td>0</td>\n",
       "      <td>0</td>\n",
       "      <td>...</td>\n",
       "      <td>0</td>\n",
       "      <td>0</td>\n",
       "      <td>0</td>\n",
       "      <td>0</td>\n",
       "      <td>0</td>\n",
       "      <td>0</td>\n",
       "      <td>1</td>\n",
       "      <td>0</td>\n",
       "      <td>0</td>\n",
       "      <td>0</td>\n",
       "    </tr>\n",
       "    <tr>\n",
       "      <th>...</th>\n",
       "      <td>...</td>\n",
       "      <td>...</td>\n",
       "      <td>...</td>\n",
       "      <td>...</td>\n",
       "      <td>...</td>\n",
       "      <td>...</td>\n",
       "      <td>...</td>\n",
       "      <td>...</td>\n",
       "      <td>...</td>\n",
       "      <td>...</td>\n",
       "      <td>...</td>\n",
       "      <td>...</td>\n",
       "      <td>...</td>\n",
       "      <td>...</td>\n",
       "      <td>...</td>\n",
       "      <td>...</td>\n",
       "      <td>...</td>\n",
       "      <td>...</td>\n",
       "      <td>...</td>\n",
       "      <td>...</td>\n",
       "      <td>...</td>\n",
       "    </tr>\n",
       "    <tr>\n",
       "      <th>CCL20</th>\n",
       "      <td>0</td>\n",
       "      <td>0</td>\n",
       "      <td>0</td>\n",
       "      <td>0</td>\n",
       "      <td>0</td>\n",
       "      <td>0</td>\n",
       "      <td>0</td>\n",
       "      <td>0</td>\n",
       "      <td>0</td>\n",
       "      <td>0</td>\n",
       "      <td>...</td>\n",
       "      <td>0</td>\n",
       "      <td>0</td>\n",
       "      <td>0</td>\n",
       "      <td>0</td>\n",
       "      <td>0</td>\n",
       "      <td>0</td>\n",
       "      <td>0</td>\n",
       "      <td>0</td>\n",
       "      <td>0</td>\n",
       "      <td>1</td>\n",
       "    </tr>\n",
       "    <tr>\n",
       "      <th>ZNF841</th>\n",
       "      <td>0</td>\n",
       "      <td>0</td>\n",
       "      <td>0</td>\n",
       "      <td>0</td>\n",
       "      <td>0</td>\n",
       "      <td>0</td>\n",
       "      <td>0</td>\n",
       "      <td>0</td>\n",
       "      <td>0</td>\n",
       "      <td>0</td>\n",
       "      <td>...</td>\n",
       "      <td>0</td>\n",
       "      <td>0</td>\n",
       "      <td>0</td>\n",
       "      <td>0</td>\n",
       "      <td>0</td>\n",
       "      <td>0</td>\n",
       "      <td>0</td>\n",
       "      <td>0</td>\n",
       "      <td>0</td>\n",
       "      <td>1</td>\n",
       "    </tr>\n",
       "    <tr>\n",
       "      <th>PEX7</th>\n",
       "      <td>0</td>\n",
       "      <td>0</td>\n",
       "      <td>0</td>\n",
       "      <td>0</td>\n",
       "      <td>0</td>\n",
       "      <td>0</td>\n",
       "      <td>0</td>\n",
       "      <td>0</td>\n",
       "      <td>0</td>\n",
       "      <td>0</td>\n",
       "      <td>...</td>\n",
       "      <td>0</td>\n",
       "      <td>0</td>\n",
       "      <td>0</td>\n",
       "      <td>0</td>\n",
       "      <td>0</td>\n",
       "      <td>0</td>\n",
       "      <td>0</td>\n",
       "      <td>0</td>\n",
       "      <td>0</td>\n",
       "      <td>1</td>\n",
       "    </tr>\n",
       "    <tr>\n",
       "      <th>ACOT9</th>\n",
       "      <td>0</td>\n",
       "      <td>0</td>\n",
       "      <td>0</td>\n",
       "      <td>0</td>\n",
       "      <td>0</td>\n",
       "      <td>0</td>\n",
       "      <td>0</td>\n",
       "      <td>0</td>\n",
       "      <td>0</td>\n",
       "      <td>0</td>\n",
       "      <td>...</td>\n",
       "      <td>0</td>\n",
       "      <td>0</td>\n",
       "      <td>0</td>\n",
       "      <td>0</td>\n",
       "      <td>0</td>\n",
       "      <td>0</td>\n",
       "      <td>0</td>\n",
       "      <td>0</td>\n",
       "      <td>0</td>\n",
       "      <td>1</td>\n",
       "    </tr>\n",
       "    <tr>\n",
       "      <th>SPATA6</th>\n",
       "      <td>0</td>\n",
       "      <td>0</td>\n",
       "      <td>0</td>\n",
       "      <td>0</td>\n",
       "      <td>0</td>\n",
       "      <td>0</td>\n",
       "      <td>0</td>\n",
       "      <td>0</td>\n",
       "      <td>0</td>\n",
       "      <td>0</td>\n",
       "      <td>...</td>\n",
       "      <td>0</td>\n",
       "      <td>0</td>\n",
       "      <td>0</td>\n",
       "      <td>0</td>\n",
       "      <td>0</td>\n",
       "      <td>0</td>\n",
       "      <td>0</td>\n",
       "      <td>0</td>\n",
       "      <td>0</td>\n",
       "      <td>1</td>\n",
       "    </tr>\n",
       "  </tbody>\n",
       "</table>\n",
       "<p>13531 rows × 64 columns</p>\n",
       "</div>"
      ],
      "text/plain": [
       "           blood.memory b cell.1  blood.monocyte.1  blood.monocyte.2  \\\n",
       "IL18BP                         1                 0                 0   \n",
       "HIST2H2BE                      1                 0                 0   \n",
       "APOM                           1                 0                 0   \n",
       "CLIP4                          1                 0                 0   \n",
       "ALS2                           1                 0                 0   \n",
       "...                          ...               ...               ...   \n",
       "CCL20                          0                 0                 0   \n",
       "ZNF841                         0                 0                 0   \n",
       "PEX7                           0                 0                 0   \n",
       "ACOT9                          0                 0                 0   \n",
       "SPATA6                         0                 0                 0   \n",
       "\n",
       "           blood.naive b cell.0  blood.naive b cell.1  blood.neutrophil.0  \\\n",
       "IL18BP                        0                     0                   0   \n",
       "HIST2H2BE                     1                     0                   0   \n",
       "APOM                          0                     0                   0   \n",
       "CLIP4                         0                     0                   0   \n",
       "ALS2                          0                     0                   0   \n",
       "...                         ...                   ...                 ...   \n",
       "CCL20                         0                     0                   0   \n",
       "ZNF841                        0                     0                   0   \n",
       "PEX7                          0                     0                   0   \n",
       "ACOT9                         0                     0                   0   \n",
       "SPATA6                        0                     0                   0   \n",
       "\n",
       "           blood.neutrophil.1  blood.nk cell.0  blood.nk cell.1  \\\n",
       "IL18BP                      0                0                0   \n",
       "HIST2H2BE                   0                0                0   \n",
       "APOM                        0                0                0   \n",
       "CLIP4                       0                0                0   \n",
       "ALS2                        0                0                0   \n",
       "...                       ...              ...              ...   \n",
       "CCL20                       0                0                0   \n",
       "ZNF841                      0                0                0   \n",
       "PEX7                        0                0                0   \n",
       "ACOT9                       0                0                0   \n",
       "SPATA6                      0                0                0   \n",
       "\n",
       "           blood.t cell.1  ...  skin.basal cell.0  skin.endothelial cell.0  \\\n",
       "IL18BP                  0  ...                  0                        0   \n",
       "HIST2H2BE               1  ...                  0                        0   \n",
       "APOM                    0  ...                  0                        0   \n",
       "CLIP4                   0  ...                  0                        0   \n",
       "ALS2                    0  ...                  0                        0   \n",
       "...                   ...  ...                ...                      ...   \n",
       "CCL20                   0  ...                  0                        0   \n",
       "ZNF841                  0  ...                  0                        0   \n",
       "PEX7                    0  ...                  0                        0   \n",
       "ACOT9                   0  ...                  0                        0   \n",
       "SPATA6                  0  ...                  0                        0   \n",
       "\n",
       "           skin.fibroblast.0  skin.granular cell.0  skin.hair follicle.0  \\\n",
       "IL18BP                     0                     0                     0   \n",
       "HIST2H2BE                  0                     0                     0   \n",
       "APOM                       0                     0                     0   \n",
       "CLIP4                      1                     1                     0   \n",
       "ALS2                       0                     0                     0   \n",
       "...                      ...                   ...                   ...   \n",
       "CCL20                      0                     0                     0   \n",
       "ZNF841                     0                     0                     0   \n",
       "PEX7                       0                     0                     0   \n",
       "ACOT9                      0                     0                     0   \n",
       "SPATA6                     0                     0                     0   \n",
       "\n",
       "           skin.immune cell.0  skin.mitotic cell.0  skin.spinous cell.0  \\\n",
       "IL18BP                      0                    0                    0   \n",
       "HIST2H2BE                   0                    0                    0   \n",
       "APOM                        0                    0                    0   \n",
       "CLIP4                       0                    0                    0   \n",
       "ALS2                        0                    1                    0   \n",
       "...                       ...                  ...                  ...   \n",
       "CCL20                       0                    0                    0   \n",
       "ZNF841                      0                    0                    0   \n",
       "PEX7                        0                    0                    0   \n",
       "ACOT9                       0                    0                    0   \n",
       "SPATA6                      0                    0                    0   \n",
       "\n",
       "           skin.spinous cell.1  tongue.basal cell.0  \n",
       "IL18BP                       0                    0  \n",
       "HIST2H2BE                    0                    1  \n",
       "APOM                         0                    1  \n",
       "CLIP4                        0                    0  \n",
       "ALS2                         0                    0  \n",
       "...                        ...                  ...  \n",
       "CCL20                        0                    1  \n",
       "ZNF841                       0                    1  \n",
       "PEX7                         0                    1  \n",
       "ACOT9                        0                    1  \n",
       "SPATA6                       0                    1  \n",
       "\n",
       "[13531 rows x 64 columns]"
      ]
     },
     "execution_count": 29,
     "metadata": {},
     "output_type": "execute_result"
    }
   ],
   "source": [
    "thing"
   ]
  },
  {
   "cell_type": "code",
   "execution_count": 30,
   "id": "fc99b018-052b-42b4-a784-dc9e04872f99",
   "metadata": {},
   "outputs": [],
   "source": [
    "thing.to_csv('../sup_tables/human_cell_hub_signatures.csv')"
   ]
  },
  {
   "cell_type": "code",
   "execution_count": 31,
   "id": "21055bb2-e2a0-422b-87bd-2bfcde3daf30",
   "metadata": {},
   "outputs": [
    {
     "name": "stdout",
     "output_type": "stream",
     "text": [
      "total 5.4M\n",
      "-rw-rw-r-- 1 jrlab jrlab 1.8M Nov 18 16:15 human_cell_hub_signatures.csv\n",
      "-rw-rw-r-- 1 jrlab jrlab 1.3M Nov 18 16:14 human_cell_signatures.csv\n",
      "-rw-rw-r-- 1 jrlab jrlab  52K Nov 12 11:39 human_marker_map.csv\n",
      "-rw-rw-r-- 1 jrlab jrlab 1.4M Nov 18 16:15 mouse_cell_hub_signatures.csv\n",
      "-rw-rw-r-- 1 jrlab jrlab 879K Nov 18 16:14 mouse_cell_signatures.csv\n",
      "-rw-rw-r-- 1 jrlab jrlab  35K Nov 12 11:29 mouse_marker_map.csv\n"
     ]
    }
   ],
   "source": [
    "ls -lh ../sup_tables/"
   ]
  },
  {
   "cell_type": "code",
   "execution_count": null,
   "id": "cb3f5bf9-4af8-4f49-abd6-88551f457b56",
   "metadata": {},
   "outputs": [],
   "source": []
  },
  {
   "cell_type": "code",
   "execution_count": null,
   "id": "ba7a4b57-9e23-48ea-b94f-e0620a037f8a",
   "metadata": {},
   "outputs": [],
   "source": []
  },
  {
   "cell_type": "code",
   "execution_count": null,
   "id": "609ea774-0ca4-4255-9aa2-a4082db7a910",
   "metadata": {},
   "outputs": [],
   "source": [
    "#save universal sig"
   ]
  },
  {
   "cell_type": "code",
   "execution_count": 43,
   "id": "b9b4d603-1f8f-447b-a51d-a82132fcefd1",
   "metadata": {},
   "outputs": [],
   "source": [
    "a = sp.load_hubs(species = 'Mouse', sig_type = 'cell_type') #"
   ]
  },
  {
   "cell_type": "code",
   "execution_count": 47,
   "id": "76741ebf-6f83-4aaa-b8d2-0b139e891d4a",
   "metadata": {},
   "outputs": [
    {
     "name": "stdout",
     "output_type": "stream",
     "text": [
      "A gene will occur 5 times at 0.37% chance\n",
      "Threfore 5 is the calculated_threshold\n"
     ]
    },
    {
     "data": {
      "text/html": [
       "<div>\n",
       "<style scoped>\n",
       "    .dataframe tbody tr th:only-of-type {\n",
       "        vertical-align: middle;\n",
       "    }\n",
       "\n",
       "    .dataframe tbody tr th {\n",
       "        vertical-align: top;\n",
       "    }\n",
       "\n",
       "    .dataframe thead th {\n",
       "        text-align: right;\n",
       "    }\n",
       "</style>\n",
       "<table border=\"1\" class=\"dataframe\">\n",
       "  <thead>\n",
       "    <tr style=\"text-align: right;\">\n",
       "      <th></th>\n",
       "      <th>Gene</th>\n",
       "      <th>Count</th>\n",
       "      <th>p value</th>\n",
       "      <th>q value</th>\n",
       "    </tr>\n",
       "  </thead>\n",
       "  <tbody>\n",
       "    <tr>\n",
       "      <th>0</th>\n",
       "      <td>Hba-a1</td>\n",
       "      <td>29</td>\n",
       "      <td>0.000000</td>\n",
       "      <td>0.000000</td>\n",
       "    </tr>\n",
       "    <tr>\n",
       "      <th>1</th>\n",
       "      <td>Hbb-b1</td>\n",
       "      <td>20</td>\n",
       "      <td>0.000000</td>\n",
       "      <td>0.000000</td>\n",
       "    </tr>\n",
       "    <tr>\n",
       "      <th>2</th>\n",
       "      <td>Gm11428</td>\n",
       "      <td>19</td>\n",
       "      <td>0.000000</td>\n",
       "      <td>0.000000</td>\n",
       "    </tr>\n",
       "    <tr>\n",
       "      <th>3</th>\n",
       "      <td>Vsig4</td>\n",
       "      <td>18</td>\n",
       "      <td>0.000000</td>\n",
       "      <td>0.000000</td>\n",
       "    </tr>\n",
       "    <tr>\n",
       "      <th>4</th>\n",
       "      <td>Saa3</td>\n",
       "      <td>18</td>\n",
       "      <td>0.000000</td>\n",
       "      <td>0.000000</td>\n",
       "    </tr>\n",
       "    <tr>\n",
       "      <th>...</th>\n",
       "      <td>...</td>\n",
       "      <td>...</td>\n",
       "      <td>...</td>\n",
       "      <td>...</td>\n",
       "    </tr>\n",
       "    <tr>\n",
       "      <th>630</th>\n",
       "      <td>Cd300lf</td>\n",
       "      <td>5</td>\n",
       "      <td>0.000246</td>\n",
       "      <td>0.003735</td>\n",
       "    </tr>\n",
       "    <tr>\n",
       "      <th>631</th>\n",
       "      <td>Prkcb</td>\n",
       "      <td>5</td>\n",
       "      <td>0.000246</td>\n",
       "      <td>0.003735</td>\n",
       "    </tr>\n",
       "    <tr>\n",
       "      <th>632</th>\n",
       "      <td>Enpp6</td>\n",
       "      <td>5</td>\n",
       "      <td>0.000246</td>\n",
       "      <td>0.003735</td>\n",
       "    </tr>\n",
       "    <tr>\n",
       "      <th>633</th>\n",
       "      <td>Slc4a8</td>\n",
       "      <td>5</td>\n",
       "      <td>0.000246</td>\n",
       "      <td>0.003735</td>\n",
       "    </tr>\n",
       "    <tr>\n",
       "      <th>634</th>\n",
       "      <td>Eya2</td>\n",
       "      <td>5</td>\n",
       "      <td>0.000246</td>\n",
       "      <td>0.003735</td>\n",
       "    </tr>\n",
       "  </tbody>\n",
       "</table>\n",
       "<p>635 rows × 4 columns</p>\n",
       "</div>"
      ],
      "text/plain": [
       "        Gene  Count   p value   q value\n",
       "0     Hba-a1     29  0.000000  0.000000\n",
       "1     Hbb-b1     20  0.000000  0.000000\n",
       "2    Gm11428     19  0.000000  0.000000\n",
       "3      Vsig4     18  0.000000  0.000000\n",
       "4       Saa3     18  0.000000  0.000000\n",
       "..       ...    ...       ...       ...\n",
       "630  Cd300lf      5  0.000246  0.003735\n",
       "631    Prkcb      5  0.000246  0.003735\n",
       "632    Enpp6      5  0.000246  0.003735\n",
       "633   Slc4a8      5  0.000246  0.003735\n",
       "634     Eya2      5  0.000246  0.003735\n",
       "\n",
       "[635 rows x 4 columns]"
      ]
     },
     "execution_count": 47,
     "metadata": {},
     "output_type": "execute_result"
    }
   ],
   "source": [
    "a.merge_hubs(a.metadata, new_name = 'Universal', calculate_thresh=True, p_thres = 0.01, bg_N = 20116)"
   ]
  },
  {
   "cell_type": "code",
   "execution_count": 54,
   "id": "c3411991-85a5-4577-8435-e2384737f16f",
   "metadata": {},
   "outputs": [
    {
     "data": {
      "text/html": [
       "<div>\n",
       "<style scoped>\n",
       "    .dataframe tbody tr th:only-of-type {\n",
       "        vertical-align: middle;\n",
       "    }\n",
       "\n",
       "    .dataframe tbody tr th {\n",
       "        vertical-align: top;\n",
       "    }\n",
       "\n",
       "    .dataframe thead th {\n",
       "        text-align: right;\n",
       "    }\n",
       "</style>\n",
       "<table border=\"1\" class=\"dataframe\">\n",
       "  <thead>\n",
       "    <tr style=\"text-align: right;\">\n",
       "      <th></th>\n",
       "      <th>Gene</th>\n",
       "      <th>Occurence</th>\n",
       "    </tr>\n",
       "  </thead>\n",
       "  <tbody>\n",
       "    <tr>\n",
       "      <th>0</th>\n",
       "      <td>Hba-a1</td>\n",
       "      <td>29</td>\n",
       "    </tr>\n",
       "    <tr>\n",
       "      <th>1</th>\n",
       "      <td>Hbb-b1</td>\n",
       "      <td>20</td>\n",
       "    </tr>\n",
       "    <tr>\n",
       "      <th>2</th>\n",
       "      <td>Gm11428</td>\n",
       "      <td>19</td>\n",
       "    </tr>\n",
       "    <tr>\n",
       "      <th>3</th>\n",
       "      <td>Saa3</td>\n",
       "      <td>18</td>\n",
       "    </tr>\n",
       "    <tr>\n",
       "      <th>4</th>\n",
       "      <td>Vsig4</td>\n",
       "      <td>18</td>\n",
       "    </tr>\n",
       "    <tr>\n",
       "      <th>...</th>\n",
       "      <td>...</td>\n",
       "      <td>...</td>\n",
       "    </tr>\n",
       "    <tr>\n",
       "      <th>630</th>\n",
       "      <td>Alox12</td>\n",
       "      <td>5</td>\n",
       "    </tr>\n",
       "    <tr>\n",
       "      <th>631</th>\n",
       "      <td>Sdcbp2</td>\n",
       "      <td>5</td>\n",
       "    </tr>\n",
       "    <tr>\n",
       "      <th>632</th>\n",
       "      <td>Nfam1</td>\n",
       "      <td>5</td>\n",
       "    </tr>\n",
       "    <tr>\n",
       "      <th>633</th>\n",
       "      <td>Cfb</td>\n",
       "      <td>5</td>\n",
       "    </tr>\n",
       "    <tr>\n",
       "      <th>634</th>\n",
       "      <td>Slc39a4</td>\n",
       "      <td>5</td>\n",
       "    </tr>\n",
       "  </tbody>\n",
       "</table>\n",
       "<p>635 rows × 2 columns</p>\n",
       "</div>"
      ],
      "text/plain": [
       "        Gene  Occurence\n",
       "0     Hba-a1         29\n",
       "1     Hbb-b1         20\n",
       "2    Gm11428         19\n",
       "3       Saa3         18\n",
       "4      Vsig4         18\n",
       "..       ...        ...\n",
       "630   Alox12          5\n",
       "631   Sdcbp2          5\n",
       "632    Nfam1          5\n",
       "633      Cfb          5\n",
       "634  Slc39a4          5\n",
       "\n",
       "[635 rows x 2 columns]"
      ]
     },
     "execution_count": 54,
     "metadata": {},
     "output_type": "execute_result"
    }
   ],
   "source": [
    "b = pd.DataFrame(a.hubs['Universal'],\n",
    "             columns = ['Gene', 'Occurence']).sort_values('Occurence', ascending = False).reset_index(drop = True)\n",
    "b"
   ]
  },
  {
   "cell_type": "code",
   "execution_count": 55,
   "id": "ffeae374-10d5-4916-a97f-505c73d5d6d0",
   "metadata": {},
   "outputs": [],
   "source": [
    "b.to_csv('../sup_tables/universal_mouse.csv')"
   ]
  },
  {
   "cell_type": "code",
   "execution_count": null,
   "id": "04b6cfc2-ef0f-4c12-ae75-d81c125bc49b",
   "metadata": {},
   "outputs": [],
   "source": []
  },
  {
   "cell_type": "code",
   "execution_count": 56,
   "id": "4c111b4a-b7ac-49e4-a87d-0eb469eca228",
   "metadata": {},
   "outputs": [
    {
     "name": "stdout",
     "output_type": "stream",
     "text": [
      "A gene will occur 7 times at 0.42% chance\n",
      "Threfore 7 is the calculated_threshold\n"
     ]
    },
    {
     "data": {
      "text/html": [
       "<div>\n",
       "<style scoped>\n",
       "    .dataframe tbody tr th:only-of-type {\n",
       "        vertical-align: middle;\n",
       "    }\n",
       "\n",
       "    .dataframe tbody tr th {\n",
       "        vertical-align: top;\n",
       "    }\n",
       "\n",
       "    .dataframe thead th {\n",
       "        text-align: right;\n",
       "    }\n",
       "</style>\n",
       "<table border=\"1\" class=\"dataframe\">\n",
       "  <thead>\n",
       "    <tr style=\"text-align: right;\">\n",
       "      <th></th>\n",
       "      <th>Gene</th>\n",
       "      <th>Occurence</th>\n",
       "    </tr>\n",
       "  </thead>\n",
       "  <tbody>\n",
       "    <tr>\n",
       "      <th>0</th>\n",
       "      <td>MMP9</td>\n",
       "      <td>14</td>\n",
       "    </tr>\n",
       "    <tr>\n",
       "      <th>1</th>\n",
       "      <td>ITM2C</td>\n",
       "      <td>13</td>\n",
       "    </tr>\n",
       "    <tr>\n",
       "      <th>2</th>\n",
       "      <td>MYL9</td>\n",
       "      <td>13</td>\n",
       "    </tr>\n",
       "    <tr>\n",
       "      <th>3</th>\n",
       "      <td>PTGS1</td>\n",
       "      <td>12</td>\n",
       "    </tr>\n",
       "    <tr>\n",
       "      <th>4</th>\n",
       "      <td>AKR1B1</td>\n",
       "      <td>12</td>\n",
       "    </tr>\n",
       "    <tr>\n",
       "      <th>...</th>\n",
       "      <td>...</td>\n",
       "      <td>...</td>\n",
       "    </tr>\n",
       "    <tr>\n",
       "      <th>729</th>\n",
       "      <td>TNRC18</td>\n",
       "      <td>7</td>\n",
       "    </tr>\n",
       "    <tr>\n",
       "      <th>730</th>\n",
       "      <td>HNRNPH2</td>\n",
       "      <td>7</td>\n",
       "    </tr>\n",
       "    <tr>\n",
       "      <th>731</th>\n",
       "      <td>SLC25A32</td>\n",
       "      <td>7</td>\n",
       "    </tr>\n",
       "    <tr>\n",
       "      <th>732</th>\n",
       "      <td>SETD1B</td>\n",
       "      <td>7</td>\n",
       "    </tr>\n",
       "    <tr>\n",
       "      <th>733</th>\n",
       "      <td>PWP2</td>\n",
       "      <td>7</td>\n",
       "    </tr>\n",
       "  </tbody>\n",
       "</table>\n",
       "<p>734 rows × 2 columns</p>\n",
       "</div>"
      ],
      "text/plain": [
       "         Gene  Occurence\n",
       "0        MMP9         14\n",
       "1       ITM2C         13\n",
       "2        MYL9         13\n",
       "3       PTGS1         12\n",
       "4      AKR1B1         12\n",
       "..        ...        ...\n",
       "729    TNRC18          7\n",
       "730   HNRNPH2          7\n",
       "731  SLC25A32          7\n",
       "732    SETD1B          7\n",
       "733      PWP2          7\n",
       "\n",
       "[734 rows x 2 columns]"
      ]
     },
     "execution_count": 56,
     "metadata": {},
     "output_type": "execute_result"
    }
   ],
   "source": [
    "a = sp.load_hubs(species = 'Human', sig_type = 'cell_type')\n",
    "a.merge_hubs(a.metadata, new_name = 'Universal', calculate_thresh=True,\n",
    "             p_thres = 0.01, bg_N = 21751)\n",
    "\n",
    "b = pd.DataFrame(a.hubs['Universal'],\n",
    "             columns = ['Gene', 'Occurence']).sort_values('Occurence', ascending = False).reset_index(drop = True)\n",
    "b"
   ]
  },
  {
   "cell_type": "code",
   "execution_count": 57,
   "id": "2246b41b-d1d9-4025-8cdd-1f0292aeb539",
   "metadata": {},
   "outputs": [],
   "source": [
    "b.to_csv('../sup_tables/universal_human.csv')"
   ]
  },
  {
   "cell_type": "code",
   "execution_count": null,
   "id": "3ee33bd9-4193-4fbd-b51f-fda4a1147ab9",
   "metadata": {},
   "outputs": [],
   "source": []
  },
  {
   "cell_type": "code",
   "execution_count": null,
   "id": "542d4ef3-12ad-43ed-b733-58dc5f0f60f3",
   "metadata": {},
   "outputs": [],
   "source": []
  },
  {
   "cell_type": "code",
   "execution_count": null,
   "id": "6e0dc5aa-492f-495d-a6d8-41e355fde740",
   "metadata": {},
   "outputs": [],
   "source": []
  },
  {
   "cell_type": "code",
   "execution_count": null,
   "id": "a5104400-e1ac-47f1-b136-7c8ecb6101cb",
   "metadata": {},
   "outputs": [],
   "source": []
  },
  {
   "cell_type": "code",
   "execution_count": null,
   "id": "a8d85d21-a483-492f-96b0-a710b384a6f5",
   "metadata": {},
   "outputs": [],
   "source": []
  },
  {
   "cell_type": "code",
   "execution_count": 54,
   "id": "acde93e2-fa74-4c59-a02d-b3701f532dd5",
   "metadata": {},
   "outputs": [
    {
     "name": "stdout",
     "output_type": "stream",
     "text": [
      "R1_misc.ipynb  scDRS_comparison.ipynb  toydata_mouse.h5ad\n"
     ]
    }
   ],
   "source": [
    "ls"
   ]
  },
  {
   "cell_type": "code",
   "execution_count": null,
   "id": "1ed1b9a2-d15a-48d8-9cc3-2db769fc4c34",
   "metadata": {},
   "outputs": [],
   "source": []
  },
  {
   "cell_type": "code",
   "execution_count": null,
   "id": "defea1d6-daff-44c6-aace-4e9c6ec0bd01",
   "metadata": {},
   "outputs": [],
   "source": []
  },
  {
   "cell_type": "code",
   "execution_count": 18,
   "id": "473fa13f-a536-4384-835f-ca8c83e4d857",
   "metadata": {},
   "outputs": [
    {
     "data": {
      "text/html": [
       "<div>\n",
       "<style scoped>\n",
       "    .dataframe tbody tr th:only-of-type {\n",
       "        vertical-align: middle;\n",
       "    }\n",
       "\n",
       "    .dataframe tbody tr th {\n",
       "        vertical-align: top;\n",
       "    }\n",
       "\n",
       "    .dataframe thead th {\n",
       "        text-align: right;\n",
       "    }\n",
       "</style>\n",
       "<table border=\"1\" class=\"dataframe\">\n",
       "  <thead>\n",
       "    <tr style=\"text-align: right;\">\n",
       "      <th></th>\n",
       "      <th>blood.memory b cell.0</th>\n",
       "    </tr>\n",
       "  </thead>\n",
       "  <tbody>\n",
       "    <tr>\n",
       "      <th>0</th>\n",
       "      <td>H3F3C</td>\n",
       "    </tr>\n",
       "    <tr>\n",
       "      <th>1</th>\n",
       "      <td>PABPC3</td>\n",
       "    </tr>\n",
       "    <tr>\n",
       "      <th>2</th>\n",
       "      <td>FGF13</td>\n",
       "    </tr>\n",
       "    <tr>\n",
       "      <th>3</th>\n",
       "      <td>NBPF26</td>\n",
       "    </tr>\n",
       "    <tr>\n",
       "      <th>4</th>\n",
       "      <td>MTRNR2L12</td>\n",
       "    </tr>\n",
       "    <tr>\n",
       "      <th>5</th>\n",
       "      <td>IGKJ1</td>\n",
       "    </tr>\n",
       "    <tr>\n",
       "      <th>6</th>\n",
       "      <td>HLA-DQB2</td>\n",
       "    </tr>\n",
       "    <tr>\n",
       "      <th>7</th>\n",
       "      <td>MTRNR2L1</td>\n",
       "    </tr>\n",
       "    <tr>\n",
       "      <th>8</th>\n",
       "      <td>CCR6</td>\n",
       "    </tr>\n",
       "    <tr>\n",
       "      <th>9</th>\n",
       "      <td>PKD2</td>\n",
       "    </tr>\n",
       "    <tr>\n",
       "      <th>10</th>\n",
       "      <td>MATR3</td>\n",
       "    </tr>\n",
       "    <tr>\n",
       "      <th>11</th>\n",
       "      <td>NPIPB3</td>\n",
       "    </tr>\n",
       "    <tr>\n",
       "      <th>12</th>\n",
       "      <td>NAPA</td>\n",
       "    </tr>\n",
       "    <tr>\n",
       "      <th>13</th>\n",
       "      <td>SPDYE2B</td>\n",
       "    </tr>\n",
       "    <tr>\n",
       "      <th>14</th>\n",
       "      <td>HLA-DRB5</td>\n",
       "    </tr>\n",
       "    <tr>\n",
       "      <th>15</th>\n",
       "      <td>SPDYE6</td>\n",
       "    </tr>\n",
       "    <tr>\n",
       "      <th>16</th>\n",
       "      <td>IGKV1-39</td>\n",
       "    </tr>\n",
       "    <tr>\n",
       "      <th>17</th>\n",
       "      <td>SPDYA</td>\n",
       "    </tr>\n",
       "    <tr>\n",
       "      <th>18</th>\n",
       "      <td>UQCRHL</td>\n",
       "    </tr>\n",
       "    <tr>\n",
       "      <th>19</th>\n",
       "      <td>MTRNR2L10</td>\n",
       "    </tr>\n",
       "    <tr>\n",
       "      <th>20</th>\n",
       "      <td>SCARNA9</td>\n",
       "    </tr>\n",
       "    <tr>\n",
       "      <th>21</th>\n",
       "      <td>LINC01291</td>\n",
       "    </tr>\n",
       "    <tr>\n",
       "      <th>22</th>\n",
       "      <td>SPDYE2</td>\n",
       "    </tr>\n",
       "    <tr>\n",
       "      <th>23</th>\n",
       "      <td>MTRNR2L8</td>\n",
       "    </tr>\n",
       "  </tbody>\n",
       "</table>\n",
       "</div>"
      ],
      "text/plain": [
       "   blood.memory b cell.0\n",
       "0                  H3F3C\n",
       "1                 PABPC3\n",
       "2                  FGF13\n",
       "3                 NBPF26\n",
       "4              MTRNR2L12\n",
       "5                  IGKJ1\n",
       "6               HLA-DQB2\n",
       "7               MTRNR2L1\n",
       "8                   CCR6\n",
       "9                   PKD2\n",
       "10                 MATR3\n",
       "11                NPIPB3\n",
       "12                  NAPA\n",
       "13               SPDYE2B\n",
       "14              HLA-DRB5\n",
       "15                SPDYE6\n",
       "16              IGKV1-39\n",
       "17                 SPDYA\n",
       "18                UQCRHL\n",
       "19             MTRNR2L10\n",
       "20               SCARNA9\n",
       "21             LINC01291\n",
       "22                SPDYE2\n",
       "23              MTRNR2L8"
      ]
     },
     "execution_count": 18,
     "metadata": {},
     "output_type": "execute_result"
    }
   ],
   "source": [
    "pd.DataFrame(genes, columns = [s])"
   ]
  },
  {
   "cell_type": "code",
   "execution_count": null,
   "id": "695a4ae9-2329-405e-9cbb-d3ed5c941c5f",
   "metadata": {},
   "outputs": [],
   "source": []
  },
  {
   "cell_type": "code",
   "execution_count": null,
   "id": "fc75f711-6e7b-4dd4-8e10-2869bf35591f",
   "metadata": {},
   "outputs": [],
   "source": []
  },
  {
   "cell_type": "code",
   "execution_count": 79,
   "id": "a199778f-2abb-4c23-af26-0077b4d2ebea",
   "metadata": {},
   "outputs": [],
   "source": [
    "import senepy as sp"
   ]
  },
  {
   "cell_type": "code",
   "execution_count": 61,
   "id": "d676e073-b321-477e-95a7-a57c4005d7e9",
   "metadata": {},
   "outputs": [],
   "source": [
    "import pandas as pd\n",
    "import numpy as np"
   ]
  },
  {
   "cell_type": "code",
   "execution_count": null,
   "id": "6fb79e51-ecd0-414a-88d1-c075564b30de",
   "metadata": {},
   "outputs": [],
   "source": []
  },
  {
   "cell_type": "code",
   "execution_count": 47,
   "id": "a00800f9-4302-4af0-ba12-3b598adef745",
   "metadata": {},
   "outputs": [],
   "source": [
    "hubs = sp.load_hubs(species = 'Mouse', sig_type = 'cell_type')"
   ]
  },
  {
   "cell_type": "code",
   "execution_count": 65,
   "id": "42e1a857-1da3-4abc-8cd6-f1e5d83a0331",
   "metadata": {},
   "outputs": [
    {
     "name": "stdout",
     "output_type": "stream",
     "text": [
      "A gene will occur 1 times at 0.04% chance\n",
      "Threfore 1 is the calculated_threshold\n"
     ]
    }
   ],
   "source": [
    "a = hubs.merge_hubs(hubs.metadata[hubs.metadata.cell.str.contains('endothelial')], calculate_thresh = True, new_name = 'adf')\n",
    "\n",
    "a = a[a.Count > 1]"
   ]
  },
  {
   "cell_type": "code",
   "execution_count": 67,
   "id": "7fb03ee7-834f-4ed4-802b-87349ab4538a",
   "metadata": {},
   "outputs": [
    {
     "name": "stdout",
     "output_type": "stream",
     "text": [
      "A gene will occur 1 times at 0.23% chance\n",
      "Threfore 1 is the calculated_threshold\n"
     ]
    }
   ],
   "source": [
    "b = hubs.merge_hubs(hubs.metadata[hubs.metadata.cell == 'fibroblast'], calculate_thresh = True, new_name = 'adf')"
   ]
  },
  {
   "cell_type": "code",
   "execution_count": 68,
   "id": "b00be022-b490-4e82-ba12-9b693d6e6db7",
   "metadata": {},
   "outputs": [],
   "source": [
    "b = b[b.Count > 1]"
   ]
  },
  {
   "cell_type": "code",
   "execution_count": 69,
   "id": "dbaf5fbc-f26f-4d1a-851d-ec9f0029ec22",
   "metadata": {},
   "outputs": [
    {
     "name": "stdout",
     "output_type": "stream",
     "text": [
      "A gene will occur 1 times at 0.3% chance\n",
      "Threfore 1 is the calculated_threshold\n"
     ]
    }
   ],
   "source": [
    "c = hubs.merge_hubs(hubs.metadata[hubs.metadata.cell.str.contains('macrophage')], calculate_thresh = True, new_name = 'adf')"
   ]
  },
  {
   "cell_type": "code",
   "execution_count": 70,
   "id": "c1608fc9-ba94-4c9a-9f34-dceb0ad35d6a",
   "metadata": {},
   "outputs": [],
   "source": [
    "c = c[c.Count > 1]"
   ]
  },
  {
   "cell_type": "code",
   "execution_count": 71,
   "id": "2065e50b-ddfb-4aa1-8c13-ee7023c07ab6",
   "metadata": {},
   "outputs": [],
   "source": [
    "a['Cell'] = 'endothelial'\n",
    "b['Cell'] = 'fibroblast'\n",
    "c['Cell'] = 'macrophage'"
   ]
  },
  {
   "cell_type": "code",
   "execution_count": 72,
   "id": "3dd077d2-6a74-4f8a-9288-bd63d4b9185b",
   "metadata": {},
   "outputs": [],
   "source": [
    "df = pd.concat((a,b,c))"
   ]
  },
  {
   "cell_type": "code",
   "execution_count": 73,
   "id": "eb81af53-3be9-4ad2-91c8-a5100d3b5214",
   "metadata": {},
   "outputs": [],
   "source": [
    "df['q value'] = abs(df['q value'])\n",
    "df['p value'] = abs(df['p value'])"
   ]
  },
  {
   "cell_type": "code",
   "execution_count": null,
   "id": "068b9064-68c2-4cbc-a39e-6a5b29e7becb",
   "metadata": {},
   "outputs": [],
   "source": []
  },
  {
   "cell_type": "code",
   "execution_count": 75,
   "id": "9797cd7e-7d1d-45f0-adec-5f10963eb8f8",
   "metadata": {},
   "outputs": [],
   "source": [
    "df = df.reset_index(drop = True)"
   ]
  },
  {
   "cell_type": "code",
   "execution_count": 76,
   "id": "b1e0e265-7f9d-4e75-b90e-a5455b3a9277",
   "metadata": {},
   "outputs": [],
   "source": [
    "df.to_csv('../sup_tables/cell_type_universal.csv')"
   ]
  },
  {
   "cell_type": "code",
   "execution_count": null,
   "id": "6e41e467-6e09-4df8-8ac6-1e9bec009b45",
   "metadata": {},
   "outputs": [],
   "source": []
  },
  {
   "cell_type": "code",
   "execution_count": 78,
   "id": "361b8ec2-063b-4395-ac59-82c9bf016e43",
   "metadata": {},
   "outputs": [
    {
     "data": {
      "text/html": [
       "<div>\n",
       "<style scoped>\n",
       "    .dataframe tbody tr th:only-of-type {\n",
       "        vertical-align: middle;\n",
       "    }\n",
       "\n",
       "    .dataframe tbody tr th {\n",
       "        vertical-align: top;\n",
       "    }\n",
       "\n",
       "    .dataframe thead th {\n",
       "        text-align: right;\n",
       "    }\n",
       "</style>\n",
       "<table border=\"1\" class=\"dataframe\">\n",
       "  <thead>\n",
       "    <tr style=\"text-align: right;\">\n",
       "      <th></th>\n",
       "      <th>Gene</th>\n",
       "      <th>Count</th>\n",
       "      <th>p value</th>\n",
       "      <th>q value</th>\n",
       "      <th>Cell</th>\n",
       "    </tr>\n",
       "  </thead>\n",
       "  <tbody>\n",
       "    <tr>\n",
       "      <th>0</th>\n",
       "      <td>Lcn2</td>\n",
       "      <td>4</td>\n",
       "      <td>2.209851e-10</td>\n",
       "      <td>1.071225e-07</td>\n",
       "      <td>macrophage</td>\n",
       "    </tr>\n",
       "    <tr>\n",
       "      <th>1</th>\n",
       "      <td>Chi3l3</td>\n",
       "      <td>4</td>\n",
       "      <td>2.209851e-10</td>\n",
       "      <td>1.071225e-07</td>\n",
       "      <td>macrophage</td>\n",
       "    </tr>\n",
       "    <tr>\n",
       "      <th>2</th>\n",
       "      <td>Hba-a1</td>\n",
       "      <td>4</td>\n",
       "      <td>2.209851e-10</td>\n",
       "      <td>1.071225e-07</td>\n",
       "      <td>macrophage</td>\n",
       "    </tr>\n",
       "    <tr>\n",
       "      <th>3</th>\n",
       "      <td>Prtn3</td>\n",
       "      <td>4</td>\n",
       "      <td>2.209851e-10</td>\n",
       "      <td>1.071225e-07</td>\n",
       "      <td>macrophage</td>\n",
       "    </tr>\n",
       "    <tr>\n",
       "      <th>4</th>\n",
       "      <td>Elane</td>\n",
       "      <td>3</td>\n",
       "      <td>1.606043e-07</td>\n",
       "      <td>1.730065e-05</td>\n",
       "      <td>macrophage</td>\n",
       "    </tr>\n",
       "    <tr>\n",
       "      <th>...</th>\n",
       "      <td>...</td>\n",
       "      <td>...</td>\n",
       "      <td>...</td>\n",
       "      <td>...</td>\n",
       "      <td>...</td>\n",
       "    </tr>\n",
       "    <tr>\n",
       "      <th>147</th>\n",
       "      <td>Lyve1</td>\n",
       "      <td>2</td>\n",
       "      <td>3.475391e-05</td>\n",
       "      <td>4.433410e-04</td>\n",
       "      <td>macrophage</td>\n",
       "    </tr>\n",
       "    <tr>\n",
       "      <th>148</th>\n",
       "      <td>Fam55d</td>\n",
       "      <td>2</td>\n",
       "      <td>3.475391e-05</td>\n",
       "      <td>4.433410e-04</td>\n",
       "      <td>macrophage</td>\n",
       "    </tr>\n",
       "    <tr>\n",
       "      <th>149</th>\n",
       "      <td>Polrmt</td>\n",
       "      <td>2</td>\n",
       "      <td>3.475391e-05</td>\n",
       "      <td>4.433410e-04</td>\n",
       "      <td>macrophage</td>\n",
       "    </tr>\n",
       "    <tr>\n",
       "      <th>150</th>\n",
       "      <td>Mapk13</td>\n",
       "      <td>2</td>\n",
       "      <td>3.475391e-05</td>\n",
       "      <td>4.433410e-04</td>\n",
       "      <td>macrophage</td>\n",
       "    </tr>\n",
       "    <tr>\n",
       "      <th>151</th>\n",
       "      <td>Penk</td>\n",
       "      <td>2</td>\n",
       "      <td>3.475391e-05</td>\n",
       "      <td>4.433410e-04</td>\n",
       "      <td>macrophage</td>\n",
       "    </tr>\n",
       "  </tbody>\n",
       "</table>\n",
       "<p>152 rows × 5 columns</p>\n",
       "</div>"
      ],
      "text/plain": [
       "       Gene  Count       p value       q value        Cell\n",
       "0      Lcn2      4  2.209851e-10  1.071225e-07  macrophage\n",
       "1    Chi3l3      4  2.209851e-10  1.071225e-07  macrophage\n",
       "2    Hba-a1      4  2.209851e-10  1.071225e-07  macrophage\n",
       "3     Prtn3      4  2.209851e-10  1.071225e-07  macrophage\n",
       "4     Elane      3  1.606043e-07  1.730065e-05  macrophage\n",
       "..      ...    ...           ...           ...         ...\n",
       "147   Lyve1      2  3.475391e-05  4.433410e-04  macrophage\n",
       "148  Fam55d      2  3.475391e-05  4.433410e-04  macrophage\n",
       "149  Polrmt      2  3.475391e-05  4.433410e-04  macrophage\n",
       "150  Mapk13      2  3.475391e-05  4.433410e-04  macrophage\n",
       "151    Penk      2  3.475391e-05  4.433410e-04  macrophage\n",
       "\n",
       "[152 rows x 5 columns]"
      ]
     },
     "execution_count": 78,
     "metadata": {},
     "output_type": "execute_result"
    }
   ],
   "source": [
    "c"
   ]
  },
  {
   "cell_type": "code",
   "execution_count": null,
   "id": "a0ce4b5b-ea91-4db3-ae54-bde80422c2be",
   "metadata": {},
   "outputs": [],
   "source": []
  },
  {
   "cell_type": "code",
   "execution_count": 7,
   "id": "ac421eaa-1a01-454d-b96a-f91ffc1c3679",
   "metadata": {},
   "outputs": [
    {
     "data": {
      "text/html": [
       "<div>\n",
       "<style scoped>\n",
       "    .dataframe tbody tr th:only-of-type {\n",
       "        vertical-align: middle;\n",
       "    }\n",
       "\n",
       "    .dataframe tbody tr th {\n",
       "        vertical-align: top;\n",
       "    }\n",
       "\n",
       "    .dataframe thead th {\n",
       "        text-align: right;\n",
       "    }\n",
       "</style>\n",
       "<table border=\"1\" class=\"dataframe\">\n",
       "  <thead>\n",
       "    <tr style=\"text-align: right;\">\n",
       "      <th></th>\n",
       "      <th>tissue</th>\n",
       "      <th>cell</th>\n",
       "      <th>size</th>\n",
       "      <th>n_sen</th>\n",
       "      <th>hyp</th>\n",
       "    </tr>\n",
       "  </thead>\n",
       "  <tbody>\n",
       "    <tr>\n",
       "      <th>1</th>\n",
       "      <td>Bladder</td>\n",
       "      <td>endothelial cell</td>\n",
       "      <td>36</td>\n",
       "      <td>1</td>\n",
       "      <td>0.281863</td>\n",
       "    </tr>\n",
       "    <tr>\n",
       "      <th>5</th>\n",
       "      <td>Fat</td>\n",
       "      <td>endothelial cell</td>\n",
       "      <td>416</td>\n",
       "      <td>12</td>\n",
       "      <td>0.000466</td>\n",
       "    </tr>\n",
       "    <tr>\n",
       "      <th>9</th>\n",
       "      <td>Heart_and_Aorta</td>\n",
       "      <td>endothelial cell</td>\n",
       "      <td>50</td>\n",
       "      <td>4</td>\n",
       "      <td>0.001124</td>\n",
       "    </tr>\n",
       "  </tbody>\n",
       "</table>\n",
       "</div>"
      ],
      "text/plain": [
       "            tissue              cell  size  n_sen       hyp\n",
       "1          Bladder  endothelial cell    36      1  0.281863\n",
       "5              Fat  endothelial cell   416     12  0.000466\n",
       "9  Heart_and_Aorta  endothelial cell    50      4  0.001124"
      ]
     },
     "execution_count": 7,
     "metadata": {},
     "output_type": "execute_result"
    }
   ],
   "source": [
    "hubs.metadata[hubs.metadata.cell.str.cotains( == 'endothelial cell']"
   ]
  },
  {
   "cell_type": "code",
   "execution_count": null,
   "id": "fa8c0ec5-180b-4ec1-99ee-e0feca4f6618",
   "metadata": {},
   "outputs": [],
   "source": []
  },
  {
   "cell_type": "code",
   "execution_count": null,
   "id": "ca189ba6-fd86-42bc-a3fd-a264db3da689",
   "metadata": {},
   "outputs": [],
   "source": []
  },
  {
   "cell_type": "code",
   "execution_count": 80,
   "id": "3a5957b8-efad-4b99-bc75-209acacf6592",
   "metadata": {},
   "outputs": [
    {
     "name": "stdout",
     "output_type": "stream",
     "text": [
      "A gene will occur 5 times at 0.37% chance\n",
      "Threfore 5 is the calculated_threshold\n"
     ]
    }
   ],
   "source": [
    "u = hubs.merge_hubs(hubs.metadata, calculate_thresh=True, p_thres = 0.01, new_name='adf')"
   ]
  },
  {
   "cell_type": "code",
   "execution_count": 83,
   "id": "2dbaf59e-b24e-49f9-ba92-384439adae14",
   "metadata": {},
   "outputs": [],
   "source": [
    "u.to_csv('../sup_tables/universal_mouse.csv')"
   ]
  },
  {
   "cell_type": "code",
   "execution_count": null,
   "id": "706e3c06-ebec-4bef-8aeb-1d26b8b0f516",
   "metadata": {},
   "outputs": [],
   "source": []
  },
  {
   "cell_type": "code",
   "execution_count": null,
   "id": "1ddfe350-5dc2-414c-8343-67371131fea4",
   "metadata": {},
   "outputs": [],
   "source": []
  },
  {
   "cell_type": "code",
   "execution_count": 84,
   "id": "101255b5-412c-4fc3-bf91-3b79e05b4d8e",
   "metadata": {},
   "outputs": [
    {
     "name": "stdout",
     "output_type": "stream",
     "text": [
      "A gene will occur 7 times at 0.42% chance\n",
      "Threfore 7 is the calculated_threshold\n"
     ]
    }
   ],
   "source": [
    "hubs = sp.load_hubs(species = 'Human', sig_type = 'cell_type')\n",
    "u = hubs.merge_hubs(hubs.metadata, calculate_thresh=True, p_thres = 0.01, new_name='adf')"
   ]
  },
  {
   "cell_type": "code",
   "execution_count": 86,
   "id": "f3815905-ac72-4168-bbcf-39fc65d78e99",
   "metadata": {},
   "outputs": [],
   "source": [
    "u.to_csv('../sup_tables/universal_human.csv')"
   ]
  },
  {
   "cell_type": "code",
   "execution_count": null,
   "id": "4f5eb659-637f-487b-9f83-da585a5faa6f",
   "metadata": {},
   "outputs": [],
   "source": []
  }
 ],
 "metadata": {
  "kernelspec": {
   "display_name": "Python 3 (ipykernel)",
   "language": "python",
   "name": "python3"
  },
  "language_info": {
   "codemirror_mode": {
    "name": "ipython",
    "version": 3
   },
   "file_extension": ".py",
   "mimetype": "text/x-python",
   "name": "python",
   "nbconvert_exporter": "python",
   "pygments_lexer": "ipython3",
   "version": "3.9.18"
  }
 },
 "nbformat": 4,
 "nbformat_minor": 5
}
