{
 "cells": [
  {
   "cell_type": "markdown",
   "id": "e36a0f50-1bb7-4234-8154-eee4383a1a89",
   "metadata": {},
   "source": [
    "comparison of DE to this method"
   ]
  },
  {
   "cell_type": "code",
   "execution_count": 1,
   "id": "6a1fbb30-7b64-4510-8e43-95556994a607",
   "metadata": {},
   "outputs": [],
   "source": [
    "import pandas as pd\n",
    "from scipy import stats\n",
    "import seaborn as sns\n",
    "import matplotlib.pyplot as plt\n",
    "import numpy as np"
   ]
  },
  {
   "cell_type": "code",
   "execution_count": 2,
   "id": "370afd3c-0e17-4656-97e3-b650f8e77589",
   "metadata": {},
   "outputs": [],
   "source": [
    "import scanpy as sc"
   ]
  },
  {
   "cell_type": "code",
   "execution_count": 3,
   "id": "d482d980-0040-4241-a783-ad227a2027b4",
   "metadata": {},
   "outputs": [],
   "source": [
    "\n",
    "with open('../../data/gene_lists/mouse_markers.txt') as f:\n",
    "    markers = list(f)\n",
    "markers = [x for x in markers if not x.startswith('#') and ':' in x]\n",
    "markers = dict(map(lambda x: x.strip().split(':'), markers)) #dict marker:role\n",
    "\n",
    "\n",
    "#add senmayo\n",
    "senmayo = pd.read_csv('../../data/gene_lists/senMayo.csv')['Gene(human)'].values.tolist() #FIX MOUSE\n",
    "senmayo = [x[0] + x[1:].lower() for x in senmayo]\n",
    "senmayo = [x for x in senmayo if x not in list(markers)]\n",
    "senmayo = {x:'senmayo' for x in senmayo}\n",
    "markers = markers | senmayo"
   ]
  },
  {
   "cell_type": "code",
   "execution_count": 4,
   "id": "c22bba31-2e33-404c-8b9b-c4377cc88cd8",
   "metadata": {},
   "outputs": [],
   "source": [
    "bg = sc.read_h5ad('../../data/tms/tms-scVI-raw-data.h5ad').var_names"
   ]
  },
  {
   "cell_type": "code",
   "execution_count": 5,
   "id": "ce89806c-9743-4be7-88a6-8c47c60288df",
   "metadata": {},
   "outputs": [
    {
     "data": {
      "text/plain": [
       "20116"
      ]
     },
     "execution_count": 5,
     "metadata": {},
     "output_type": "execute_result"
    }
   ],
   "source": [
    "len(bg)"
   ]
  },
  {
   "cell_type": "code",
   "execution_count": null,
   "id": "3670f7e8-f102-4f87-a48a-1b05fef20e50",
   "metadata": {},
   "outputs": [],
   "source": []
  },
  {
   "cell_type": "code",
   "execution_count": null,
   "id": "5a0bd5d0-5ce1-4bd1-930c-be82d4c59196",
   "metadata": {},
   "outputs": [],
   "source": []
  },
  {
   "cell_type": "code",
   "execution_count": null,
   "id": "63606431-73ec-4066-8157-18960e2112b6",
   "metadata": {},
   "outputs": [],
   "source": []
  },
  {
   "cell_type": "code",
   "execution_count": 6,
   "id": "7dee8b1a-2e5c-4a23-83dd-072fe4c1e6ad",
   "metadata": {},
   "outputs": [],
   "source": [
    "de = pd.read_csv('../../data/gene_lists/elife-62293-supp2-v2-1_aging_genes.csv', index_col=0).T"
   ]
  },
  {
   "cell_type": "code",
   "execution_count": 8,
   "id": "20af31d3-2120-4a60-b0be-d4433ae7e39f",
   "metadata": {},
   "outputs": [],
   "source": [
    "sp = pd.concat(\n",
    "(pd.read_csv('mouse_gene_stats_fin.csv', index_col=0).reset_index(drop = True),\n",
    "pd.read_csv('mouse_gene_stats_addition.csv', index_col=0).reset_index(drop = True)))"
   ]
  },
  {
   "cell_type": "markdown",
   "id": "48e51c5b-55fa-4ee9-9cd7-303d144b7565",
   "metadata": {},
   "source": [
    "The highest enrichment of known senescence markers (one of the best metrics we have that this is working) is found at the union of newly added genes (ones with fdr < 0.05) and genes that were filtered previously AND are still expected to be found at a rate less than 1% by chance. The latter is likely becasue senescence programs that occur in a smaller number of cells are considered \"less significant\" than ones that happen in more cells, e.g., 2% vs 5%. There is another filtering method later on that uses fdr correction on all comparisons. Regardless, the majority of OrigiFilt == True were also BH < 0.05"
   ]
  },
  {
   "cell_type": "code",
   "execution_count": 9,
   "id": "eb3696c4-cc6f-44c0-aed1-87bdcf14a16b",
   "metadata": {},
   "outputs": [],
   "source": [
    "sp = sp[(sp.BH < 0.05) | ((sp.OrigFilt) & (sp.p < 0.01))]"
   ]
  },
  {
   "cell_type": "code",
   "execution_count": null,
   "id": "3dff27b1-4092-4b16-816e-b4576a75b975",
   "metadata": {},
   "outputs": [],
   "source": []
  },
  {
   "cell_type": "code",
   "execution_count": 10,
   "id": "1f002c3a-0752-49fb-bd3e-dcd406a9b3c7",
   "metadata": {},
   "outputs": [],
   "source": [
    "out = []\n",
    "\n",
    "a = set(markers)\n",
    "for i in de.index:\n",
    "    b = set(de.loc[i][de.loc[i] == 1].index)\n",
    "    n = a.intersection(b)\n",
    "    r = stats.hypergeom.sf(len(n) - 1, len(bg), len(a), len(b))\n",
    "    out.append([i,r])"
   ]
  },
  {
   "cell_type": "code",
   "execution_count": 11,
   "id": "8a6f16dc-08ef-4e98-88a1-b558992e53d9",
   "metadata": {},
   "outputs": [],
   "source": [
    "de_res = pd.DataFrame(out, columns = ['cell', 'p']).sort_values('p').reset_index(drop = True)"
   ]
  },
  {
   "cell_type": "code",
   "execution_count": 12,
   "id": "34fb35f8-e3c4-42cc-9548-ffe613299ed3",
   "metadata": {},
   "outputs": [],
   "source": [
    "de_res['fdr'] = de_res.p * len(de_res)\n",
    "de_res['fdr'] = de_res['fdr'].clip(upper=1)"
   ]
  },
  {
   "cell_type": "code",
   "execution_count": 13,
   "id": "503bc679-5c12-41a7-83e2-98d82199b0e1",
   "metadata": {},
   "outputs": [
    {
     "data": {
      "text/html": [
       "<div>\n",
       "<style scoped>\n",
       "    .dataframe tbody tr th:only-of-type {\n",
       "        vertical-align: middle;\n",
       "    }\n",
       "\n",
       "    .dataframe tbody tr th {\n",
       "        vertical-align: top;\n",
       "    }\n",
       "\n",
       "    .dataframe thead th {\n",
       "        text-align: right;\n",
       "    }\n",
       "</style>\n",
       "<table border=\"1\" class=\"dataframe\">\n",
       "  <thead>\n",
       "    <tr style=\"text-align: right;\">\n",
       "      <th></th>\n",
       "      <th>cell</th>\n",
       "      <th>p</th>\n",
       "      <th>fdr</th>\n",
       "    </tr>\n",
       "  </thead>\n",
       "  <tbody>\n",
       "    <tr>\n",
       "      <th>0</th>\n",
       "      <td>GAT.mesenchymal stem cell of adipose</td>\n",
       "      <td>1.868490e-08</td>\n",
       "      <td>0.000001</td>\n",
       "    </tr>\n",
       "    <tr>\n",
       "      <th>1</th>\n",
       "      <td>Bladder.bladder cell</td>\n",
       "      <td>7.490523e-08</td>\n",
       "      <td>0.000006</td>\n",
       "    </tr>\n",
       "    <tr>\n",
       "      <th>2</th>\n",
       "      <td>Liver.endothelial cell of hepatic sinusoid</td>\n",
       "      <td>4.981055e-07</td>\n",
       "      <td>0.000038</td>\n",
       "    </tr>\n",
       "    <tr>\n",
       "      <th>3</th>\n",
       "      <td>Heart.fibroblast of cardiac tissue</td>\n",
       "      <td>9.454257e-07</td>\n",
       "      <td>0.000072</td>\n",
       "    </tr>\n",
       "    <tr>\n",
       "      <th>4</th>\n",
       "      <td>SCAT.myeloid cell</td>\n",
       "      <td>1.050035e-06</td>\n",
       "      <td>0.000080</td>\n",
       "    </tr>\n",
       "    <tr>\n",
       "      <th>5</th>\n",
       "      <td>MAT.mesenchymal stem cell of adipose</td>\n",
       "      <td>2.334265e-06</td>\n",
       "      <td>0.000177</td>\n",
       "    </tr>\n",
       "    <tr>\n",
       "      <th>6</th>\n",
       "      <td>Limb_Muscle.mesenchymal stem cell</td>\n",
       "      <td>3.508881e-06</td>\n",
       "      <td>0.000267</td>\n",
       "    </tr>\n",
       "    <tr>\n",
       "      <th>7</th>\n",
       "      <td>Mammary_Gland.basal cell</td>\n",
       "      <td>6.478482e-05</td>\n",
       "      <td>0.004924</td>\n",
       "    </tr>\n",
       "    <tr>\n",
       "      <th>8</th>\n",
       "      <td>SCAT.mesenchymal stem cell of adipose</td>\n",
       "      <td>9.014234e-05</td>\n",
       "      <td>0.006851</td>\n",
       "    </tr>\n",
       "    <tr>\n",
       "      <th>9</th>\n",
       "      <td>GAT.myeloid cell</td>\n",
       "      <td>1.789294e-04</td>\n",
       "      <td>0.013599</td>\n",
       "    </tr>\n",
       "    <tr>\n",
       "      <th>10</th>\n",
       "      <td>BAT.myeloid cell</td>\n",
       "      <td>2.408344e-04</td>\n",
       "      <td>0.018303</td>\n",
       "    </tr>\n",
       "    <tr>\n",
       "      <th>11</th>\n",
       "      <td>Aorta.aortic endothelial cell</td>\n",
       "      <td>3.421669e-04</td>\n",
       "      <td>0.026005</td>\n",
       "    </tr>\n",
       "    <tr>\n",
       "      <th>12</th>\n",
       "      <td>Limb_Muscle.endothelial cell</td>\n",
       "      <td>4.087621e-04</td>\n",
       "      <td>0.031066</td>\n",
       "    </tr>\n",
       "    <tr>\n",
       "      <th>13</th>\n",
       "      <td>BAT.B cell</td>\n",
       "      <td>5.516384e-04</td>\n",
       "      <td>0.041925</td>\n",
       "    </tr>\n",
       "    <tr>\n",
       "      <th>14</th>\n",
       "      <td>Diaphragm.skeletal muscle satellite cell</td>\n",
       "      <td>6.412862e-04</td>\n",
       "      <td>0.048738</td>\n",
       "    </tr>\n",
       "  </tbody>\n",
       "</table>\n",
       "</div>"
      ],
      "text/plain": [
       "                                          cell             p       fdr\n",
       "0         GAT.mesenchymal stem cell of adipose  1.868490e-08  0.000001\n",
       "1                         Bladder.bladder cell  7.490523e-08  0.000006\n",
       "2   Liver.endothelial cell of hepatic sinusoid  4.981055e-07  0.000038\n",
       "3           Heart.fibroblast of cardiac tissue  9.454257e-07  0.000072\n",
       "4                            SCAT.myeloid cell  1.050035e-06  0.000080\n",
       "5         MAT.mesenchymal stem cell of adipose  2.334265e-06  0.000177\n",
       "6            Limb_Muscle.mesenchymal stem cell  3.508881e-06  0.000267\n",
       "7                     Mammary_Gland.basal cell  6.478482e-05  0.004924\n",
       "8        SCAT.mesenchymal stem cell of adipose  9.014234e-05  0.006851\n",
       "9                             GAT.myeloid cell  1.789294e-04  0.013599\n",
       "10                            BAT.myeloid cell  2.408344e-04  0.018303\n",
       "11               Aorta.aortic endothelial cell  3.421669e-04  0.026005\n",
       "12                Limb_Muscle.endothelial cell  4.087621e-04  0.031066\n",
       "13                                  BAT.B cell  5.516384e-04  0.041925\n",
       "14    Diaphragm.skeletal muscle satellite cell  6.412862e-04  0.048738"
      ]
     },
     "execution_count": 13,
     "metadata": {},
     "output_type": "execute_result"
    }
   ],
   "source": [
    "de_res[de_res.fdr < 0.05]"
   ]
  },
  {
   "cell_type": "code",
   "execution_count": 14,
   "id": "a045a49f-04eb-4d14-85d9-61dad3f8fe3d",
   "metadata": {},
   "outputs": [
    {
     "data": {
      "text/plain": [
       "0.19736842105263158"
      ]
     },
     "execution_count": 14,
     "metadata": {},
     "output_type": "execute_result"
    }
   ],
   "source": [
    "len(de_res[de_res.fdr < 0.05])/len(de_res)"
   ]
  },
  {
   "cell_type": "code",
   "execution_count": null,
   "id": "fa0bbd20-8820-4d33-8320-4ecca08870b6",
   "metadata": {},
   "outputs": [],
   "source": []
  },
  {
   "cell_type": "code",
   "execution_count": null,
   "id": "8c13cd9d-9e42-4288-bcbb-c9382376bd7b",
   "metadata": {},
   "outputs": [],
   "source": []
  },
  {
   "cell_type": "code",
   "execution_count": 15,
   "id": "b6514cf8-9d43-41fd-92d6-357ce88a7798",
   "metadata": {},
   "outputs": [],
   "source": [
    "out = []\n",
    "\n",
    "a = set(markers)\n",
    "for cell in sp.tissue_cell.unique():\n",
    "    _ = sp[sp.tissue_cell == cell]\n",
    "    b = set(_.gene)\n",
    "    n = a.intersection(b)\n",
    "    r = stats.hypergeom.sf(len(n) - 1, len(bg), len(a), len(b))\n",
    "    out.append([cell,r])"
   ]
  },
  {
   "cell_type": "code",
   "execution_count": 16,
   "id": "61e1bfbf-8343-4363-84af-fae2055f181c",
   "metadata": {},
   "outputs": [],
   "source": [
    "sp_res = pd.DataFrame(out, columns = ['cell', 'p']).sort_values('p').reset_index(drop = True)\n",
    "sp_res['fdr'] = sp_res.p * len(sp_res)\n",
    "sp_res['fdr'] = sp_res['fdr'].clip(upper=1)"
   ]
  },
  {
   "cell_type": "code",
   "execution_count": 17,
   "id": "cc0bb475-01c7-4c27-850d-cce8281a48c1",
   "metadata": {},
   "outputs": [
    {
     "data": {
      "text/html": [
       "<div>\n",
       "<style scoped>\n",
       "    .dataframe tbody tr th:only-of-type {\n",
       "        vertical-align: middle;\n",
       "    }\n",
       "\n",
       "    .dataframe tbody tr th {\n",
       "        vertical-align: top;\n",
       "    }\n",
       "\n",
       "    .dataframe thead th {\n",
       "        text-align: right;\n",
       "    }\n",
       "</style>\n",
       "<table border=\"1\" class=\"dataframe\">\n",
       "  <thead>\n",
       "    <tr style=\"text-align: right;\">\n",
       "      <th></th>\n",
       "      <th>cell</th>\n",
       "      <th>p</th>\n",
       "      <th>fdr</th>\n",
       "    </tr>\n",
       "  </thead>\n",
       "  <tbody>\n",
       "    <tr>\n",
       "      <th>0</th>\n",
       "      <td>Heart_and_Aorta.endocardial cell</td>\n",
       "      <td>5.575845e-12</td>\n",
       "      <td>3.903091e-10</td>\n",
       "    </tr>\n",
       "    <tr>\n",
       "      <th>1</th>\n",
       "      <td>Lung.fibroblast</td>\n",
       "      <td>1.106812e-07</td>\n",
       "      <td>7.747685e-06</td>\n",
       "    </tr>\n",
       "    <tr>\n",
       "      <th>2</th>\n",
       "      <td>Tongue.keratinocyte</td>\n",
       "      <td>1.292867e-07</td>\n",
       "      <td>9.050066e-06</td>\n",
       "    </tr>\n",
       "    <tr>\n",
       "      <th>3</th>\n",
       "      <td>Trachea.fibroblast</td>\n",
       "      <td>1.585399e-07</td>\n",
       "      <td>1.109780e-05</td>\n",
       "    </tr>\n",
       "    <tr>\n",
       "      <th>4</th>\n",
       "      <td>Tongue.basal cell</td>\n",
       "      <td>1.648250e-07</td>\n",
       "      <td>1.153775e-05</td>\n",
       "    </tr>\n",
       "    <tr>\n",
       "      <th>5</th>\n",
       "      <td>Bladder.bladder urothelial cell</td>\n",
       "      <td>2.440882e-07</td>\n",
       "      <td>1.708618e-05</td>\n",
       "    </tr>\n",
       "    <tr>\n",
       "      <th>6</th>\n",
       "      <td>Heart_and_Aorta.endothelial cell</td>\n",
       "      <td>1.579100e-06</td>\n",
       "      <td>1.105370e-04</td>\n",
       "    </tr>\n",
       "    <tr>\n",
       "      <th>7</th>\n",
       "      <td>Heart_and_Aorta.fibroblast</td>\n",
       "      <td>1.647567e-06</td>\n",
       "      <td>1.153297e-04</td>\n",
       "    </tr>\n",
       "    <tr>\n",
       "      <th>8</th>\n",
       "      <td>Mammary_Gland.luminal epithelial cell of mamma...</td>\n",
       "      <td>4.022495e-06</td>\n",
       "      <td>2.815746e-04</td>\n",
       "    </tr>\n",
       "    <tr>\n",
       "      <th>9</th>\n",
       "      <td>Lung.adventitial cell</td>\n",
       "      <td>4.835666e-06</td>\n",
       "      <td>3.384966e-04</td>\n",
       "    </tr>\n",
       "    <tr>\n",
       "      <th>10</th>\n",
       "      <td>Trachea.basal cell</td>\n",
       "      <td>5.399628e-06</td>\n",
       "      <td>3.779740e-04</td>\n",
       "    </tr>\n",
       "    <tr>\n",
       "      <th>11</th>\n",
       "      <td>Kidney.Henle thick ascending limb epithelial cell</td>\n",
       "      <td>7.183258e-06</td>\n",
       "      <td>5.028281e-04</td>\n",
       "    </tr>\n",
       "    <tr>\n",
       "      <th>12</th>\n",
       "      <td>Heart_and_Aorta.myocyte</td>\n",
       "      <td>1.125390e-05</td>\n",
       "      <td>7.877729e-04</td>\n",
       "    </tr>\n",
       "    <tr>\n",
       "      <th>13</th>\n",
       "      <td>Diaphragm.skeletal muscle satellite cell</td>\n",
       "      <td>2.186693e-05</td>\n",
       "      <td>1.530685e-03</td>\n",
       "    </tr>\n",
       "    <tr>\n",
       "      <th>14</th>\n",
       "      <td>Kidney.macrophage</td>\n",
       "      <td>4.963053e-05</td>\n",
       "      <td>3.474137e-03</td>\n",
       "    </tr>\n",
       "    <tr>\n",
       "      <th>15</th>\n",
       "      <td>Liver.endothelial cell of hepatic sinusoid</td>\n",
       "      <td>5.964263e-05</td>\n",
       "      <td>4.174984e-03</td>\n",
       "    </tr>\n",
       "    <tr>\n",
       "      <th>16</th>\n",
       "      <td>Kidney.proximal convoluted tubule epithelial cell</td>\n",
       "      <td>6.810258e-05</td>\n",
       "      <td>4.767180e-03</td>\n",
       "    </tr>\n",
       "    <tr>\n",
       "      <th>17</th>\n",
       "      <td>Heart_and_Aorta.smooth muscle cell</td>\n",
       "      <td>9.692865e-05</td>\n",
       "      <td>6.785005e-03</td>\n",
       "    </tr>\n",
       "    <tr>\n",
       "      <th>18</th>\n",
       "      <td>Lymphoid.T cell</td>\n",
       "      <td>3.731990e-04</td>\n",
       "      <td>2.612393e-02</td>\n",
       "    </tr>\n",
       "  </tbody>\n",
       "</table>\n",
       "</div>"
      ],
      "text/plain": [
       "                                                 cell             p  \\\n",
       "0                    Heart_and_Aorta.endocardial cell  5.575845e-12   \n",
       "1                                     Lung.fibroblast  1.106812e-07   \n",
       "2                                 Tongue.keratinocyte  1.292867e-07   \n",
       "3                                  Trachea.fibroblast  1.585399e-07   \n",
       "4                                   Tongue.basal cell  1.648250e-07   \n",
       "5                     Bladder.bladder urothelial cell  2.440882e-07   \n",
       "6                    Heart_and_Aorta.endothelial cell  1.579100e-06   \n",
       "7                          Heart_and_Aorta.fibroblast  1.647567e-06   \n",
       "8   Mammary_Gland.luminal epithelial cell of mamma...  4.022495e-06   \n",
       "9                               Lung.adventitial cell  4.835666e-06   \n",
       "10                                 Trachea.basal cell  5.399628e-06   \n",
       "11  Kidney.Henle thick ascending limb epithelial cell  7.183258e-06   \n",
       "12                            Heart_and_Aorta.myocyte  1.125390e-05   \n",
       "13           Diaphragm.skeletal muscle satellite cell  2.186693e-05   \n",
       "14                                  Kidney.macrophage  4.963053e-05   \n",
       "15         Liver.endothelial cell of hepatic sinusoid  5.964263e-05   \n",
       "16  Kidney.proximal convoluted tubule epithelial cell  6.810258e-05   \n",
       "17                 Heart_and_Aorta.smooth muscle cell  9.692865e-05   \n",
       "18                                    Lymphoid.T cell  3.731990e-04   \n",
       "\n",
       "             fdr  \n",
       "0   3.903091e-10  \n",
       "1   7.747685e-06  \n",
       "2   9.050066e-06  \n",
       "3   1.109780e-05  \n",
       "4   1.153775e-05  \n",
       "5   1.708618e-05  \n",
       "6   1.105370e-04  \n",
       "7   1.153297e-04  \n",
       "8   2.815746e-04  \n",
       "9   3.384966e-04  \n",
       "10  3.779740e-04  \n",
       "11  5.028281e-04  \n",
       "12  7.877729e-04  \n",
       "13  1.530685e-03  \n",
       "14  3.474137e-03  \n",
       "15  4.174984e-03  \n",
       "16  4.767180e-03  \n",
       "17  6.785005e-03  \n",
       "18  2.612393e-02  "
      ]
     },
     "execution_count": 17,
     "metadata": {},
     "output_type": "execute_result"
    }
   ],
   "source": [
    "sp_res[sp_res.fdr < 0.05]"
   ]
  },
  {
   "cell_type": "code",
   "execution_count": 18,
   "id": "5125327d-b911-4f30-89aa-ba22ab5f3e39",
   "metadata": {},
   "outputs": [
    {
     "data": {
      "text/plain": [
       "0.2714285714285714"
      ]
     },
     "execution_count": 18,
     "metadata": {},
     "output_type": "execute_result"
    }
   ],
   "source": [
    "len(sp_res[sp_res.fdr < 0.05])/len(sp_res)"
   ]
  },
  {
   "cell_type": "code",
   "execution_count": null,
   "id": "b8cb0768-8bd2-43bb-86e0-dccdb0b0875b",
   "metadata": {},
   "outputs": [],
   "source": []
  },
  {
   "cell_type": "code",
   "execution_count": 19,
   "id": "81e4ca46-a135-4f0c-b603-e86c0aadcc81",
   "metadata": {},
   "outputs": [],
   "source": [
    "sp_res['Model'] = 'senePy'\n",
    "de_res['Model'] = 'DE'"
   ]
  },
  {
   "cell_type": "code",
   "execution_count": 20,
   "id": "76241153-7ac5-45d4-aaee-b97490d1e3e9",
   "metadata": {},
   "outputs": [],
   "source": [
    "df = pd.concat((sp_res, de_res))"
   ]
  },
  {
   "cell_type": "code",
   "execution_count": 21,
   "id": "47f55d89-26eb-49ad-880a-49a839906f7e",
   "metadata": {},
   "outputs": [
    {
     "data": {
      "text/html": [
       "<div>\n",
       "<style scoped>\n",
       "    .dataframe tbody tr th:only-of-type {\n",
       "        vertical-align: middle;\n",
       "    }\n",
       "\n",
       "    .dataframe tbody tr th {\n",
       "        vertical-align: top;\n",
       "    }\n",
       "\n",
       "    .dataframe thead th {\n",
       "        text-align: right;\n",
       "    }\n",
       "</style>\n",
       "<table border=\"1\" class=\"dataframe\">\n",
       "  <thead>\n",
       "    <tr style=\"text-align: right;\">\n",
       "      <th></th>\n",
       "      <th>cell</th>\n",
       "      <th>p</th>\n",
       "      <th>fdr</th>\n",
       "      <th>Model</th>\n",
       "    </tr>\n",
       "  </thead>\n",
       "  <tbody>\n",
       "    <tr>\n",
       "      <th>0</th>\n",
       "      <td>Heart_and_Aorta.endocardial cell</td>\n",
       "      <td>5.575845e-12</td>\n",
       "      <td>3.903091e-10</td>\n",
       "      <td>senePy</td>\n",
       "    </tr>\n",
       "    <tr>\n",
       "      <th>1</th>\n",
       "      <td>Lung.fibroblast</td>\n",
       "      <td>1.106812e-07</td>\n",
       "      <td>7.747685e-06</td>\n",
       "      <td>senePy</td>\n",
       "    </tr>\n",
       "    <tr>\n",
       "      <th>2</th>\n",
       "      <td>Tongue.keratinocyte</td>\n",
       "      <td>1.292867e-07</td>\n",
       "      <td>9.050066e-06</td>\n",
       "      <td>senePy</td>\n",
       "    </tr>\n",
       "    <tr>\n",
       "      <th>3</th>\n",
       "      <td>Trachea.fibroblast</td>\n",
       "      <td>1.585399e-07</td>\n",
       "      <td>1.109780e-05</td>\n",
       "      <td>senePy</td>\n",
       "    </tr>\n",
       "    <tr>\n",
       "      <th>4</th>\n",
       "      <td>Tongue.basal cell</td>\n",
       "      <td>1.648250e-07</td>\n",
       "      <td>1.153775e-05</td>\n",
       "      <td>senePy</td>\n",
       "    </tr>\n",
       "    <tr>\n",
       "      <th>...</th>\n",
       "      <td>...</td>\n",
       "      <td>...</td>\n",
       "      <td>...</td>\n",
       "      <td>...</td>\n",
       "    </tr>\n",
       "    <tr>\n",
       "      <th>71</th>\n",
       "      <td>Brain_Non-Myeloid.neuron</td>\n",
       "      <td>9.999994e-01</td>\n",
       "      <td>1.000000e+00</td>\n",
       "      <td>DE</td>\n",
       "    </tr>\n",
       "    <tr>\n",
       "      <th>72</th>\n",
       "      <td>MAT.macrophage</td>\n",
       "      <td>1.000000e+00</td>\n",
       "      <td>1.000000e+00</td>\n",
       "      <td>DE</td>\n",
       "    </tr>\n",
       "    <tr>\n",
       "      <th>73</th>\n",
       "      <td>MAT.B cell</td>\n",
       "      <td>1.000000e+00</td>\n",
       "      <td>1.000000e+00</td>\n",
       "      <td>DE</td>\n",
       "    </tr>\n",
       "    <tr>\n",
       "      <th>74</th>\n",
       "      <td>Kidney.kidney collecting duct epithelial cell</td>\n",
       "      <td>1.000000e+00</td>\n",
       "      <td>1.000000e+00</td>\n",
       "      <td>DE</td>\n",
       "    </tr>\n",
       "    <tr>\n",
       "      <th>75</th>\n",
       "      <td>Pancreas.pancreatic acinar cell</td>\n",
       "      <td>1.000000e+00</td>\n",
       "      <td>1.000000e+00</td>\n",
       "      <td>DE</td>\n",
       "    </tr>\n",
       "  </tbody>\n",
       "</table>\n",
       "<p>146 rows × 4 columns</p>\n",
       "</div>"
      ],
      "text/plain": [
       "                                             cell             p           fdr  \\\n",
       "0                Heart_and_Aorta.endocardial cell  5.575845e-12  3.903091e-10   \n",
       "1                                 Lung.fibroblast  1.106812e-07  7.747685e-06   \n",
       "2                             Tongue.keratinocyte  1.292867e-07  9.050066e-06   \n",
       "3                              Trachea.fibroblast  1.585399e-07  1.109780e-05   \n",
       "4                               Tongue.basal cell  1.648250e-07  1.153775e-05   \n",
       "..                                            ...           ...           ...   \n",
       "71                       Brain_Non-Myeloid.neuron  9.999994e-01  1.000000e+00   \n",
       "72                                 MAT.macrophage  1.000000e+00  1.000000e+00   \n",
       "73                                     MAT.B cell  1.000000e+00  1.000000e+00   \n",
       "74  Kidney.kidney collecting duct epithelial cell  1.000000e+00  1.000000e+00   \n",
       "75                Pancreas.pancreatic acinar cell  1.000000e+00  1.000000e+00   \n",
       "\n",
       "     Model  \n",
       "0   senePy  \n",
       "1   senePy  \n",
       "2   senePy  \n",
       "3   senePy  \n",
       "4   senePy  \n",
       "..     ...  \n",
       "71      DE  \n",
       "72      DE  \n",
       "73      DE  \n",
       "74      DE  \n",
       "75      DE  \n",
       "\n",
       "[146 rows x 4 columns]"
      ]
     },
     "execution_count": 21,
     "metadata": {},
     "output_type": "execute_result"
    }
   ],
   "source": [
    "df"
   ]
  },
  {
   "cell_type": "code",
   "execution_count": 22,
   "id": "6888bfc6-5175-4f34-82e2-9cc8db4f4a6c",
   "metadata": {},
   "outputs": [],
   "source": [
    "df['nlog10'] = -np.log10(df.fdr)"
   ]
  },
  {
   "cell_type": "code",
   "execution_count": 24,
   "id": "f972d23e-e271-4088-bc5f-cdc69298f160",
   "metadata": {},
   "outputs": [
    {
     "data": {
      "image/png": "[encoded data removed]",
      "text/plain": [
       "<Figure size 300x300 with 1 Axes>"
      ]
     },
     "metadata": {},
     "output_type": "display_data"
    }
   ],
   "source": [
    "plt.figure(figsize=(3,3))\n",
    "\n",
    "ax = sns.stripplot(data = df, x = 'Model', y = 'nlog10', edgecolor='k', linewidth=1)\n",
    "\n",
    "plt.axhline(-np.log10(0.05), zorder = 0, c = 'k', ls = '--')\n",
    "\n",
    "\n",
    "plt.text(s = f'{len(sp_res[sp_res.fdr < 0.05])}/{len(sp_res)}', x = 0, y = 10.25, ha = 'center')\n",
    "plt.text(s = f'{len(de_res[de_res.fdr < 0.05])}/{len(de_res)}', x = 1, y = 7, ha = 'center')\n",
    "\n",
    "plt.ylim(top = 11)\n",
    "\n",
    "plt.ylabel(r'-log$_{10}$ FDR')\n",
    "plt.xlabel('')\n",
    "\n",
    "\n",
    "plt.savefig('../figures/R1_R1_MP3.png', dpi = 600, transparent = True, bbox_inches = 'tight')\n",
    "plt.savefig('../figures/R1_R1_MP3.svg', transparent = True, bbox_inches = 'tight')\n",
    "\n",
    "plt.show()"
   ]
  },
  {
   "cell_type": "code",
   "execution_count": null,
   "id": "d580681c-648a-437f-897f-bfdb85ba858e",
   "metadata": {},
   "outputs": [],
   "source": []
  },
  {
   "cell_type": "code",
   "execution_count": null,
   "id": "885c0a74-0db2-4cd6-8226-719fd87918b0",
   "metadata": {},
   "outputs": [],
   "source": []
  },
  {
   "cell_type": "code",
   "execution_count": null,
   "id": "bea7d1e8-00be-431f-b33d-4f6e400c48ef",
   "metadata": {},
   "outputs": [],
   "source": [
    "#how many have well known sen genes"
   ]
  },
  {
   "cell_type": "code",
   "execution_count": null,
   "id": "a65a2903-4c17-4b5c-89ea-dd550930e5fc",
   "metadata": {},
   "outputs": [],
   "source": []
  },
  {
   "cell_type": "code",
   "execution_count": null,
   "id": "5348a232-15e8-4af6-bdb2-60920b919ca5",
   "metadata": {},
   "outputs": [],
   "source": [
    "#there is non with Cdkn2a in DE\n",
    "[x for x in de.columns if x.startswith('Cdkn')]"
   ]
  },
  {
   "cell_type": "code",
   "execution_count": null,
   "id": "6b9eb76a-edfe-4e8f-b754-80e8b3e10566",
   "metadata": {},
   "outputs": [],
   "source": []
  },
  {
   "cell_type": "code",
   "execution_count": 183,
   "id": "6cc30bc7-48b7-4fe3-bcac-5013282fa374",
   "metadata": {},
   "outputs": [
    {
     "data": {
      "text/plain": [
       "20"
      ]
     },
     "execution_count": 183,
     "metadata": {},
     "output_type": "execute_result"
    }
   ],
   "source": [
    "#there are 20 in the senePy data\n",
    "len(sp[sp.gene == 'Cdkn2a'])"
   ]
  },
  {
   "cell_type": "code",
   "execution_count": null,
   "id": "20bca34d-1e00-4813-b284-6e2a9d88e2a6",
   "metadata": {},
   "outputs": [],
   "source": []
  },
  {
   "cell_type": "code",
   "execution_count": null,
   "id": "524451e7-eea3-4fe4-bcfc-c92ec38ef2dc",
   "metadata": {},
   "outputs": [],
   "source": []
  },
  {
   "cell_type": "code",
   "execution_count": null,
   "id": "71aa5831-d90f-4d53-a136-a51e7b4e0350",
   "metadata": {},
   "outputs": [],
   "source": []
  },
  {
   "cell_type": "code",
   "execution_count": null,
   "id": "fee7de02-c3d4-4bc8-811c-d2e47ed8ad52",
   "metadata": {},
   "outputs": [],
   "source": []
  }
 ],
 "metadata": {
  "kernelspec": {
   "display_name": "Python 3 (ipykernel)",
   "language": "python",
   "name": "python3"
  },
  "language_info": {
   "codemirror_mode": {
    "name": "ipython",
    "version": 3
   },
   "file_extension": ".py",
   "mimetype": "text/x-python",
   "name": "python",
   "nbconvert_exporter": "python",
   "pygments_lexer": "ipython3",
   "version": "3.9.18"
  }
 },
 "nbformat": 4,
 "nbformat_minor": 5
}
