{
 "cells": [
  {
   "cell_type": "code",
   "execution_count": 1,
   "id": "2a1c5ee9-45d5-4a50-a91c-08250895ec9d",
   "metadata": {},
   "outputs": [],
   "source": [
    "import scanpy as sc\n",
    "import senepy as sp\n",
    "import seaborn as sns\n",
    "import numpy as np\n",
    "import pandas as pd\n",
    "\n",
    "import random\n",
    "\n",
    "from scipy import stats\n",
    "\n",
    "import matplotlib.pyplot as plt\n",
    "from matplotlib_venn import venn2\n",
    "from matplotlib_venn import venn3\n",
    "\n",
    "from tqdm import tqdm"
   ]
  },
  {
   "cell_type": "code",
   "execution_count": 2,
   "id": "66c46b1a-34ea-4a02-8e05-6372173993cf",
   "metadata": {},
   "outputs": [],
   "source": [
    "adata = sc.read_h5ad('../../data/tms/tms-scVI-raw-data_BDATA.h5ad')"
   ]
  },
  {
   "cell_type": "code",
   "execution_count": 3,
   "id": "ada4b2e8-2dad-4b35-87e9-ab636cdb0166",
   "metadata": {},
   "outputs": [],
   "source": [
    "sc.pp.normalize_total(adata)"
   ]
  },
  {
   "cell_type": "code",
   "execution_count": 4,
   "id": "035eded8-f881-44da-900e-e090e81b80c4",
   "metadata": {},
   "outputs": [],
   "source": [
    "sc.pp.log1p(adata)"
   ]
  },
  {
   "cell_type": "code",
   "execution_count": 5,
   "id": "d6446cc0-c7e4-46da-a139-b9831bd6abd2",
   "metadata": {},
   "outputs": [],
   "source": [
    "adata = adata[adata.obs.tissue_cell == 'Tongue_keratinocyte'].copy()"
   ]
  },
  {
   "cell_type": "code",
   "execution_count": 6,
   "id": "4aa7e5f6-4f14-4892-9707-3e93786c5d86",
   "metadata": {},
   "outputs": [
    {
     "data": {
      "text/plain": [
       "AnnData object with n_obs × n_vars = 12335 × 20116\n",
       "    obs: 'age', 'batch', 'cell', 'cell_ontology_class', 'cell_ontology_id', 'free_annotation', 'method', 'mouse.id', 'n_counts', 'n_genes', 'sex', 'subtissue', 'tissue', 'tissue_free_annotation', 'tissue2', 'tissue_cell', 'cell_type_2'\n",
       "    var: 'n_cells-0', 'n_cells-1'\n",
       "    uns: 'log1p'\n",
       "    obsm: 'X_scvi'"
      ]
     },
     "execution_count": 6,
     "metadata": {},
     "output_type": "execute_result"
    }
   ],
   "source": [
    "adata"
   ]
  },
  {
   "cell_type": "code",
   "execution_count": 7,
   "id": "c55b7e40-0bd0-42aa-8bb4-fd48f1be45a8",
   "metadata": {},
   "outputs": [
    {
     "data": {
      "text/plain": [
       "8.91142"
      ]
     },
     "execution_count": 7,
     "metadata": {},
     "output_type": "execute_result"
    }
   ],
   "source": [
    "adata.X.max()"
   ]
  },
  {
   "cell_type": "code",
   "execution_count": null,
   "id": "54a181bf-1aba-45bf-915b-917e2dd8cda7",
   "metadata": {},
   "outputs": [],
   "source": []
  },
  {
   "cell_type": "code",
   "execution_count": 8,
   "id": "58727ebc-15c1-46d0-a7ab-befca49e36f6",
   "metadata": {},
   "outputs": [],
   "source": [
    "hubs = sp.load_hubs(species = 'Mouse')"
   ]
  },
  {
   "cell_type": "code",
   "execution_count": 9,
   "id": "04e864c3-fffe-4475-b906-ca3be05cc775",
   "metadata": {},
   "outputs": [
    {
     "data": {
      "text/html": [
       "<div>\n",
       "<style scoped>\n",
       "    .dataframe tbody tr th:only-of-type {\n",
       "        vertical-align: middle;\n",
       "    }\n",
       "\n",
       "    .dataframe tbody tr th {\n",
       "        vertical-align: top;\n",
       "    }\n",
       "\n",
       "    .dataframe thead th {\n",
       "        text-align: right;\n",
       "    }\n",
       "</style>\n",
       "<table border=\"1\" class=\"dataframe\">\n",
       "  <thead>\n",
       "    <tr style=\"text-align: right;\">\n",
       "      <th></th>\n",
       "      <th>tissue</th>\n",
       "      <th>cell</th>\n",
       "      <th>hub_num</th>\n",
       "      <th>size</th>\n",
       "      <th>n_sen</th>\n",
       "      <th>hyp</th>\n",
       "    </tr>\n",
       "  </thead>\n",
       "  <tbody>\n",
       "    <tr>\n",
       "      <th>65</th>\n",
       "      <td>Tongue</td>\n",
       "      <td>basal cell</td>\n",
       "      <td>0</td>\n",
       "      <td>66</td>\n",
       "      <td>7</td>\n",
       "      <td>2.360556e-06</td>\n",
       "    </tr>\n",
       "    <tr>\n",
       "      <th>66</th>\n",
       "      <td>Tongue</td>\n",
       "      <td>basal cell</td>\n",
       "      <td>1</td>\n",
       "      <td>55</td>\n",
       "      <td>2</td>\n",
       "      <td>9.022929e-02</td>\n",
       "    </tr>\n",
       "    <tr>\n",
       "      <th>67</th>\n",
       "      <td>Tongue</td>\n",
       "      <td>keratinocyte</td>\n",
       "      <td>0</td>\n",
       "      <td>133</td>\n",
       "      <td>14</td>\n",
       "      <td>2.068164e-11</td>\n",
       "    </tr>\n",
       "    <tr>\n",
       "      <th>68</th>\n",
       "      <td>Tongue</td>\n",
       "      <td>keratinocyte</td>\n",
       "      <td>1</td>\n",
       "      <td>86</td>\n",
       "      <td>5</td>\n",
       "      <td>1.160686e-03</td>\n",
       "    </tr>\n",
       "  </tbody>\n",
       "</table>\n",
       "</div>"
      ],
      "text/plain": [
       "    tissue          cell  hub_num  size  n_sen           hyp\n",
       "65  Tongue   basal cell         0    66      7  2.360556e-06\n",
       "66  Tongue   basal cell         1    55      2  9.022929e-02\n",
       "67  Tongue  keratinocyte        0   133     14  2.068164e-11\n",
       "68  Tongue  keratinocyte        1    86      5  1.160686e-03"
      ]
     },
     "execution_count": 9,
     "metadata": {},
     "output_type": "execute_result"
    }
   ],
   "source": [
    "hubs.metadata[hubs.metadata.tissue == 'Tongue']"
   ]
  },
  {
   "cell_type": "code",
   "execution_count": 10,
   "id": "e6b87f09-4c14-4912-878f-a3c5df8ef5f9",
   "metadata": {},
   "outputs": [],
   "source": [
    "hub = hubs.hubs[('Tongue', 'keratinocyte', 0)]"
   ]
  },
  {
   "cell_type": "code",
   "execution_count": null,
   "id": "618ea71d-8e64-4705-b994-fd772aafeea8",
   "metadata": {},
   "outputs": [],
   "source": []
  },
  {
   "cell_type": "code",
   "execution_count": null,
   "id": "66695aac-042b-48ea-8985-9e180b2b2079",
   "metadata": {},
   "outputs": [],
   "source": []
  },
  {
   "cell_type": "code",
   "execution_count": 11,
   "id": "ae07916f-bd66-46b1-ac92-e17a10e1f6cf",
   "metadata": {},
   "outputs": [],
   "source": [
    "def label_points_wstuff(x):\n",
    "    sc, sen = x\n",
    "    if sc == 'Sig' and sen == 'not':\n",
    "        return 'scrds'\n",
    "    if sc == 'not' and sen == 'Sig':\n",
    "        return 'senepy'\n",
    "    if sc == 'Sig' and sen == 'Sig':\n",
    "        return 'both'\n",
    "\n",
    "    return 'none'"
   ]
  },
  {
   "cell_type": "code",
   "execution_count": null,
   "id": "a94ba0c7-fcaf-4185-a1d4-ead8dc6fbabc",
   "metadata": {},
   "outputs": [],
   "source": []
  },
  {
   "cell_type": "code",
   "execution_count": null,
   "id": "b625120a-6540-4591-9574-e8979139e6a7",
   "metadata": {},
   "outputs": [],
   "source": []
  },
  {
   "cell_type": "code",
   "execution_count": 12,
   "id": "49e344e2-0306-4957-9382-af1935f660b2",
   "metadata": {},
   "outputs": [
    {
     "name": "stdout",
     "output_type": "stream",
     "text": [
      "Please cite scDRS if you use this function in your work: doi.org/10.1038/s41588-022-01167-z\n",
      "To quiet this message pass citation = True\n"
     ]
    },
    {
     "name": "stderr",
     "output_type": "stream",
     "text": [
      "Computing control scores: 100%|█████████████| 1000/1000 [00:58<00:00, 17.24it/s]\n"
     ]
    }
   ],
   "source": [
    "adata.obs['scdrs'] = sp.score_hub_scdrs(adata, hub)\n",
    "adata.obs['scrds_p'] = adata.uns['scdrs_stats'].mc_pval\n",
    "adata.obs['scrds_sig'] = adata.obs['scrds_p'].map(lambda x: 'Sig' if x < 0.05 else 'not')"
   ]
  },
  {
   "cell_type": "code",
   "execution_count": null,
   "id": "c0946303-adba-4b6d-8c59-d8ae9630b542",
   "metadata": {},
   "outputs": [],
   "source": []
  },
  {
   "cell_type": "code",
   "execution_count": null,
   "id": "56138492-d426-4d15-96f8-ed65a562549c",
   "metadata": {},
   "outputs": [],
   "source": []
  },
  {
   "cell_type": "code",
   "execution_count": 13,
   "id": "52acb71c-c54f-48d1-bf42-290b58921db5",
   "metadata": {},
   "outputs": [],
   "source": [
    "#binarize = False, importance = True\n",
    "\n",
    "\n",
    "adata.obs['senepy2'] = sp.score_hub(adata, hub, binarize = False, importance = True)\n",
    "mu = adata.obs['senepy2'].mean()\n",
    "sd = adata.obs['senepy2'].std()\n",
    "thresh = mu + 2*sd\n",
    "adata.obs['senepy_sig'] = adata.obs['senepy2'].map(lambda x: 'Sig' if x >= thresh else 'not')\n",
    "\n",
    "adata.obs['scdrs_v_senpy'] = adata.obs[['scrds_sig' , 'senepy_sig']].apply(label_points_wstuff, axis = 1)"
   ]
  },
  {
   "cell_type": "code",
   "execution_count": null,
   "id": "72ea26c1-1928-4355-b61d-6b9e0e7d3348",
   "metadata": {},
   "outputs": [],
   "source": []
  },
  {
   "cell_type": "code",
   "execution_count": null,
   "id": "9f05dfdb-82c2-495c-993c-96cd6f2ad845",
   "metadata": {},
   "outputs": [],
   "source": []
  },
  {
   "cell_type": "code",
   "execution_count": null,
   "id": "105ef3d1-2368-4537-9ef8-99888ad855a4",
   "metadata": {},
   "outputs": [],
   "source": []
  },
  {
   "cell_type": "code",
   "execution_count": null,
   "id": "7603a77f-816c-4f9a-b887-d5b62ae1c13c",
   "metadata": {},
   "outputs": [],
   "source": []
  },
  {
   "cell_type": "code",
   "execution_count": 14,
   "id": "9a826818-7799-4d9a-b3a5-9b218446d4a2",
   "metadata": {},
   "outputs": [],
   "source": [
    "r, p = stats.pearsonr(adata.obs.senepy2, adata.obs.scdrs)"
   ]
  },
  {
   "cell_type": "code",
   "execution_count": 15,
   "id": "b9ec6f62-c37b-4426-b7da-94f09951c1fb",
   "metadata": {},
   "outputs": [
    {
     "data": {
      "image/png": "[encoded data removed]",
      "text/plain": [
       "<Figure size 300x300 with 1 Axes>"
      ]
     },
     "metadata": {},
     "output_type": "display_data"
    }
   ],
   "source": [
    "plt.figure(figsize = (3,3))\n",
    "\n",
    "sns.scatterplot(data = adata.obs, x = 'senepy2', y = 'scdrs', hue='scdrs_v_senpy',\n",
    "                palette = ['tab:grey', 'tab:blue', 'tab:red', 'tab:purple'], \n",
    "                hue_order = ['none', 'scrds', 'senepy', 'both'])\n",
    "\n",
    "\n",
    "plt.legend(loc='center left', bbox_to_anchor=(1, 0.5))\n",
    "\n",
    "\n",
    "plt.text(0.7, 0.95, f\" R = {round(r, 2)}\",\n",
    "         transform=plt.gca().transAxes, ha='left', va='top')\n",
    "plt.text(0.7, 0.875, f\" p = {round(p, 2)}\",\n",
    "         transform=plt.gca().transAxes, ha='left', va='top')\n",
    "\n",
    "\n",
    "plt.xlabel('senePy score')\n",
    "plt.ylabel('scDRS score')\n",
    "\n",
    "\n",
    "\n",
    "# plt.savefig('/home/jrlab/storage/senepy/paper_1/PAPER_CODE/figures/scdrs_v_senepy_scatter.png',\n",
    "#             dpi = 600, transparent = True, bbox_inches = 'tight')\n",
    "\n",
    "# plt.savefig('/home/jrlab/storage/senepy/paper_1/PAPER_CODE/figures/scdrs_v_senepy_scatter.svg',\n",
    "# transparent = True, bbox_inches = 'tight')\n",
    "\n",
    "\n",
    "plt.show()"
   ]
  },
  {
   "cell_type": "code",
   "execution_count": null,
   "id": "b5f2c81e-75a5-465b-b673-8b3742ad318b",
   "metadata": {},
   "outputs": [],
   "source": []
  },
  {
   "cell_type": "code",
   "execution_count": null,
   "id": "ca91748c-1f3c-4c0e-99a3-1251ae76f378",
   "metadata": {},
   "outputs": [],
   "source": []
  },
  {
   "cell_type": "code",
   "execution_count": 16,
   "id": "b4aa5914-4710-4f9e-9ecb-9ee6a8cb7832",
   "metadata": {},
   "outputs": [
    {
     "data": {
      "image/png": "[encoded data removed]",
      "text/plain": [
       "<Figure size 300x300 with 1 Axes>"
      ]
     },
     "metadata": {},
     "output_type": "display_data"
    }
   ],
   "source": [
    "set1 = set(adata.obs[adata.obs.scrds_sig == 'Sig'].index)\n",
    "set2 = set(adata.obs[adata.obs.senepy_sig == 'Sig'].index)\n",
    "\n",
    "# Create the Venn diagram\n",
    "plt.figure(figsize=(3, 3))\n",
    "venn2([set1, set2], ('scdrs', 'mu + 3sd'))\n",
    "\n",
    "plt.show()"
   ]
  },
  {
   "cell_type": "code",
   "execution_count": null,
   "id": "47c76a40-b449-4b69-a988-d1e6c0d43f0c",
   "metadata": {},
   "outputs": [],
   "source": []
  },
  {
   "cell_type": "code",
   "execution_count": 17,
   "id": "ed680690-92b6-4e84-b9f0-89d76bda6ea6",
   "metadata": {},
   "outputs": [],
   "source": [
    "points = np.linspace(0, 4, 21)"
   ]
  },
  {
   "cell_type": "code",
   "execution_count": 18,
   "id": "8717f862-59c6-4d54-b147-0f3c25bc19bd",
   "metadata": {},
   "outputs": [
    {
     "data": {
      "text/plain": [
       "array([0. , 0.2, 0.4, 0.6, 0.8, 1. , 1.2, 1.4, 1.6, 1.8, 2. , 2.2, 2.4,\n",
       "       2.6, 2.8, 3. , 3.2, 3.4, 3.6, 3.8, 4. ])"
      ]
     },
     "execution_count": 18,
     "metadata": {},
     "output_type": "execute_result"
    }
   ],
   "source": [
    "points"
   ]
  },
  {
   "cell_type": "code",
   "execution_count": null,
   "id": "6c70da66-2aaf-40b8-a1b5-d0a35edad3c4",
   "metadata": {},
   "outputs": [],
   "source": []
  },
  {
   "cell_type": "code",
   "execution_count": 19,
   "id": "f6e97d0a-1989-446a-8d1f-1ecd257096ef",
   "metadata": {},
   "outputs": [
    {
     "name": "stderr",
     "output_type": "stream",
     "text": [
      "100%|███████████████████████████████████████████| 21/21 [01:46<00:00,  5.09s/it]\n"
     ]
    }
   ],
   "source": [
    "#testing at multiple std thresholds\n",
    "\n",
    "\n",
    "\n",
    "set1 = set(adata.obs[adata.obs.scrds_sig == 'Sig'].index)\n",
    "\n",
    "res = []\n",
    "for x in tqdm(points):\n",
    "    for method in ['binary', 'norm', 'random']:\n",
    "        if method == 'binary':\n",
    "            adata.obs['senepy2'] = sp.score_hub(adata, hub, binarize = True, importance = True)\n",
    "        else:\n",
    "            adata.obs['senepy2'] = sp.score_hub(adata, hub, binarize = False, importance = True)\n",
    "  \n",
    "            \n",
    "        mu = adata.obs['senepy2'].mean()\n",
    "        sd = adata.obs['senepy2'].std()\n",
    "        thresh = mu + x*sd\n",
    "        adata.obs['senepy_sig'] = adata.obs['senepy2'].map(lambda x: 'Sig' if x >= thresh else 'not')\n",
    "    \n",
    "\n",
    "        set2 = set(adata.obs[adata.obs.senepy_sig == 'Sig'].index)\n",
    "        \n",
    "        if method == 'random':\n",
    "            set2 = set(random.choices(adata.obs_names, k = len(set2)))\n",
    "\n",
    "    \n",
    "        er = (len(set1.intersection(set2))/len(set2))/(len(set1)/len(adata))\n",
    "        p = stats.hypergeom.sf(len(set1.intersection(set2)), len(adata), len(set1), len(set2))\n",
    "        j = len(set1.intersection(set2))/len(set1.union(set2))\n",
    "        #o = len(set1.intersection(set2))/min(len(set1), len(set2))\n",
    "        o = len(set1.intersection(set2))/len(set2)\n",
    "\n",
    "    \n",
    "        res.append([x, len(set2), len(set1.intersection(set2)), j, o,  er, p, method])"
   ]
  },
  {
   "cell_type": "code",
   "execution_count": 20,
   "id": "6d23a629-f1e4-4ba1-8200-173a37fff05c",
   "metadata": {},
   "outputs": [],
   "source": [
    "res = pd.DataFrame(res, columns = ['sd', 'n', 'Int', 'jac' ,'overlap', 'er', 'p', 'method'])"
   ]
  },
  {
   "cell_type": "code",
   "execution_count": 25,
   "id": "2e0874ff-d7a8-44a5-9859-b7d463543b4b",
   "metadata": {},
   "outputs": [
    {
     "data": {
      "text/html": [
       "<div>\n",
       "<style scoped>\n",
       "    .dataframe tbody tr th:only-of-type {\n",
       "        vertical-align: middle;\n",
       "    }\n",
       "\n",
       "    .dataframe tbody tr th {\n",
       "        vertical-align: top;\n",
       "    }\n",
       "\n",
       "    .dataframe thead th {\n",
       "        text-align: right;\n",
       "    }\n",
       "</style>\n",
       "<table border=\"1\" class=\"dataframe\">\n",
       "  <thead>\n",
       "    <tr style=\"text-align: right;\">\n",
       "      <th></th>\n",
       "      <th>sd</th>\n",
       "      <th>n</th>\n",
       "      <th>Int</th>\n",
       "      <th>jac</th>\n",
       "      <th>overlap</th>\n",
       "      <th>er</th>\n",
       "      <th>p</th>\n",
       "      <th>method</th>\n",
       "    </tr>\n",
       "  </thead>\n",
       "  <tbody>\n",
       "    <tr>\n",
       "      <th>51</th>\n",
       "      <td>3.4</td>\n",
       "      <td>169</td>\n",
       "      <td>131</td>\n",
       "      <td>0.144751</td>\n",
       "      <td>0.775148</td>\n",
       "      <td>11.028200</td>\n",
       "      <td>9.476077e-121</td>\n",
       "      <td>binary</td>\n",
       "    </tr>\n",
       "    <tr>\n",
       "      <th>48</th>\n",
       "      <td>3.2</td>\n",
       "      <td>169</td>\n",
       "      <td>131</td>\n",
       "      <td>0.144751</td>\n",
       "      <td>0.775148</td>\n",
       "      <td>11.028200</td>\n",
       "      <td>9.476077e-121</td>\n",
       "      <td>binary</td>\n",
       "    </tr>\n",
       "    <tr>\n",
       "      <th>24</th>\n",
       "      <td>1.6</td>\n",
       "      <td>205</td>\n",
       "      <td>143</td>\n",
       "      <td>0.153929</td>\n",
       "      <td>0.697561</td>\n",
       "      <td>9.924354</td>\n",
       "      <td>1.655484e-120</td>\n",
       "      <td>binary</td>\n",
       "    </tr>\n",
       "    <tr>\n",
       "      <th>21</th>\n",
       "      <td>1.4</td>\n",
       "      <td>229</td>\n",
       "      <td>149</td>\n",
       "      <td>0.157339</td>\n",
       "      <td>0.650655</td>\n",
       "      <td>9.257012</td>\n",
       "      <td>1.671251e-118</td>\n",
       "      <td>binary</td>\n",
       "    </tr>\n",
       "    <tr>\n",
       "      <th>18</th>\n",
       "      <td>1.2</td>\n",
       "      <td>248</td>\n",
       "      <td>153</td>\n",
       "      <td>0.159044</td>\n",
       "      <td>0.616935</td>\n",
       "      <td>8.777277</td>\n",
       "      <td>1.931024e-116</td>\n",
       "      <td>binary</td>\n",
       "    </tr>\n",
       "  </tbody>\n",
       "</table>\n",
       "</div>"
      ],
      "text/plain": [
       "     sd    n  Int       jac   overlap         er              p  method\n",
       "51  3.4  169  131  0.144751  0.775148  11.028200  9.476077e-121  binary\n",
       "48  3.2  169  131  0.144751  0.775148  11.028200  9.476077e-121  binary\n",
       "24  1.6  205  143  0.153929  0.697561   9.924354  1.655484e-120  binary\n",
       "21  1.4  229  149  0.157339  0.650655   9.257012  1.671251e-118  binary\n",
       "18  1.2  248  153  0.159044  0.616935   8.777277  1.931024e-116  binary"
      ]
     },
     "execution_count": 25,
     "metadata": {},
     "output_type": "execute_result"
    }
   ],
   "source": [
    "res[res.method != 'random'].sort_values('p').tail()"
   ]
  },
  {
   "cell_type": "code",
   "execution_count": 373,
   "id": "cac0b0bb-b7b3-40e9-a403-33e48f3f5e26",
   "metadata": {},
   "outputs": [
    {
     "data": {
      "image/png": "[encoded data removed]",
      "text/plain": [
       "<Figure size 300x300 with 1 Axes>"
      ]
     },
     "metadata": {},
     "output_type": "display_data"
    }
   ],
   "source": [
    "plt.figure(figsize = (3,3))\n",
    "sns.lineplot(data = res, x = 'sd', y = 'overlap', hue = 'method',\n",
    "             palette=['tab:blue', 'tab:orange', 'tab:grey'])\n",
    "sns.lineplot(data = res, x = 'sd', y = 'jac', hue = 'method',\n",
    "             linestyle=\"--\", palette=['tab:blue', 'tab:orange', 'tab:grey'])\n",
    "\n",
    "plt.legend(loc='center left', bbox_to_anchor=(1, 0.5))\n",
    "\n",
    "plt.xlabel('Threshold (mu + x*std)')\n",
    "\n",
    "plt.ylim(top = 1, bottom = 0)\n",
    "\n",
    "\n",
    "plt.savefig('/home/jrlab/storage/senepy/paper_1/PAPER_CODE/figures/scdrs_v_senepy_overlap.png',\n",
    "            dpi = 600, transparent = True, bbox_inches = 'tight')\n",
    "\n",
    "plt.savefig('/home/jrlab/storage/senepy/paper_1/PAPER_CODE/figures/scdrs_v_senepy_overlap.svg',\n",
    "transparent = True, bbox_inches = 'tight')\n",
    "\n",
    "\n",
    "\n",
    "\n",
    "plt.show()"
   ]
  },
  {
   "cell_type": "code",
   "execution_count": null,
   "id": "0e1ddc41-2bad-4e11-bbf5-663bfc1cf5b9",
   "metadata": {},
   "outputs": [],
   "source": []
  },
  {
   "cell_type": "code",
   "execution_count": null,
   "id": "39ee02c9-5db5-4e5c-9e08-23c2466cf669",
   "metadata": {},
   "outputs": [],
   "source": []
  },
  {
   "cell_type": "code",
   "execution_count": null,
   "id": "8924359a-059a-4320-bb9f-a2baed63a83b",
   "metadata": {},
   "outputs": [],
   "source": []
  },
  {
   "cell_type": "code",
   "execution_count": null,
   "id": "545c4f3d-2bac-4835-ad37-202fb764c4f3",
   "metadata": {},
   "outputs": [],
   "source": []
  },
  {
   "cell_type": "code",
   "execution_count": 260,
   "id": "89e3e680-458c-416b-a910-8c686628a14b",
   "metadata": {},
   "outputs": [],
   "source": [
    "res['nlogp'] = -np.log10(res.p.replace(0, np.finfo(np.float64).tiny))"
   ]
  },
  {
   "cell_type": "code",
   "execution_count": null,
   "id": "c42ba88e-9fc9-4162-8b75-26a06dbdbc7d",
   "metadata": {},
   "outputs": [],
   "source": []
  },
  {
   "cell_type": "code",
   "execution_count": 283,
   "id": "a1a9b39a-8823-45ce-ba35-0774fe80c4fa",
   "metadata": {},
   "outputs": [
    {
     "data": {
      "image/png": "[encoded data removed]",
      "text/plain": [
       "<Figure size 300x300 with 1 Axes>"
      ]
     },
     "metadata": {},
     "output_type": "display_data"
    }
   ],
   "source": [
    "plt.figure(figsize = (3,3))\n",
    "\n",
    "\n",
    "\n",
    "ax = sns.lineplot(data = res, x = 'sd', y = 'nlogp', hue = 'method', palette=['tab:blue', 'tab:orange', 'tab:grey'])\n",
    "\n",
    "plt.legend(loc='center left', bbox_to_anchor=(1, 0.5))\n",
    "\n",
    "plt.ylabel(r'$-\\log_{10}(p\\ value)$')\n",
    "plt.xlabel('Threshold (mu + x*std)')\n",
    "\n",
    "plt.savefig('/home/jrlab/storage/senepy/paper_1/PAPER_CODE/figures/scdrs_v_senepy.png',\n",
    "            dpi = 600, transparent = True, bbox_inches = 'tight')\n",
    "\n",
    "plt.savefig('/home/jrlab/storage/senepy/paper_1/PAPER_CODE/figures/scdrs_v_senepy.svg',\n",
    "transparent = True, bbox_inches = 'tight')\n",
    "\n",
    "plt.show()"
   ]
  },
  {
   "cell_type": "code",
   "execution_count": null,
   "id": "42e730ec-84b1-4220-941e-985b934b861e",
   "metadata": {},
   "outputs": [],
   "source": []
  },
  {
   "cell_type": "code",
   "execution_count": null,
   "id": "db568213-a5c6-4de3-be05-cb1730ca3d9f",
   "metadata": {},
   "outputs": [],
   "source": []
  },
  {
   "cell_type": "code",
   "execution_count": null,
   "id": "f4ddc64b-2293-47eb-a44a-5d7063b1299e",
   "metadata": {},
   "outputs": [],
   "source": []
  },
  {
   "cell_type": "code",
   "execution_count": null,
   "id": "b13e4fa2-4612-4560-bdd2-94f5db0f0336",
   "metadata": {},
   "outputs": [],
   "source": []
  },
  {
   "cell_type": "code",
   "execution_count": 321,
   "id": "20058e49-6da7-4005-9d2d-ddb369060bb8",
   "metadata": {},
   "outputs": [],
   "source": [
    "#binarize and amplify = True\n",
    "\n",
    "\n",
    "adata.obs['senepy2'] = sp.score_hub(adata, hub, binarize = True, importance = True)\n",
    "mu = adata.obs['senepy2'].mean()\n",
    "sd = adata.obs['senepy2'].std()\n",
    "thresh = mu + 2*sd\n",
    "adata.obs['senepy_sig'] = adata.obs['senepy2'].map(lambda x: 'Sig' if x >= thresh else 'not')\n",
    "\n",
    "adata.obs['scdrs_v_senpy'] = adata.obs[['scrds_sig' , 'senepy_sig']].apply(label_points_wstuff, axis = 1)"
   ]
  },
  {
   "cell_type": "code",
   "execution_count": null,
   "id": "89eb0c9c-fff3-424b-82a8-09d278001b01",
   "metadata": {},
   "outputs": [],
   "source": []
  },
  {
   "cell_type": "code",
   "execution_count": null,
   "id": "343fb412-8c2f-42a8-b119-6370c2cdf8df",
   "metadata": {},
   "outputs": [],
   "source": []
  },
  {
   "cell_type": "code",
   "execution_count": 323,
   "id": "9628542c-c25b-4430-9a1c-764569ddce3c",
   "metadata": {},
   "outputs": [
    {
     "data": {
      "image/png": "[encoded data removed]",
      "text/plain": [
       "<Figure size 300x300 with 1 Axes>"
      ]
     },
     "metadata": {},
     "output_type": "display_data"
    }
   ],
   "source": [
    "\n",
    "r, p = stats.pearsonr(adata.obs.senepy2, adata.obs.scdrs)\n",
    "\n",
    "plt.figure(figsize = (3,3))\n",
    "\n",
    "sns.scatterplot(data = adata.obs, x = 'senepy2', y = 'scdrs', hue='scdrs_v_senpy',\n",
    "                palette = ['tab:grey', 'tab:blue', 'tab:red', 'tab:purple'], \n",
    "                hue_order = ['none', 'scrds', 'senepy', 'both'])\n",
    "\n",
    "\n",
    "plt.legend(loc='center left', bbox_to_anchor=(1, 0.5))\n",
    "\n",
    "\n",
    "plt.text(0.7, 0.95, f\" R = {round(r, 2)}\",\n",
    "         transform=plt.gca().transAxes, ha='left', va='top')\n",
    "plt.text(0.7, 0.875, f\" p = {round(p, 2)}\",\n",
    "         transform=plt.gca().transAxes, ha='left', va='top')\n",
    "\n",
    "\n",
    "plt.xlabel('senePy score')\n",
    "plt.ylabel('scDRS score')\n",
    "\n",
    "\n",
    "\n",
    "plt.savefig('/home/jrlab/storage/senepy/paper_1/PAPER_CODE/figures/scdrs_v_senepy_scatter_binary.png',\n",
    "            dpi = 600, transparent = True, bbox_inches = 'tight')\n",
    "\n",
    "plt.savefig('/home/jrlab/storage/senepy/paper_1/PAPER_CODE/figures/scdrs_v_senepy_scatter_binary.svg',\n",
    "transparent = True, bbox_inches = 'tight')\n",
    "\n",
    "\n",
    "plt.show()"
   ]
  },
  {
   "cell_type": "code",
   "execution_count": 324,
   "id": "31d0fd19-f069-4238-81dc-bcee0686d509",
   "metadata": {},
   "outputs": [],
   "source": [
    "set_binary = set(adata.obs[adata.obs.senepy_sig == 'Sig'].index)"
   ]
  },
  {
   "cell_type": "code",
   "execution_count": 325,
   "id": "315c7c4c-78af-4841-9d60-9346f3ddabad",
   "metadata": {},
   "outputs": [],
   "source": [
    "#run code up higher to get non-binary set again\n",
    "adata.obs['senepy2'] = sp.score_hub(adata, hub, binarize = False, importance = True)\n",
    "mu = adata.obs['senepy2'].mean()\n",
    "sd = adata.obs['senepy2'].std()\n",
    "thresh = mu + 2*sd\n",
    "adata.obs['senepy_sig'] = adata.obs['senepy2'].map(lambda x: 'Sig' if x >= thresh else 'not')\n",
    "\n",
    "adata.obs['scdrs_v_senpy'] = adata.obs[['scrds_sig' , 'senepy_sig']].apply(label_points_wstuff, axis = 1)"
   ]
  },
  {
   "cell_type": "code",
   "execution_count": null,
   "id": "0773e5e1-885b-41fc-b0fa-acd95e8b46d9",
   "metadata": {},
   "outputs": [],
   "source": []
  },
  {
   "cell_type": "code",
   "execution_count": null,
   "id": "8109b232-6912-4aa7-909b-75ff59cc7769",
   "metadata": {},
   "outputs": [],
   "source": []
  },
  {
   "cell_type": "code",
   "execution_count": 336,
   "id": "0fe744c5-36d4-4bfe-8f7d-921d22fc9038",
   "metadata": {},
   "outputs": [
    {
     "data": {
      "image/png": "[encoded data removed]",
      "text/plain": [
       "<Figure size 300x300 with 1 Axes>"
      ]
     },
     "metadata": {},
     "output_type": "display_data"
    }
   ],
   "source": [
    "set1 = set(adata.obs[adata.obs.scrds_sig == 'Sig'].index)\n",
    "set2 = set(adata.obs[adata.obs.senepy_sig == 'Sig'].index)\n",
    "\n",
    "# Create the Venn diagram\n",
    "plt.figure(figsize=(3, 3))\n",
    "venn2([set1, set2], ('scdrs', 'Norm'))\n",
    "\n",
    "\n",
    "\n",
    "plt.show()"
   ]
  },
  {
   "cell_type": "code",
   "execution_count": 337,
   "id": "06afabde-5cca-4761-897f-918618a1103f",
   "metadata": {},
   "outputs": [
    {
     "data": {
      "image/png": "[encoded data removed]",
      "text/plain": [
       "<Figure size 400x400 with 1 Axes>"
      ]
     },
     "metadata": {},
     "output_type": "display_data"
    }
   ],
   "source": [
    "set1 = set(adata.obs[adata.obs.scrds_sig == 'Sig'].index)\n",
    "set2 = set(adata.obs[adata.obs.senepy_sig == 'Sig'].index)\n",
    "\n",
    "# Create the Venn diagram for three sets\n",
    "plt.figure(figsize=(4, 4))\n",
    "venn3([set1, set2, set_binary], ('scDRS', 'Norm.', 'Binary'))\n",
    "\n",
    "\n",
    "plt.savefig('/home/jrlab/storage/senepy/paper_1/PAPER_CODE/figures/scdrs_v_senepy_venn.png',\n",
    "            dpi = 600, transparent = True, bbox_inches = 'tight')\n",
    "\n",
    "plt.savefig('/home/jrlab/storage/senepy/paper_1/PAPER_CODE/figures/scdrs_v_senepy_venn.svg',\n",
    "transparent = True, bbox_inches = 'tight')\n",
    "\n",
    "\n",
    "plt.show()\n"
   ]
  },
  {
   "cell_type": "code",
   "execution_count": null,
   "id": "22ffdb9a-c6ce-4dee-b52a-d71faeb61875",
   "metadata": {},
   "outputs": [],
   "source": []
  },
  {
   "cell_type": "code",
   "execution_count": null,
   "id": "0062c330-a965-4151-8fc0-1340f6605b64",
   "metadata": {},
   "outputs": [],
   "source": []
  },
  {
   "cell_type": "code",
   "execution_count": null,
   "id": "52960230-6e49-416a-a845-b88de00abbca",
   "metadata": {},
   "outputs": [],
   "source": [
    "#final thing is to show distributions of senepy scores and how it is bimodal? but does this conflight when\n",
    "#at other points in the paper the distributions arent bimodal?"
   ]
  },
  {
   "cell_type": "code",
   "execution_count": null,
   "id": "7c4fc65d-f992-4c8a-b681-8700c42702f9",
   "metadata": {},
   "outputs": [],
   "source": [
    "#final thing is to show the difference at multiple ages"
   ]
  },
  {
   "cell_type": "code",
   "execution_count": null,
   "id": "f42eb2ea-fa8f-4bd9-827f-4d83b3c56ace",
   "metadata": {},
   "outputs": [],
   "source": []
  },
  {
   "cell_type": "code",
   "execution_count": null,
   "id": "d3d17782-4cab-4b40-8d65-edfbe8f8c423",
   "metadata": {},
   "outputs": [],
   "source": [
    "cells_p_age = "
   ]
  },
  {
   "cell_type": "code",
   "execution_count": 356,
   "id": "f1f77e22-980e-4e0a-a8fd-78c5b07073c0",
   "metadata": {},
   "outputs": [],
   "source": [
    "cells_p_age = adata.obs.groupby('age', observed = True).size().reset_index(name = 'total_cells')"
   ]
  },
  {
   "cell_type": "code",
   "execution_count": 357,
   "id": "dcb14753-7856-4800-8afb-1df8d5bde5b3",
   "metadata": {},
   "outputs": [
    {
     "data": {
      "text/html": [
       "<div>\n",
       "<style scoped>\n",
       "    .dataframe tbody tr th:only-of-type {\n",
       "        vertical-align: middle;\n",
       "    }\n",
       "\n",
       "    .dataframe tbody tr th {\n",
       "        vertical-align: top;\n",
       "    }\n",
       "\n",
       "    .dataframe thead th {\n",
       "        text-align: right;\n",
       "    }\n",
       "</style>\n",
       "<table border=\"1\" class=\"dataframe\">\n",
       "  <thead>\n",
       "    <tr style=\"text-align: right;\">\n",
       "      <th></th>\n",
       "      <th>age</th>\n",
       "      <th>total_cells</th>\n",
       "    </tr>\n",
       "  </thead>\n",
       "  <tbody>\n",
       "    <tr>\n",
       "      <th>0</th>\n",
       "      <td>1m</td>\n",
       "      <td>2711</td>\n",
       "    </tr>\n",
       "    <tr>\n",
       "      <th>1</th>\n",
       "      <td>3m</td>\n",
       "      <td>3884</td>\n",
       "    </tr>\n",
       "    <tr>\n",
       "      <th>2</th>\n",
       "      <td>18m</td>\n",
       "      <td>2118</td>\n",
       "    </tr>\n",
       "    <tr>\n",
       "      <th>3</th>\n",
       "      <td>24m</td>\n",
       "      <td>3622</td>\n",
       "    </tr>\n",
       "  </tbody>\n",
       "</table>\n",
       "</div>"
      ],
      "text/plain": [
       "   age  total_cells\n",
       "0   1m         2711\n",
       "1   3m         3884\n",
       "2  18m         2118\n",
       "3  24m         3622"
      ]
     },
     "execution_count": 357,
     "metadata": {},
     "output_type": "execute_result"
    }
   ],
   "source": [
    "cells_p_age"
   ]
  },
  {
   "cell_type": "code",
   "execution_count": null,
   "id": "8aa329fa-1798-4860-80f4-922c6875b4bd",
   "metadata": {},
   "outputs": [],
   "source": []
  },
  {
   "cell_type": "code",
   "execution_count": null,
   "id": "bcd58244-0f36-4a66-8b1a-ef57c8648881",
   "metadata": {},
   "outputs": [],
   "source": []
  },
  {
   "cell_type": "code",
   "execution_count": null,
   "id": "27c8c100-1c17-40cb-b1f1-1a82911ec5f0",
   "metadata": {},
   "outputs": [],
   "source": []
  },
  {
   "cell_type": "code",
   "execution_count": null,
   "id": "75323ce5-770c-427d-8450-51ef6fe008ef",
   "metadata": {},
   "outputs": [],
   "source": []
  },
  {
   "cell_type": "code",
   "execution_count": 386,
   "id": "5abda0d6-9a40-485f-bbef-d2d7738a6be5",
   "metadata": {},
   "outputs": [],
   "source": [
    "scdrs = adata.obs.groupby(['age', 'scrds_sig'], observed = True).size().reset_index(name = 'n_cells')\n",
    "scdrs = scdrs.merge(cells_p_age, on='age')\n",
    "\n",
    "scdrs['method'] = 'scDRS'\n",
    "scdrs = scdrs.rename(columns = {'scrds_sig': 'senescent'})\n",
    "\n",
    "scdrs['prop'] = scdrs.n_cells / scdrs.total_cells"
   ]
  },
  {
   "cell_type": "code",
   "execution_count": 395,
   "id": "c8b1b058-ad31-428a-95ff-6f7526b1b04a",
   "metadata": {},
   "outputs": [],
   "source": [
    "sene = adata.obs.groupby(['age', 'senepy_sig'], observed = True).size().reset_index(name = 'n_cells')\n",
    "sene = sene.merge(cells_p_age, on='age')\n",
    "\n",
    "sene['method'] = 'senePy'\n",
    "sene = sene.rename(columns = {'senepy_sig': 'senescent'})\n",
    "\n",
    "sene['prop'] = sene.n_cells / sene.total_cells"
   ]
  },
  {
   "cell_type": "code",
   "execution_count": null,
   "id": "75a006a7-437b-4415-9a00-357af9d67ae7",
   "metadata": {},
   "outputs": [],
   "source": []
  },
  {
   "cell_type": "code",
   "execution_count": 408,
   "id": "d1dfae76-e452-4e60-a592-d1e904ce82b4",
   "metadata": {},
   "outputs": [],
   "source": [
    "adata.obs['senepy2'] = sp.score_hub(adata, hub, binarize = True, importance = True)\n",
    "mu = adata.obs['senepy2'].mean()\n",
    "sd = adata.obs['senepy2'].std()\n",
    "thresh = mu + 2*sd\n",
    "adata.obs['senepy_sig'] = adata.obs['senepy2'].map(lambda x: 'Sig' if x >= thresh else 'not')\n",
    "\n",
    "\n",
    "binary = adata.obs.groupby(['age', 'senepy_sig'], observed = False).size().reset_index(name = 'n_cells')\n",
    "binary = binary.merge(cells_p_age, on='age')\n",
    "\n",
    "binary['method'] = 'senePy_binary'\n",
    "binary = binary.rename(columns = {'senepy_sig': 'senescent'})\n",
    "\n",
    "binary['prop'] = binary.n_cells / binary.total_cells"
   ]
  },
  {
   "cell_type": "code",
   "execution_count": null,
   "id": "fae38407-c224-48cb-9807-90f379e047c2",
   "metadata": {},
   "outputs": [],
   "source": []
  },
  {
   "cell_type": "code",
   "execution_count": null,
   "id": "2f9add0d-ac52-4c47-be0d-e339fbd92f16",
   "metadata": {},
   "outputs": [],
   "source": []
  },
  {
   "cell_type": "code",
   "execution_count": null,
   "id": "dde4dad6-4865-445d-b30d-4dda187a9f7b",
   "metadata": {},
   "outputs": [],
   "source": []
  },
  {
   "cell_type": "code",
   "execution_count": 409,
   "id": "63bb1977-d4e4-4dfb-8df9-c9b51d2773f4",
   "metadata": {},
   "outputs": [],
   "source": [
    "df = pd.concat((scdrs, sene, binary))"
   ]
  },
  {
   "cell_type": "code",
   "execution_count": 410,
   "id": "5046d1f9-4390-447c-a0ed-32395a3d1c77",
   "metadata": {},
   "outputs": [
    {
     "data": {
      "text/html": [
       "<div>\n",
       "<style scoped>\n",
       "    .dataframe tbody tr th:only-of-type {\n",
       "        vertical-align: middle;\n",
       "    }\n",
       "\n",
       "    .dataframe tbody tr th {\n",
       "        vertical-align: top;\n",
       "    }\n",
       "\n",
       "    .dataframe thead th {\n",
       "        text-align: right;\n",
       "    }\n",
       "</style>\n",
       "<table border=\"1\" class=\"dataframe\">\n",
       "  <thead>\n",
       "    <tr style=\"text-align: right;\">\n",
       "      <th></th>\n",
       "      <th>age</th>\n",
       "      <th>senescent</th>\n",
       "      <th>n_cells</th>\n",
       "      <th>total_cells</th>\n",
       "      <th>method</th>\n",
       "      <th>prop</th>\n",
       "    </tr>\n",
       "  </thead>\n",
       "  <tbody>\n",
       "    <tr>\n",
       "      <th>0</th>\n",
       "      <td>1m</td>\n",
       "      <td>Sig</td>\n",
       "      <td>172</td>\n",
       "      <td>2711</td>\n",
       "      <td>scDRS</td>\n",
       "      <td>0.063445</td>\n",
       "    </tr>\n",
       "    <tr>\n",
       "      <th>1</th>\n",
       "      <td>1m</td>\n",
       "      <td>not</td>\n",
       "      <td>2539</td>\n",
       "      <td>2711</td>\n",
       "      <td>scDRS</td>\n",
       "      <td>0.936555</td>\n",
       "    </tr>\n",
       "    <tr>\n",
       "      <th>2</th>\n",
       "      <td>3m</td>\n",
       "      <td>Sig</td>\n",
       "      <td>92</td>\n",
       "      <td>3884</td>\n",
       "      <td>scDRS</td>\n",
       "      <td>0.023687</td>\n",
       "    </tr>\n",
       "    <tr>\n",
       "      <th>3</th>\n",
       "      <td>3m</td>\n",
       "      <td>not</td>\n",
       "      <td>3792</td>\n",
       "      <td>3884</td>\n",
       "      <td>scDRS</td>\n",
       "      <td>0.976313</td>\n",
       "    </tr>\n",
       "    <tr>\n",
       "      <th>4</th>\n",
       "      <td>18m</td>\n",
       "      <td>Sig</td>\n",
       "      <td>85</td>\n",
       "      <td>2118</td>\n",
       "      <td>scDRS</td>\n",
       "      <td>0.040132</td>\n",
       "    </tr>\n",
       "    <tr>\n",
       "      <th>5</th>\n",
       "      <td>18m</td>\n",
       "      <td>not</td>\n",
       "      <td>2033</td>\n",
       "      <td>2118</td>\n",
       "      <td>scDRS</td>\n",
       "      <td>0.959868</td>\n",
       "    </tr>\n",
       "    <tr>\n",
       "      <th>6</th>\n",
       "      <td>24m</td>\n",
       "      <td>Sig</td>\n",
       "      <td>518</td>\n",
       "      <td>3622</td>\n",
       "      <td>scDRS</td>\n",
       "      <td>0.143015</td>\n",
       "    </tr>\n",
       "    <tr>\n",
       "      <th>7</th>\n",
       "      <td>24m</td>\n",
       "      <td>not</td>\n",
       "      <td>3104</td>\n",
       "      <td>3622</td>\n",
       "      <td>scDRS</td>\n",
       "      <td>0.856985</td>\n",
       "    </tr>\n",
       "    <tr>\n",
       "      <th>0</th>\n",
       "      <td>1m</td>\n",
       "      <td>Sig</td>\n",
       "      <td>65</td>\n",
       "      <td>2711</td>\n",
       "      <td>senePy</td>\n",
       "      <td>0.023976</td>\n",
       "    </tr>\n",
       "    <tr>\n",
       "      <th>1</th>\n",
       "      <td>1m</td>\n",
       "      <td>not</td>\n",
       "      <td>2646</td>\n",
       "      <td>2711</td>\n",
       "      <td>senePy</td>\n",
       "      <td>0.976024</td>\n",
       "    </tr>\n",
       "    <tr>\n",
       "      <th>2</th>\n",
       "      <td>3m</td>\n",
       "      <td>Sig</td>\n",
       "      <td>26</td>\n",
       "      <td>3884</td>\n",
       "      <td>senePy</td>\n",
       "      <td>0.006694</td>\n",
       "    </tr>\n",
       "    <tr>\n",
       "      <th>3</th>\n",
       "      <td>3m</td>\n",
       "      <td>not</td>\n",
       "      <td>3858</td>\n",
       "      <td>3884</td>\n",
       "      <td>senePy</td>\n",
       "      <td>0.993306</td>\n",
       "    </tr>\n",
       "    <tr>\n",
       "      <th>4</th>\n",
       "      <td>18m</td>\n",
       "      <td>Sig</td>\n",
       "      <td>37</td>\n",
       "      <td>2118</td>\n",
       "      <td>senePy</td>\n",
       "      <td>0.017469</td>\n",
       "    </tr>\n",
       "    <tr>\n",
       "      <th>5</th>\n",
       "      <td>18m</td>\n",
       "      <td>not</td>\n",
       "      <td>2081</td>\n",
       "      <td>2118</td>\n",
       "      <td>senePy</td>\n",
       "      <td>0.982531</td>\n",
       "    </tr>\n",
       "    <tr>\n",
       "      <th>6</th>\n",
       "      <td>24m</td>\n",
       "      <td>Sig</td>\n",
       "      <td>324</td>\n",
       "      <td>3622</td>\n",
       "      <td>senePy</td>\n",
       "      <td>0.089453</td>\n",
       "    </tr>\n",
       "    <tr>\n",
       "      <th>7</th>\n",
       "      <td>24m</td>\n",
       "      <td>not</td>\n",
       "      <td>3298</td>\n",
       "      <td>3622</td>\n",
       "      <td>senePy</td>\n",
       "      <td>0.910547</td>\n",
       "    </tr>\n",
       "    <tr>\n",
       "      <th>0</th>\n",
       "      <td>1m</td>\n",
       "      <td>Sig</td>\n",
       "      <td>0</td>\n",
       "      <td>2711</td>\n",
       "      <td>senePy_binary</td>\n",
       "      <td>0.000000</td>\n",
       "    </tr>\n",
       "    <tr>\n",
       "      <th>1</th>\n",
       "      <td>1m</td>\n",
       "      <td>not</td>\n",
       "      <td>2711</td>\n",
       "      <td>2711</td>\n",
       "      <td>senePy_binary</td>\n",
       "      <td>1.000000</td>\n",
       "    </tr>\n",
       "    <tr>\n",
       "      <th>2</th>\n",
       "      <td>3m</td>\n",
       "      <td>Sig</td>\n",
       "      <td>12</td>\n",
       "      <td>3884</td>\n",
       "      <td>senePy_binary</td>\n",
       "      <td>0.003090</td>\n",
       "    </tr>\n",
       "    <tr>\n",
       "      <th>3</th>\n",
       "      <td>3m</td>\n",
       "      <td>not</td>\n",
       "      <td>3872</td>\n",
       "      <td>3884</td>\n",
       "      <td>senePy_binary</td>\n",
       "      <td>0.996910</td>\n",
       "    </tr>\n",
       "    <tr>\n",
       "      <th>4</th>\n",
       "      <td>18m</td>\n",
       "      <td>Sig</td>\n",
       "      <td>5</td>\n",
       "      <td>2118</td>\n",
       "      <td>senePy_binary</td>\n",
       "      <td>0.002361</td>\n",
       "    </tr>\n",
       "    <tr>\n",
       "      <th>5</th>\n",
       "      <td>18m</td>\n",
       "      <td>not</td>\n",
       "      <td>2113</td>\n",
       "      <td>2118</td>\n",
       "      <td>senePy_binary</td>\n",
       "      <td>0.997639</td>\n",
       "    </tr>\n",
       "    <tr>\n",
       "      <th>6</th>\n",
       "      <td>24m</td>\n",
       "      <td>Sig</td>\n",
       "      <td>172</td>\n",
       "      <td>3622</td>\n",
       "      <td>senePy_binary</td>\n",
       "      <td>0.047488</td>\n",
       "    </tr>\n",
       "    <tr>\n",
       "      <th>7</th>\n",
       "      <td>24m</td>\n",
       "      <td>not</td>\n",
       "      <td>3450</td>\n",
       "      <td>3622</td>\n",
       "      <td>senePy_binary</td>\n",
       "      <td>0.952512</td>\n",
       "    </tr>\n",
       "  </tbody>\n",
       "</table>\n",
       "</div>"
      ],
      "text/plain": [
       "   age senescent  n_cells  total_cells         method      prop\n",
       "0   1m       Sig      172         2711          scDRS  0.063445\n",
       "1   1m       not     2539         2711          scDRS  0.936555\n",
       "2   3m       Sig       92         3884          scDRS  0.023687\n",
       "3   3m       not     3792         3884          scDRS  0.976313\n",
       "4  18m       Sig       85         2118          scDRS  0.040132\n",
       "5  18m       not     2033         2118          scDRS  0.959868\n",
       "6  24m       Sig      518         3622          scDRS  0.143015\n",
       "7  24m       not     3104         3622          scDRS  0.856985\n",
       "0   1m       Sig       65         2711         senePy  0.023976\n",
       "1   1m       not     2646         2711         senePy  0.976024\n",
       "2   3m       Sig       26         3884         senePy  0.006694\n",
       "3   3m       not     3858         3884         senePy  0.993306\n",
       "4  18m       Sig       37         2118         senePy  0.017469\n",
       "5  18m       not     2081         2118         senePy  0.982531\n",
       "6  24m       Sig      324         3622         senePy  0.089453\n",
       "7  24m       not     3298         3622         senePy  0.910547\n",
       "0   1m       Sig        0         2711  senePy_binary  0.000000\n",
       "1   1m       not     2711         2711  senePy_binary  1.000000\n",
       "2   3m       Sig       12         3884  senePy_binary  0.003090\n",
       "3   3m       not     3872         3884  senePy_binary  0.996910\n",
       "4  18m       Sig        5         2118  senePy_binary  0.002361\n",
       "5  18m       not     2113         2118  senePy_binary  0.997639\n",
       "6  24m       Sig      172         3622  senePy_binary  0.047488\n",
       "7  24m       not     3450         3622  senePy_binary  0.952512"
      ]
     },
     "execution_count": 410,
     "metadata": {},
     "output_type": "execute_result"
    }
   ],
   "source": [
    "df"
   ]
  },
  {
   "cell_type": "code",
   "execution_count": null,
   "id": "f48019af-c12f-4414-8ab6-f78a56a82d7f",
   "metadata": {},
   "outputs": [],
   "source": []
  },
  {
   "cell_type": "code",
   "execution_count": null,
   "id": "139c7fe1-323c-425c-88e5-88121035174b",
   "metadata": {},
   "outputs": [],
   "source": []
  },
  {
   "cell_type": "code",
   "execution_count": null,
   "id": "1cb7bacf-45ef-4ed3-aeb3-4c0178537844",
   "metadata": {},
   "outputs": [],
   "source": []
  },
  {
   "cell_type": "code",
   "execution_count": 418,
   "id": "9c8dce62-814c-4cae-b9a7-9f4fea1c5b7b",
   "metadata": {},
   "outputs": [
    {
     "data": {
      "image/png": "[encoded data removed]",
      "text/plain": [
       "<Figure size 400x400 with 1 Axes>"
      ]
     },
     "metadata": {},
     "output_type": "display_data"
    }
   ],
   "source": [
    "plt.figure(figsize = (4,4))\n",
    "\n",
    "ax = sns.lineplot(data = df[df.senescent == 'Sig'], x = 'age', y = 'prop', hue = 'method')\n",
    "\n",
    "plt.xlabel('')\n",
    "plt.ylabel('Significant')\n",
    "\n",
    "\n",
    "plt.savefig('/home/jrlab/storage/senepy/paper_1/PAPER_CODE/figures/scdrs_v_senepy_by_age.png',\n",
    "            dpi = 600, transparent = True, bbox_inches = 'tight')\n",
    "\n",
    "plt.savefig('/home/jrlab/storage/senepy/paper_1/PAPER_CODE/figures/scdrs_v_senepy_by_age.svg',\n",
    "transparent = True, bbox_inches = 'tight')\n",
    "\n",
    "plt.show()"
   ]
  },
  {
   "cell_type": "code",
   "execution_count": null,
   "id": "4ac49ae7-8c3b-4446-aea6-770ecb5b8a95",
   "metadata": {},
   "outputs": [],
   "source": []
  },
  {
   "cell_type": "code",
   "execution_count": null,
   "id": "cbe244b5-5c67-43d3-bb44-3ab02cb10d98",
   "metadata": {},
   "outputs": [],
   "source": []
  },
  {
   "cell_type": "code",
   "execution_count": null,
   "id": "bd90eab0-06af-406f-aefa-6c2bd7141541",
   "metadata": {},
   "outputs": [],
   "source": []
  }
 ],
 "metadata": {
  "kernelspec": {
   "display_name": "Python 3 (ipykernel)",
   "language": "python",
   "name": "python3"
  },
  "language_info": {
   "codemirror_mode": {
    "name": "ipython",
    "version": 3
   },
   "file_extension": ".py",
   "mimetype": "text/x-python",
   "name": "python",
   "nbconvert_exporter": "python",
   "pygments_lexer": "ipython3",
   "version": "3.9.18"
  }
 },
 "nbformat": 4,
 "nbformat_minor": 5
}
