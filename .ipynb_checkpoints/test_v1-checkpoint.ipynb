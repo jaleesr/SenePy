{
 "cells": [
  {
   "cell_type": "markdown",
   "id": "e4054fbc",
   "metadata": {},
   "source": [
    "# Model"
   ]
  },
  {
   "cell_type": "code",
   "execution_count": 96,
   "id": "6fe7cd0c",
   "metadata": {},
   "outputs": [],
   "source": [
    "import numpy as np\n",
    "import pandas as pd\n",
    "from tqdm import tqdm\n",
    "#from scipy.sparse import issparse"
   ]
  },
  {
   "cell_type": "code",
   "execution_count": 2,
   "id": "a9a408f2",
   "metadata": {},
   "outputs": [],
   "source": [
    "#harmonize hub genes and adata genes\n",
    "\n",
    "\n",
    "##### this needs to be pacakged ####\n",
    "aliases = pd.read_csv('../data/gene_lists/id_translation/mart_export.txt')\n",
    "aliases['Gene Synonym'] = aliases['Gene Synonym'].str.lower()\n",
    "aliases['Gene name'] = aliases['Gene name'].str.lower()\n",
    "aliases['UniProtKB Gene Name symbol'] = aliases['UniProtKB Gene Name symbol'].str.lower()\n",
    "####################\n",
    "\n"
   ]
  },
  {
   "cell_type": "code",
   "execution_count": 3,
   "id": "3d9be30a",
   "metadata": {},
   "outputs": [
    {
     "data": {
      "text/plain": [
       "'\\n\\n1) select background list like based on actual expression like seurat/scanpy score cells,\\nOR based on dropout instead of expression\\n\\n2) binarize -- OPTIONAL\\n\\n3) amplify by hub importance\\n\\n3) mean of input - mean of background\\n\\n'"
      ]
     },
     "execution_count": 3,
     "metadata": {},
     "output_type": "execute_result"
    }
   ],
   "source": [
    "'''\n",
    "\n",
    "1) select background list like based on actual expression like seurat/scanpy score cells,\n",
    "OR based on dropout instead of expression\n",
    "\n",
    "2) binarize -- OPTIONAL\n",
    "\n",
    "3) amplify by hub importance\n",
    "\n",
    "3) mean of input - mean of background\n",
    "\n",
    "'''"
   ]
  },
  {
   "cell_type": "code",
   "execution_count": 140,
   "id": "daef922e",
   "metadata": {},
   "outputs": [],
   "source": [
    "aliases = pd.read_csv('../data/gene_lists/id_translation/mart_export.txt')\n",
    "aliases['Gene Synonym'] = aliases['Gene Synonym'].str.lower()\n",
    "aliases['Gene name'] = aliases['Gene name'].str.lower()\n",
    "aliases['UniProtKB Gene Name symbol'] = aliases['UniProtKB Gene Name symbol'].str.lower()\n",
    "\n",
    "aliases = aliases.drop_duplicates(subset = ['Gene Synonym', 'Gene name'])"
   ]
  },
  {
   "cell_type": "code",
   "execution_count": 3,
   "id": "7bd9c87e",
   "metadata": {},
   "outputs": [],
   "source": [
    "def translator(gene):\n",
    "    if gene in var_names:\n",
    "        return gene\n",
    "    \n",
    "    #returns the adata variant if the differences is only capitalization\n",
    "    if gene.lower() in var_names_lower:\n",
    "        i = np.where(var_names_lower == gene.lower())[0][0]\n",
    "        return var_names[i]\n",
    "    \n",
    "    if gene.lower() in aliases['Gene Synonym'].values:\n",
    "        test_genes = aliases[aliases['Gene Synonym'] == gene.lower()]\\\n",
    "            .dropna(subset = ['Gene name'])['Gene name'].unique()\n",
    "        for test_gene in test_genes:\n",
    "            if test_gene in var_names:\n",
    "                return test_gene\n",
    "            elif test_gene.lower() in var_names_lower:\n",
    "                i = np.where(var_names_lower == test_gene.lower())[0][0]\n",
    "                return var_names[i]\n",
    "            \n",
    "            \n",
    "    if gene.lower() in aliases['Gene name'].values:\n",
    "        test_genes = aliases[aliases['Gene name'] == gene.lower()]\\\n",
    "            .dropna(subset = ['Gene Synonym'])['Gene Synonym'].unique()\n",
    "        for test_gene in test_genes:\n",
    "            if test_gene in var_names:\n",
    "                return test_gene\n",
    "            elif test_gene.lower() in var_names_lower:\n",
    "                i = np.where(var_names_lower == test_gene.lower())[0][0]\n",
    "                return var_names[i]\n",
    "            \n",
    "    return gene #not translated"
   ]
  },
  {
   "cell_type": "code",
   "execution_count": 141,
   "id": "5c00b66a",
   "metadata": {},
   "outputs": [
    {
     "data": {
      "text/html": [
       "<div>\n",
       "<style scoped>\n",
       "    .dataframe tbody tr th:only-of-type {\n",
       "        vertical-align: middle;\n",
       "    }\n",
       "\n",
       "    .dataframe tbody tr th {\n",
       "        vertical-align: top;\n",
       "    }\n",
       "\n",
       "    .dataframe thead th {\n",
       "        text-align: right;\n",
       "    }\n",
       "</style>\n",
       "<table border=\"1\" class=\"dataframe\">\n",
       "  <thead>\n",
       "    <tr style=\"text-align: right;\">\n",
       "      <th></th>\n",
       "      <th>Gene stable ID</th>\n",
       "      <th>Transcript stable ID</th>\n",
       "      <th>Gene Synonym</th>\n",
       "      <th>Gene name</th>\n",
       "      <th>UniProtKB Gene Name symbol</th>\n",
       "    </tr>\n",
       "  </thead>\n",
       "  <tbody>\n",
       "    <tr>\n",
       "      <th>920905</th>\n",
       "      <td>ENSMUSG00000044303</td>\n",
       "      <td>ENSMUST00000060501</td>\n",
       "      <td>arf</td>\n",
       "      <td>cdkn2a</td>\n",
       "      <td>cdkn2a</td>\n",
       "    </tr>\n",
       "    <tr>\n",
       "      <th>920907</th>\n",
       "      <td>ENSMUSG00000044303</td>\n",
       "      <td>ENSMUST00000060501</td>\n",
       "      <td>arf-ink4a</td>\n",
       "      <td>cdkn2a</td>\n",
       "      <td>cdkn2a</td>\n",
       "    </tr>\n",
       "    <tr>\n",
       "      <th>920909</th>\n",
       "      <td>ENSMUSG00000044303</td>\n",
       "      <td>ENSMUST00000060501</td>\n",
       "      <td>ink4a-arf</td>\n",
       "      <td>cdkn2a</td>\n",
       "      <td>cdkn2a</td>\n",
       "    </tr>\n",
       "    <tr>\n",
       "      <th>920911</th>\n",
       "      <td>ENSMUSG00000044303</td>\n",
       "      <td>ENSMUST00000060501</td>\n",
       "      <td>ink4a/arf</td>\n",
       "      <td>cdkn2a</td>\n",
       "      <td>cdkn2a</td>\n",
       "    </tr>\n",
       "    <tr>\n",
       "      <th>920913</th>\n",
       "      <td>ENSMUSG00000044303</td>\n",
       "      <td>ENSMUST00000060501</td>\n",
       "      <td>mts1</td>\n",
       "      <td>cdkn2a</td>\n",
       "      <td>cdkn2a</td>\n",
       "    </tr>\n",
       "    <tr>\n",
       "      <th>920915</th>\n",
       "      <td>ENSMUSG00000044303</td>\n",
       "      <td>ENSMUST00000060501</td>\n",
       "      <td>p16</td>\n",
       "      <td>cdkn2a</td>\n",
       "      <td>cdkn2a</td>\n",
       "    </tr>\n",
       "    <tr>\n",
       "      <th>920917</th>\n",
       "      <td>ENSMUSG00000044303</td>\n",
       "      <td>ENSMUST00000060501</td>\n",
       "      <td>p16ink4a</td>\n",
       "      <td>cdkn2a</td>\n",
       "      <td>cdkn2a</td>\n",
       "    </tr>\n",
       "    <tr>\n",
       "      <th>920919</th>\n",
       "      <td>ENSMUSG00000044303</td>\n",
       "      <td>ENSMUST00000060501</td>\n",
       "      <td>p19&lt;arf&gt;</td>\n",
       "      <td>cdkn2a</td>\n",
       "      <td>cdkn2a</td>\n",
       "    </tr>\n",
       "    <tr>\n",
       "      <th>920921</th>\n",
       "      <td>ENSMUSG00000044303</td>\n",
       "      <td>ENSMUST00000060501</td>\n",
       "      <td>p19arf</td>\n",
       "      <td>cdkn2a</td>\n",
       "      <td>cdkn2a</td>\n",
       "    </tr>\n",
       "    <tr>\n",
       "      <th>920923</th>\n",
       "      <td>ENSMUSG00000044303</td>\n",
       "      <td>ENSMUST00000060501</td>\n",
       "      <td>pctr1</td>\n",
       "      <td>cdkn2a</td>\n",
       "      <td>cdkn2a</td>\n",
       "    </tr>\n",
       "  </tbody>\n",
       "</table>\n",
       "</div>"
      ],
      "text/plain": [
       "            Gene stable ID Transcript stable ID Gene Synonym Gene name  \\\n",
       "920905  ENSMUSG00000044303   ENSMUST00000060501          arf    cdkn2a   \n",
       "920907  ENSMUSG00000044303   ENSMUST00000060501    arf-ink4a    cdkn2a   \n",
       "920909  ENSMUSG00000044303   ENSMUST00000060501    ink4a-arf    cdkn2a   \n",
       "920911  ENSMUSG00000044303   ENSMUST00000060501    ink4a/arf    cdkn2a   \n",
       "920913  ENSMUSG00000044303   ENSMUST00000060501         mts1    cdkn2a   \n",
       "920915  ENSMUSG00000044303   ENSMUST00000060501          p16    cdkn2a   \n",
       "920917  ENSMUSG00000044303   ENSMUST00000060501     p16ink4a    cdkn2a   \n",
       "920919  ENSMUSG00000044303   ENSMUST00000060501     p19<arf>    cdkn2a   \n",
       "920921  ENSMUSG00000044303   ENSMUST00000060501       p19arf    cdkn2a   \n",
       "920923  ENSMUSG00000044303   ENSMUST00000060501        pctr1    cdkn2a   \n",
       "\n",
       "       UniProtKB Gene Name symbol  \n",
       "920905                     cdkn2a  \n",
       "920907                     cdkn2a  \n",
       "920909                     cdkn2a  \n",
       "920911                     cdkn2a  \n",
       "920913                     cdkn2a  \n",
       "920915                     cdkn2a  \n",
       "920917                     cdkn2a  \n",
       "920919                     cdkn2a  \n",
       "920921                     cdkn2a  \n",
       "920923                     cdkn2a  "
      ]
     },
     "execution_count": 141,
     "metadata": {},
     "output_type": "execute_result"
    }
   ],
   "source": [
    "aliases[aliases['Gene name'] == 'cdkn2a']"
   ]
  },
  {
   "cell_type": "code",
   "execution_count": 146,
   "id": "44286484",
   "metadata": {},
   "outputs": [],
   "source": [
    "aliases = aliases[(aliases['Gene Synonym'].isin(nash.var_names.map(lambda x: x.lower())))\\\n",
    "        | (aliases['Gene name'].isin(nash.var_names.map(lambda x: x.lower())))]"
   ]
  },
  {
   "cell_type": "code",
   "execution_count": null,
   "id": "e149881c",
   "metadata": {},
   "outputs": [],
   "source": []
  },
  {
   "cell_type": "code",
   "execution_count": 118,
   "id": "318875d8",
   "metadata": {},
   "outputs": [
    {
     "data": {
      "text/plain": [
       "Series([], Name: Gene name, dtype: object)"
      ]
     },
     "execution_count": 118,
     "metadata": {},
     "output_type": "execute_result"
    }
   ],
   "source": [
    "aliases[aliases['Gene Synonym'] == 'fcmr'].dropna(subset = ['Gene name'])['Gene name']"
   ]
  },
  {
   "cell_type": "code",
   "execution_count": 147,
   "id": "d6ac41c4",
   "metadata": {},
   "outputs": [],
   "source": [
    "aliases_d = dict(zip(aliases['Gene Synonym'], aliases['Gene name']))\n"
   ]
  },
  {
   "cell_type": "code",
   "execution_count": 149,
   "id": "ddf98b1b",
   "metadata": {},
   "outputs": [],
   "source": [
    "aliases_rev_d = dict(zip(aliases['Gene name'], aliases['Gene Synonym']))"
   ]
  },
  {
   "cell_type": "code",
   "execution_count": null,
   "id": "c7f8f314",
   "metadata": {},
   "outputs": [],
   "source": []
  },
  {
   "cell_type": "code",
   "execution_count": null,
   "id": "9fe1c8bb",
   "metadata": {},
   "outputs": [],
   "source": []
  },
  {
   "cell_type": "code",
   "execution_count": 150,
   "id": "58a1a6c3",
   "metadata": {},
   "outputs": [],
   "source": [
    "def translate_gene(var_names, var_names_lower, gene):\n",
    "    \n",
    "    gene_lower = gene.lower()\n",
    "    \n",
    "    if gene_lower in var_names_lower:\n",
    "        i = np.where(var_names_lower == gene.lower())[0][0]\n",
    "        return var_names[i]\n",
    "    \n",
    "    try:\n",
    "        alias =  aliases_d[gene_lower]\n",
    "        if alias in var_names_lower:\n",
    "            i = np.where(var_names_lower == alias)[0][0]\n",
    "            return var_names[i]\n",
    "    except:\n",
    "        pass\n",
    "  \n",
    "\n",
    "    try:\n",
    "        alias =  aliases_rev_d[gene_lower]\n",
    "        if alias in var_names_lower:\n",
    "            i = np.where(var_names_lower == alias)[0][0]\n",
    "            return var_names[i]\n",
    "    except:\n",
    "        pass\n",
    "    \n",
    "    \n",
    "    return 'not there'"
   ]
  },
  {
   "cell_type": "code",
   "execution_count": 179,
   "id": "e92dd3f7",
   "metadata": {},
   "outputs": [],
   "source": [
    "class translator(object):\n",
    "    '''\n",
    "    Mapper between ids in your dataset and hub genes. This is an automatic attempt that accounts\n",
    "    for differences in capitalization and some aliases. You can manually add to the mapper through\n",
    "    the self.add_map() function.\n",
    "    \n",
    "    hub: hub dictionary of multiple hubs or a single hub list\n",
    "    \n",
    "    data: addata object\n",
    "        The hub gene names will be mapped to the gene names in these var_names\n",
    "    '''\n",
    "    def __init__(self, hub = None, data = None):\n",
    "        \n",
    "#         if data is None and gene_list is None:\n",
    "#             raise ValueError(\"Please pass either anndata or a gene list\")\n",
    "#         if data is not None and gene_list is not None:\n",
    "#             raise ValueError(\"Please pass only anndata or a gene list\")\n",
    "            \n",
    "        if hub is not None:\n",
    "            #break hub in to genes\n",
    "            self.hub_genes = []\n",
    "            \n",
    "            if isinstance(hub, dict):\n",
    "                for hu in hub:\n",
    "                    self.hub_genes += [x[0] for x in hub[hu]]\n",
    "            elif isinstance(hub, list):\n",
    "                self.hub_genes = [x[0] for x in hub]\n",
    "            else:\n",
    "                raise ValueError(\"hub needs to be a hub dictionary or a single hub list\")\n",
    "                \n",
    "                \n",
    "        self.initial_genes_not_in_data = [x for x in self.hub_genes if x not in data.var_names]\n",
    "        \n",
    "        print(f'{len(self.initial_genes_not_in_data)} of {len(self.hub_genes)} genes not initially present')\n",
    "        \n",
    "        \n",
    "        self.var_names_lower  = data.var_names.map(lambda x: x.lower())\n",
    "        \n",
    "        \n",
    "        \n",
    "        \n",
    "        self.aliases = pd.read_csv('../data/gene_lists/id_translation/mart_export.txt')\n",
    "        self.aliases['Gene Synonym'] = aliases['Gene Synonym'].str.lower()\n",
    "        self.aliases['Gene name'] = aliases['Gene name'].str.lower()\n",
    "        self.aliases['UniProtKB Gene Name symbol'] = aliases['UniProtKB Gene Name symbol'].str.lower()\n",
    "\n",
    "        self.aliases = self.aliases[(self.aliases['Gene Synonym'].isin(self.var_names_lower))\\\n",
    "            | (self.aliases['Gene name'].isin(self.var_names_lower))]\n",
    "\n",
    "        \n",
    "        \n",
    "        self.aliases_d = dict(zip(aliases['Gene Synonym'], aliases['Gene name']))\n",
    "        self.aliases_rev_d = dict(zip(aliases['Gene name'], aliases['Gene Synonym']))\n",
    "        \n",
    "        \n",
    "        \n",
    "        def translate_gene(var_names, var_names_lower, gene):\n",
    "    \n",
    "            gene_lower = gene.lower()\n",
    "\n",
    "            if gene_lower in var_names_lower:\n",
    "                i = np.where(var_names_lower == gene.lower())[0][0]\n",
    "                return var_names[i]\n",
    "\n",
    "            try:\n",
    "                alias =  aliases_d[gene_lower]\n",
    "                if alias in var_names_lower:\n",
    "                    i = np.where(var_names_lower == alias)[0][0]\n",
    "                    return var_names[i]\n",
    "            except:\n",
    "                pass\n",
    "\n",
    "\n",
    "            try:\n",
    "                alias =  aliases_rev_d[gene_lower]\n",
    "                if alias in var_names_lower:\n",
    "                    i = np.where(var_names_lower == alias)[0][0]\n",
    "                    return var_names[i]\n",
    "            except:\n",
    "                pass\n",
    "\n",
    "\n",
    "            return 'not there'\n",
    "        \n",
    "        \n",
    "        \n",
    "        self.translated_genes = []\n",
    "        self.mapper = {}\n",
    "        self.untranslated_genes = []\n",
    "        for gene in self.initial_genes_not_in_data:\n",
    "            \n",
    "            mapped = translate_gene(data.var_names, self.var_names_lower, gene)\n",
    "            \n",
    "            self.translated_genes.append(mapped)\n",
    "            \n",
    "            if mapped != 'not there':\n",
    "                self.mapper[gene] = mapped\n",
    "            else:\n",
    "                self.untranslated_genes.append(gene)\n",
    "            \n",
    "        self.translated_genes = [x for x in self.translated_genes if x != 'not there']\n",
    "        \n",
    "            \n",
    "        print(f'{len(self.translated_genes)} of {len(self.initial_genes_not_in_data)} translated')\n",
    "        print(f'{len(self.initial_genes_not_in_data)- len(self.translated_genes)} still not present')\n",
    "        \n",
    "        \n",
    "    def add_map(self, d):\n",
    "        '''\n",
    "        manually pass a dictionary to appened to self.mapper\n",
    "        '''\n",
    "        self.mapper = self.mapper | d\n",
    "            "
   ]
  },
  {
   "cell_type": "code",
   "execution_count": 185,
   "id": "dd95d07d",
   "metadata": {},
   "outputs": [
    {
     "name": "stdout",
     "output_type": "stream",
     "text": [
      "4362 of 18811 genes not initially present\n",
      "1316 of 4362 translated\n",
      "3046 still not present\n"
     ]
    }
   ],
   "source": [
    "#with d\n",
    "poo = translator(data = nash, hub = hubs)"
   ]
  },
  {
   "cell_type": "code",
   "execution_count": null,
   "id": "322ece02",
   "metadata": {},
   "outputs": [],
   "source": []
  },
  {
   "cell_type": "code",
   "execution_count": null,
   "id": "7de89436",
   "metadata": {},
   "outputs": [],
   "source": []
  },
  {
   "cell_type": "code",
   "execution_count": 213,
   "id": "87c23f9a",
   "metadata": {},
   "outputs": [],
   "source": [
    "def score_hub(adata,\n",
    "              hub,\n",
    "              save_mem = False,\n",
    "              n_bins = 25,\n",
    "              ctrl_size = 50,\n",
    "              binarize = True,\n",
    "              importance = True,\n",
    "              translator = None):\n",
    "    \n",
    "    '''Take tranformed adata and hub and return score'''\n",
    "    \n",
    "    \n",
    "    \n",
    "    cdata = adata.copy()\n",
    "    \n",
    "    np.random.seed(0)\n",
    "    var_names = cdata.var_names\n",
    "    \n",
    "    \n",
    "    \n",
    "    genes_not_in_adata = [x[0] for x in hub if x[0] not in var_names]\n",
    "    \n",
    "    if len(genes_not_in_adata) > 0 and translator is None:\n",
    "        print(f'{len(hub)-len(genes_not_in_adata)}/{len(hub)}({round((len(hub)-len(genes_not_in_adata))/len(hub)*100,2)}%) genes present in data')\n",
    "        print('passing a translator may improve overlap')\n",
    "        print('Not present:', genes_not_in_adata)\n",
    "        \n",
    "        \n",
    "    ####i left off here. time to add the translator\n",
    "    \n",
    "    \n",
    "    hub = [x for x in hub if x[0] in var_names]\n",
    "    \n",
    "    present_genes = [x[0] for x in hub]\n",
    "    \n",
    "    if len(present_genes) == 0:\n",
    "        raise ValueError(\"No genes matched your dataset. Try using a translator\")\n",
    "\n",
    "    \n",
    "    #densify to make amplification faster\n",
    "    try:\n",
    "        cdata.X = cdata.X.toarray() #faster but more memory\n",
    "    except:\n",
    "        pass\n",
    "    \n",
    "    \n",
    "    \n",
    "    \n",
    "    ######## time to select background genes ########\n",
    "    \n",
    "    #get mean expression for each gene\n",
    "    gene_exp_avg = pd.Series(np.nanmean(cdata.X, axis=0), index = cdata.var_names)\n",
    "    gene_exp_avg = gene_exp_avg[np.isfinite(gene_exp_avg)] #sometimes data missing?\n",
    "    \n",
    "    \n",
    "#     #if i wanted to rank by dropout instead\n",
    "#     nash.X.getnnz(axis = 0) #get num of nonzero per gene, FOR NONSPARSE\n",
    "#     np.count_nonzero(nash.X.toarray(), axis=0) #for dense\n",
    "    \n",
    "    \n",
    "    # num of genes -1 / n_bins\n",
    "    n_items = int(np.round(len(gene_exp_avg) / (n_bins - 1)))\n",
    "    \n",
    "    \n",
    "    \n",
    "    #first gives a numeric rank from min to the gene averages, then floor divide by previous n_items\n",
    "    gene_ranks = gene_exp_avg.rank(method='min') // n_items\n",
    "    \n",
    "    \n",
    "    \n",
    "    control_genes = set()\n",
    "    # now pick `ctrl_size` genes from every gene rank\n",
    "    for rank in np.unique(gene_ranks.loc[present_genes]): \n",
    "        r_genes = np.array(gene_ranks[gene_ranks == rank].index) #genes with equal rank values to input gene\n",
    "        #len r_genes should equal n_tems for every rank\n",
    "        np.random.shuffle(r_genes)\n",
    "        control_genes.update(set(r_genes[:ctrl_size])) #takes the first ctrl_size num of shuffled genes\n",
    "        \n",
    "    ######## done background selection ########\n",
    "    \n",
    "    \n",
    "    \n",
    "    ### binarize\n",
    "    if binarize:\n",
    "        cdata.X[cdata.X > 0] = 1\n",
    "        \n",
    "    \n",
    "    \n",
    "    #### amplify expression matrix by gene importance\n",
    "    if importance:\n",
    "        for gene, importance in hub:\n",
    "            i = np.where(cdata.var_names == gene)[0][0]\n",
    "            cdata.X[:,i] = cdata.X[:,i] * importance\n",
    "        \n",
    "        \n",
    "        \n",
    "        \n",
    "     #### time to get scores ####\n",
    "\n",
    "    #mean for input genes for each cell\n",
    "    X_list = cdata[:, present_genes].X #cells X input genes matrix\n",
    "    X_list = np.nanmean(X_list, axis=1, dtype='float64')\n",
    "\n",
    "    #X_control is mean of control genes for each cell\n",
    "    control_genes = list(control_genes - set(present_genes))\n",
    "    X_control = cdata[:, control_genes].X #cells X control genes\n",
    "    X_control = np.nanmean(X_control, axis=1, dtype='float64')\n",
    "        \n",
    "    \n",
    "\n",
    "    score = X_list - X_control\n",
    "\n",
    "    \n",
    "    return score\n",
    "    \n",
    "    \n",
    "    "
   ]
  },
  {
   "cell_type": "code",
   "execution_count": null,
   "id": "f1435e82",
   "metadata": {},
   "outputs": [],
   "source": []
  },
  {
   "cell_type": "code",
   "execution_count": null,
   "id": "c1bb79ed",
   "metadata": {},
   "outputs": [],
   "source": []
  },
  {
   "cell_type": "code",
   "execution_count": 215,
   "id": "52a85748",
   "metadata": {},
   "outputs": [
    {
     "name": "stdout",
     "output_type": "stream",
     "text": [
      "27/36(75.0%) genes present in data\n",
      "Running !!!!!!translate!!! may improve overlap\n",
      "Not present: ['Pcnxl2', 'Slurp1', 'Gpr64', 'Col8a2', 'Myl7', 'Mira', 'Clic3', 'Hoxd10', 'Hoxd13']\n"
     ]
    },
    {
     "data": {
      "text/plain": [
       "ArrayView([ 3.02114624,  4.47642955,  4.29175987, ..., -0.13065526,\n",
       "            1.28963621,  3.86062198])"
      ]
     },
     "execution_count": 215,
     "metadata": {},
     "output_type": "execute_result"
    }
   ],
   "source": [
    "score_hub(nash, hubs[list(hubs)[1]], binarize = False)"
   ]
  },
  {
   "cell_type": "code",
   "execution_count": 216,
   "id": "297d3a0f",
   "metadata": {},
   "outputs": [
    {
     "name": "stdout",
     "output_type": "stream",
     "text": [
      "27/36(75.0%) genes present in data\n",
      "Running !!!!!!translate!!! may improve overlap\n",
      "Not present: ['Pcnxl2', 'Slurp1', 'Gpr64', 'Col8a2', 'Myl7', 'Mira', 'Clic3', 'Hoxd10', 'Hoxd13']\n"
     ]
    },
    {
     "data": {
      "text/plain": [
       "ArrayView([ 3.06676939,  5.56052046,  3.13302517, ..., -0.06317411,\n",
       "            0.91679507,  2.66078868])"
      ]
     },
     "execution_count": 216,
     "metadata": {},
     "output_type": "execute_result"
    }
   ],
   "source": [
    "score_hub(nash, hubs[list(hubs)[1]], binarize = True)"
   ]
  },
  {
   "cell_type": "code",
   "execution_count": 217,
   "id": "45109c2a",
   "metadata": {},
   "outputs": [
    {
     "name": "stdout",
     "output_type": "stream",
     "text": [
      "27/36(75.0%) genes present in data\n",
      "Running !!!!!!translate!!! may improve overlap\n",
      "Not present: ['Pcnxl2', 'Slurp1', 'Gpr64', 'Col8a2', 'Myl7', 'Mira', 'Clic3', 'Hoxd10', 'Hoxd13']\n"
     ]
    },
    {
     "data": {
      "text/plain": [
       "ArrayView([-0.15742064, -0.0741257 , -0.08709416, ..., -0.13065526,\n",
       "           -0.1042478 , -0.11556028])"
      ]
     },
     "execution_count": 217,
     "metadata": {},
     "output_type": "execute_result"
    }
   ],
   "source": [
    "score_hub(nash, hubs[list(hubs)[1]], binarize = False, importance = False)"
   ]
  },
  {
   "cell_type": "code",
   "execution_count": 218,
   "id": "8c69b9cf",
   "metadata": {},
   "outputs": [
    {
     "ename": "NameError",
     "evalue": "name 'var_names' is not defined",
     "output_type": "error",
     "traceback": [
      "\u001b[0;31m---------------------------------------------------------------------------\u001b[0m",
      "\u001b[0;31mNameError\u001b[0m                                 Traceback (most recent call last)",
      "Input \u001b[0;32mIn [218]\u001b[0m, in \u001b[0;36m<cell line: 1>\u001b[0;34m()\u001b[0m\n\u001b[0;32m----> 1\u001b[0m \u001b[43mtranslator\u001b[49m\u001b[43m(\u001b[49m\u001b[38;5;124;43m'\u001b[39;49m\u001b[38;5;124;43mPcnxl2\u001b[39;49m\u001b[38;5;124;43m'\u001b[39;49m\u001b[43m)\u001b[49m\n",
      "Input \u001b[0;32mIn [3]\u001b[0m, in \u001b[0;36mtranslator\u001b[0;34m(gene)\u001b[0m\n\u001b[1;32m      1\u001b[0m \u001b[38;5;28;01mdef\u001b[39;00m \u001b[38;5;21mtranslator\u001b[39m(gene):\n\u001b[0;32m----> 2\u001b[0m     \u001b[38;5;28;01mif\u001b[39;00m gene \u001b[38;5;129;01min\u001b[39;00m \u001b[43mvar_names\u001b[49m:\n\u001b[1;32m      3\u001b[0m         \u001b[38;5;28;01mreturn\u001b[39;00m gene\n\u001b[1;32m      5\u001b[0m     \u001b[38;5;66;03m#returns the adata variant if the differences is only capitalization\u001b[39;00m\n",
      "\u001b[0;31mNameError\u001b[0m: name 'var_names' is not defined"
     ]
    }
   ],
   "source": [
    "translator('Pcnxl2')"
   ]
  },
  {
   "cell_type": "code",
   "execution_count": null,
   "id": "6fddf561",
   "metadata": {},
   "outputs": [],
   "source": []
  },
  {
   "cell_type": "markdown",
   "id": "739c6c89",
   "metadata": {},
   "source": [
    "basically takes a random set of genes with similar means as background then comparese the expression of input \n",
    "to the background gene average"
   ]
  },
  {
   "cell_type": "code",
   "execution_count": null,
   "id": "6c39649e",
   "metadata": {},
   "outputs": [],
   "source": []
  },
  {
   "cell_type": "markdown",
   "id": "16f6dbf3",
   "metadata": {},
   "source": [
    "# Testing"
   ]
  },
  {
   "cell_type": "code",
   "execution_count": 8,
   "id": "a1e9e602",
   "metadata": {},
   "outputs": [],
   "source": [
    "import scanpy as sc\n",
    "import pickle\n",
    "\n",
    "#import data and markers\n",
    "\n",
    "\n",
    "with open('../data/gene_lists/mouse_markers.txt') as f:\n",
    "    markers = list(f)\n",
    "markers = [x for x in markers if not x.startswith('#') and ':' in x]\n",
    "markers = dict(map(lambda x: x.strip().split(':'), markers)) #dict marker:role\n",
    "\n",
    "\n",
    "\n",
    "with open('../data/files/5_TMS_HUBS_DICTIONARY_FILTERED.pickle', 'rb') as handle:\n",
    "    hubs = pickle.load(handle)\n",
    "    \n",
    "hub_metadata = pd.read_pickle('../data/files/5_TMS_HUBS_METADATA_FILTERED.pickle')\n",
    "\n",
    "\n",
    "with open('../data/files/5_TMS_SIGS_DICTIONARY_FILTERED.pickle', 'rb') as handle:\n",
    "    signatures = pickle.load(handle)\n",
    "    \n",
    "sig_metadata = pd.read_pickle('../data/files/5_TMS_SIGS_METADATA_FILTERED.pickle')\n",
    "\n",
    "with open('../data/files/5_TMS_HUBS_NxN_corrs.pickle', 'rb') as handle:\n",
    "    hub_Ms = pickle.load(handle)\n",
    "    \n",
    "    \n",
    "genes = []\n",
    "for hub in hubs:\n",
    "    genes += [x[0] for x in hubs[hub]]\n",
    "    \n",
    "genes = list(set(genes))"
   ]
  },
  {
   "cell_type": "code",
   "execution_count": 9,
   "id": "992497d5",
   "metadata": {},
   "outputs": [],
   "source": [
    "sc.tl.score_genes?"
   ]
  },
  {
   "cell_type": "code",
   "execution_count": 10,
   "id": "0ab35eeb",
   "metadata": {},
   "outputs": [
    {
     "name": "stderr",
     "output_type": "stream",
     "text": [
      "/home/ubuntu/miniconda3/envs/sc/lib/python3.10/site-packages/anndata/compat/__init__.py:232: FutureWarning: Moving element from .uns['neighbors']['distances'] to .obsp['distances'].\n",
      "\n",
      "This is where adjacency matrices should go now.\n",
      "  warn(\n",
      "/home/ubuntu/miniconda3/envs/sc/lib/python3.10/site-packages/anndata/compat/__init__.py:232: FutureWarning: Moving element from .uns['neighbors']['connectivities'] to .obsp['connectivities'].\n",
      "\n",
      "This is where adjacency matrices should go now.\n",
      "  warn(\n"
     ]
    }
   ],
   "source": [
    "nash = sc.read_h5ad('../data/p16_td_pos/GSE155182_NASH_7m_liver.h5ad').raw.to_adata() #NASH liver"
   ]
  },
  {
   "cell_type": "code",
   "execution_count": 38,
   "id": "3c752c5a",
   "metadata": {},
   "outputs": [
    {
     "name": "stdout",
     "output_type": "stream",
     "text": [
      "genes are not in var_names and ignored: ['jibble']\n"
     ]
    },
    {
     "data": {
      "text/plain": [
       "Sox17             0.309481\n",
       "Mrpl15            0.165281\n",
       "Lypla1            0.218005\n",
       "Gm37988           0.001803\n",
       "Tcea1             0.461087\n",
       "                    ...   \n",
       "AC168977.1        0.003891\n",
       "AC149090.1        1.041641\n",
       "CAAA01118383.1    0.139656\n",
       "CAAA01147332.1    0.014362\n",
       "tdTomato          1.770611\n",
       "Length: 16561, dtype: float64"
      ]
     },
     "execution_count": 38,
     "metadata": {},
     "output_type": "execute_result"
    }
   ],
   "source": [
    "#obs_avg\n",
    "score_genes(nash, ['Cdkn2a', 'jibble', 'Cdkn1a', 'Notch1', 'Nfkb1', 'Il6', 'Cxcl13', 'Gapdh'])"
   ]
  },
  {
   "cell_type": "code",
   "execution_count": 40,
   "id": "c028e534",
   "metadata": {},
   "outputs": [
    {
     "name": "stdout",
     "output_type": "stream",
     "text": [
      "genes are not in var_names and ignored: ['jibble']\n"
     ]
    },
    {
     "data": {
      "text/plain": [
       "690"
      ]
     },
     "execution_count": 40,
     "metadata": {},
     "output_type": "execute_result"
    }
   ],
   "source": [
    "#n_items\n",
    "score_genes(nash, ['Cdkn2a', 'jibble', 'Cdkn1a', 'Notch1', 'Nfkb1', 'Il6', 'Cxcl13', 'Gapdh'])"
   ]
  },
  {
   "cell_type": "code",
   "execution_count": 51,
   "id": "8fcc8101",
   "metadata": {},
   "outputs": [
    {
     "name": "stdout",
     "output_type": "stream",
     "text": [
      "genes are not in var_names and ignored: ['jibble']\n"
     ]
    },
    {
     "data": {
      "text/plain": [
       "Sox17             19.0\n",
       "Mrpl15            16.0\n",
       "Lypla1            18.0\n",
       "Gm37988            3.0\n",
       "Tcea1             21.0\n",
       "                  ... \n",
       "AC168977.1         4.0\n",
       "AC149090.1        23.0\n",
       "CAAA01118383.1    16.0\n",
       "CAAA01147332.1     7.0\n",
       "tdTomato          23.0\n",
       "Length: 16561, dtype: float64"
      ]
     },
     "execution_count": 51,
     "metadata": {},
     "output_type": "execute_result"
    }
   ],
   "source": [
    "#obs_cut\n",
    "score_genes(nash, ['Cdkn2a', 'jibble', 'Cdkn1a', 'Notch1', 'Nfkb1', 'Il6', 'Cxcl13', 'Gapdh'])"
   ]
  },
  {
   "cell_type": "code",
   "execution_count": 97,
   "id": "63c516c2",
   "metadata": {},
   "outputs": [
    {
     "name": "stdout",
     "output_type": "stream",
     "text": [
      "genes are not in var_names and ignored: ['jibble']\n"
     ]
    },
    {
     "name": "stderr",
     "output_type": "stream",
     "text": [
      "/tmp/ipykernel_12699/4053448099.py:101: FutureWarning: Passing a set as an indexer is deprecated and will raise in a future version. Use a list instead.\n",
      "  for cut in np.unique(obs_cut.loc[gene_list]): #obs_cut for just the input list, only the unique values\n"
     ]
    },
    {
     "data": {
      "text/plain": [
       "array([ 0.34565728,  0.31996268,  0.25418534, ..., -0.19514021,\n",
       "        0.07845593,  0.20994029])"
      ]
     },
     "execution_count": 97,
     "metadata": {},
     "output_type": "execute_result"
    }
   ],
   "source": [
    "\n",
    "wut = score_genes(nash, ['Cdkn2a', 'jibble', 'Cdkn1a', 'Notch1', 'Nfkb1', 'Il6', 'Cxcl13', 'Gapdh'])\n",
    "wut"
   ]
  },
  {
   "cell_type": "code",
   "execution_count": 98,
   "id": "9f8448bf",
   "metadata": {},
   "outputs": [
    {
     "data": {
      "text/plain": [
       "(7129,)"
      ]
     },
     "execution_count": 98,
     "metadata": {},
     "output_type": "execute_result"
    }
   ],
   "source": [
    "wut.shape"
   ]
  },
  {
   "cell_type": "code",
   "execution_count": 43,
   "id": "6d1fdb81",
   "metadata": {},
   "outputs": [
    {
     "data": {
      "text/plain": [
       "690.0416666666666"
      ]
     },
     "execution_count": 43,
     "metadata": {},
     "output_type": "execute_result"
    }
   ],
   "source": [
    "16561/24"
   ]
  },
  {
   "cell_type": "code",
   "execution_count": 81,
   "id": "48687746",
   "metadata": {},
   "outputs": [
    {
     "data": {
      "text/plain": [
       "{'c'}"
      ]
     },
     "execution_count": 81,
     "metadata": {},
     "output_type": "execute_result"
    }
   ],
   "source": [
    "set(['a', 'b', 'c']) - set(['a', 'b', 'd'])"
   ]
  },
  {
   "cell_type": "code",
   "execution_count": 100,
   "id": "cdfe9ed2",
   "metadata": {},
   "outputs": [
    {
     "data": {
      "text/plain": [
       "TTGGTTTGTTACACAC-1-1-1-1-1-1-0-1-0-0    0.345657\n",
       "ATGAGGGGTTTGAAAG-1-0-1-1-1-0-1-1-0-0    0.319963\n",
       "GTCGTTCGTCGACGCT-1-0-1-1-1-0-1-1-0-0    0.254185\n",
       "TAAGTCGCACTGGATT-1-0-1-1-1-0-1-1-0-0    0.340728\n",
       "CTCCCTCCACACGGTC-1-1-1-1-1-0-1-1-0-0    0.329135\n",
       "                                          ...   \n",
       "TTGTTTGTCACTCGAA-1-1-1-1-1-1-1-1-1-1    0.158168\n",
       "TTTATGCGTGTGAATA-1-1-1-1-1-1-1-1-1-1    0.243542\n",
       "TTTCATGAGAGGATCC-1-1-1-1-1-1-1-1-1-1   -0.195140\n",
       "TTTCCTCAGACATCCT-1-1-1-1-1-1-1-1-1-1    0.078456\n",
       "TTTGACTCAAACCACT-1-1-1-1-1-1-1-1-1-1    0.209940\n",
       "Length: 7129, dtype: float64"
      ]
     },
     "execution_count": 100,
     "metadata": {},
     "output_type": "execute_result"
    }
   ],
   "source": [
    "pd.Series(\n",
    "        np.array(wut).ravel(), index=nash.obs_names, dtype='float64'\n",
    "    )\n"
   ]
  },
  {
   "cell_type": "code",
   "execution_count": 101,
   "id": "68ab849b",
   "metadata": {},
   "outputs": [
    {
     "data": {
      "text/html": [
       "<div>\n",
       "<style scoped>\n",
       "    .dataframe tbody tr th:only-of-type {\n",
       "        vertical-align: middle;\n",
       "    }\n",
       "\n",
       "    .dataframe tbody tr th {\n",
       "        vertical-align: top;\n",
       "    }\n",
       "\n",
       "    .dataframe thead th {\n",
       "        text-align: right;\n",
       "    }\n",
       "</style>\n",
       "<table border=\"1\" class=\"dataframe\">\n",
       "  <thead>\n",
       "    <tr style=\"text-align: right;\">\n",
       "      <th></th>\n",
       "      <th>cell type</th>\n",
       "      <th>n_counts</th>\n",
       "      <th>n_genes</th>\n",
       "      <th>percent_mito</th>\n",
       "      <th>sample</th>\n",
       "      <th>tom</th>\n",
       "      <th>tom UMI</th>\n",
       "      <th>score</th>\n",
       "    </tr>\n",
       "  </thead>\n",
       "  <tbody>\n",
       "    <tr>\n",
       "      <th>TTGGTTTGTTACACAC-1-1-1-1-1-1-0-1-0-0</th>\n",
       "      <td>Endothelial cell</td>\n",
       "      <td>19137.0</td>\n",
       "      <td>5147</td>\n",
       "      <td>0.019334</td>\n",
       "      <td>Tom</td>\n",
       "      <td>tom+</td>\n",
       "      <td>7.824493</td>\n",
       "      <td>0.345657</td>\n",
       "    </tr>\n",
       "    <tr>\n",
       "      <th>ATGAGGGGTTTGAAAG-1-0-1-1-1-0-1-1-0-0</th>\n",
       "      <td>Endothelial cell</td>\n",
       "      <td>14254.0</td>\n",
       "      <td>4180</td>\n",
       "      <td>0.047075</td>\n",
       "      <td>Whole</td>\n",
       "      <td>tom+</td>\n",
       "      <td>13.336349</td>\n",
       "      <td>0.319963</td>\n",
       "    </tr>\n",
       "    <tr>\n",
       "      <th>GTCGTTCGTCGACGCT-1-0-1-1-1-0-1-1-0-0</th>\n",
       "      <td>Endothelial cell</td>\n",
       "      <td>10639.0</td>\n",
       "      <td>3532</td>\n",
       "      <td>0.046433</td>\n",
       "      <td>Whole</td>\n",
       "      <td>tom-</td>\n",
       "      <td>2.827755</td>\n",
       "      <td>0.254185</td>\n",
       "    </tr>\n",
       "    <tr>\n",
       "      <th>TAAGTCGCACTGGATT-1-0-1-1-1-0-1-1-0-0</th>\n",
       "      <td>Endothelial cell</td>\n",
       "      <td>5972.0</td>\n",
       "      <td>2567</td>\n",
       "      <td>0.032150</td>\n",
       "      <td>Whole</td>\n",
       "      <td>tom+</td>\n",
       "      <td>16.658772</td>\n",
       "      <td>0.340728</td>\n",
       "    </tr>\n",
       "    <tr>\n",
       "      <th>CTCCCTCCACACGGTC-1-1-1-1-1-0-1-1-0-0</th>\n",
       "      <td>Endothelial cell</td>\n",
       "      <td>6486.0</td>\n",
       "      <td>2744</td>\n",
       "      <td>0.053500</td>\n",
       "      <td>Tom</td>\n",
       "      <td>tom+</td>\n",
       "      <td>12.693138</td>\n",
       "      <td>0.329135</td>\n",
       "    </tr>\n",
       "    <tr>\n",
       "      <th>...</th>\n",
       "      <td>...</td>\n",
       "      <td>...</td>\n",
       "      <td>...</td>\n",
       "      <td>...</td>\n",
       "      <td>...</td>\n",
       "      <td>...</td>\n",
       "      <td>...</td>\n",
       "      <td>...</td>\n",
       "    </tr>\n",
       "    <tr>\n",
       "      <th>TTGTTTGTCACTCGAA-1-1-1-1-1-1-1-1-1-1</th>\n",
       "      <td>T cell</td>\n",
       "      <td>15563.0</td>\n",
       "      <td>4503</td>\n",
       "      <td>0.035404</td>\n",
       "      <td>Tom</td>\n",
       "      <td>tom+</td>\n",
       "      <td>5.681065</td>\n",
       "      <td>0.158168</td>\n",
       "    </tr>\n",
       "    <tr>\n",
       "      <th>TTTATGCGTGTGAATA-1-1-1-1-1-1-1-1-1-1</th>\n",
       "      <td>Neutrophil</td>\n",
       "      <td>2502.0</td>\n",
       "      <td>920</td>\n",
       "      <td>0.006795</td>\n",
       "      <td>Tom</td>\n",
       "      <td>tom+</td>\n",
       "      <td>7.693857</td>\n",
       "      <td>0.243542</td>\n",
       "    </tr>\n",
       "    <tr>\n",
       "      <th>TTTCATGAGAGGATCC-1-1-1-1-1-1-1-1-1-1</th>\n",
       "      <td>B cell</td>\n",
       "      <td>2085.0</td>\n",
       "      <td>946</td>\n",
       "      <td>0.049400</td>\n",
       "      <td>Tom</td>\n",
       "      <td>tom+</td>\n",
       "      <td>0.000000</td>\n",
       "      <td>-0.195140</td>\n",
       "    </tr>\n",
       "    <tr>\n",
       "      <th>TTTCCTCAGACATCCT-1-1-1-1-1-1-1-1-1-1</th>\n",
       "      <td>Neutrophil</td>\n",
       "      <td>2879.0</td>\n",
       "      <td>1105</td>\n",
       "      <td>0.058701</td>\n",
       "      <td>Tom</td>\n",
       "      <td>tom+</td>\n",
       "      <td>0.000000</td>\n",
       "      <td>0.078456</td>\n",
       "    </tr>\n",
       "    <tr>\n",
       "      <th>TTTGACTCAAACCACT-1-1-1-1-1-1-1-1-1-1</th>\n",
       "      <td>T cell</td>\n",
       "      <td>9979.0</td>\n",
       "      <td>3713</td>\n",
       "      <td>0.037579</td>\n",
       "      <td>Tom</td>\n",
       "      <td>tom+</td>\n",
       "      <td>7.165486</td>\n",
       "      <td>0.209940</td>\n",
       "    </tr>\n",
       "  </tbody>\n",
       "</table>\n",
       "<p>7129 rows × 8 columns</p>\n",
       "</div>"
      ],
      "text/plain": [
       "                                             cell type  n_counts  n_genes  \\\n",
       "TTGGTTTGTTACACAC-1-1-1-1-1-1-0-1-0-0  Endothelial cell   19137.0     5147   \n",
       "ATGAGGGGTTTGAAAG-1-0-1-1-1-0-1-1-0-0  Endothelial cell   14254.0     4180   \n",
       "GTCGTTCGTCGACGCT-1-0-1-1-1-0-1-1-0-0  Endothelial cell   10639.0     3532   \n",
       "TAAGTCGCACTGGATT-1-0-1-1-1-0-1-1-0-0  Endothelial cell    5972.0     2567   \n",
       "CTCCCTCCACACGGTC-1-1-1-1-1-0-1-1-0-0  Endothelial cell    6486.0     2744   \n",
       "...                                                ...       ...      ...   \n",
       "TTGTTTGTCACTCGAA-1-1-1-1-1-1-1-1-1-1            T cell   15563.0     4503   \n",
       "TTTATGCGTGTGAATA-1-1-1-1-1-1-1-1-1-1        Neutrophil    2502.0      920   \n",
       "TTTCATGAGAGGATCC-1-1-1-1-1-1-1-1-1-1            B cell    2085.0      946   \n",
       "TTTCCTCAGACATCCT-1-1-1-1-1-1-1-1-1-1        Neutrophil    2879.0     1105   \n",
       "TTTGACTCAAACCACT-1-1-1-1-1-1-1-1-1-1            T cell    9979.0     3713   \n",
       "\n",
       "                                      percent_mito sample   tom    tom UMI  \\\n",
       "TTGGTTTGTTACACAC-1-1-1-1-1-1-0-1-0-0      0.019334    Tom  tom+   7.824493   \n",
       "ATGAGGGGTTTGAAAG-1-0-1-1-1-0-1-1-0-0      0.047075  Whole  tom+  13.336349   \n",
       "GTCGTTCGTCGACGCT-1-0-1-1-1-0-1-1-0-0      0.046433  Whole  tom-   2.827755   \n",
       "TAAGTCGCACTGGATT-1-0-1-1-1-0-1-1-0-0      0.032150  Whole  tom+  16.658772   \n",
       "CTCCCTCCACACGGTC-1-1-1-1-1-0-1-1-0-0      0.053500    Tom  tom+  12.693138   \n",
       "...                                            ...    ...   ...        ...   \n",
       "TTGTTTGTCACTCGAA-1-1-1-1-1-1-1-1-1-1      0.035404    Tom  tom+   5.681065   \n",
       "TTTATGCGTGTGAATA-1-1-1-1-1-1-1-1-1-1      0.006795    Tom  tom+   7.693857   \n",
       "TTTCATGAGAGGATCC-1-1-1-1-1-1-1-1-1-1      0.049400    Tom  tom+   0.000000   \n",
       "TTTCCTCAGACATCCT-1-1-1-1-1-1-1-1-1-1      0.058701    Tom  tom+   0.000000   \n",
       "TTTGACTCAAACCACT-1-1-1-1-1-1-1-1-1-1      0.037579    Tom  tom+   7.165486   \n",
       "\n",
       "                                         score  \n",
       "TTGGTTTGTTACACAC-1-1-1-1-1-1-0-1-0-0  0.345657  \n",
       "ATGAGGGGTTTGAAAG-1-0-1-1-1-0-1-1-0-0  0.319963  \n",
       "GTCGTTCGTCGACGCT-1-0-1-1-1-0-1-1-0-0  0.254185  \n",
       "TAAGTCGCACTGGATT-1-0-1-1-1-0-1-1-0-0  0.340728  \n",
       "CTCCCTCCACACGGTC-1-1-1-1-1-0-1-1-0-0  0.329135  \n",
       "...                                        ...  \n",
       "TTGTTTGTCACTCGAA-1-1-1-1-1-1-1-1-1-1  0.158168  \n",
       "TTTATGCGTGTGAATA-1-1-1-1-1-1-1-1-1-1  0.243542  \n",
       "TTTCATGAGAGGATCC-1-1-1-1-1-1-1-1-1-1 -0.195140  \n",
       "TTTCCTCAGACATCCT-1-1-1-1-1-1-1-1-1-1  0.078456  \n",
       "TTTGACTCAAACCACT-1-1-1-1-1-1-1-1-1-1  0.209940  \n",
       "\n",
       "[7129 rows x 8 columns]"
      ]
     },
     "execution_count": 101,
     "metadata": {},
     "output_type": "execute_result"
    }
   ],
   "source": [
    "nash.obs"
   ]
  },
  {
   "cell_type": "code",
   "execution_count": null,
   "id": "249e97df",
   "metadata": {},
   "outputs": [],
   "source": []
  }
 ],
 "metadata": {
  "kernelspec": {
   "display_name": "Python 3 (ipykernel)",
   "language": "python",
   "name": "python3"
  },
  "language_info": {
   "codemirror_mode": {
    "name": "ipython",
    "version": 3
   },
   "file_extension": ".py",
   "mimetype": "text/x-python",
   "name": "python",
   "nbconvert_exporter": "python",
   "pygments_lexer": "ipython3",
   "version": "3.10.4"
  }
 },
 "nbformat": 4,
 "nbformat_minor": 5
}
